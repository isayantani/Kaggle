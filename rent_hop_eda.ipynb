{
  "metadata": {
    "kernelspec": {
      "display_name": "Python 3",
      "language": "python",
      "name": "python3"
    },
    "language_info": {
      "codemirror_mode": {
        "name": "ipython",
        "version": 3
      },
      "file_extension": ".py",
      "mimetype": "text/x-python",
      "name": "python",
      "nbconvert_exporter": "python",
      "pygments_lexer": "ipython3",
      "version": "3.6.0"
    }
  },
  "nbformat": 4,
  "nbformat_minor": 0,
  "cells": [
    {
      "cell_type": "code",
      "source": "import numpy as np # linear algebra\nimport pandas as pd # data processing, CSV file I/O (e.g. pd.read_csv)\n\nimport matplotlib.pyplot as plt #plotting library\n%matplotlib inline\nimport seaborn as sns    #plotting library\nsns.set(color_codes=True)\nsns.set_style(\"white\")",
      "execution_count": null,
      "outputs": [],
      "metadata": {}
    },
    {
      "cell_type": "code",
      "source": "import sklearn.ensemble\nfrom sklearn.ensemble import RandomForestClassifier, GradientBoostingClassifier\nfrom sklearn.model_selection import train_test_split\nfrom sklearn.metrics import accuracy_score, log_loss",
      "execution_count": null,
      "outputs": [],
      "metadata": {}
    },
    {
      "cell_type": "code",
      "source": "# This Python 3 environment comes with many helpful analytics libraries installed\ntrain_data = pd.read_json(\"../input/train.json\")\ntest_data = pd.read_json(\"../input/test.json\")\ndisplay_count = 2\ntarget = 'interest_level'",
      "execution_count": null,
      "outputs": [],
      "metadata": {}
    },
    {
      "cell_type": "code",
      "source": "train_data.iloc[0]",
      "execution_count": null,
      "outputs": [],
      "metadata": {}
    },
    {
      "cell_type": "markdown",
      "source": "###Calculate number of occurrences of a particular category###",
      "metadata": {}
    },
    {
      "cell_type": "code",
      "source": "def get_value_counts(col, df):\n    result = pd.DataFrame(df[col].value_counts())\n    result = result.sort_values(by=[col], ascending=False)\n    return result",
      "execution_count": null,
      "outputs": [],
      "metadata": {}
    },
    {
      "cell_type": "code",
      "source": "target_values = list(train_data[target].unique())\ntarget_groups = train_data.groupby(target)",
      "execution_count": null,
      "outputs": [],
      "metadata": {}
    },
    {
      "cell_type": "code",
      "source": "global_chart_settings = {\n    'height' : 4,             # height of chart\n    'width' : 8,              # width of chart\n    'bar_width' : 0.9,        # width of bar\n    'title' : 'Number of occurrences of {0}', #default title\n    'ylabel' : 'Occurrence',  #label of y axis\n    'alpha' : None,           # alpha of chart(transparency factor)\n    'lbl_fontsize' : 13,      # font size of labels\n    'title_fontsize' : 13     # font size of title\n}",
      "execution_count": null,
      "outputs": [],
      "metadata": {}
    },
    {
      "cell_type": "markdown",
      "source": "### Function to plot a bar chart with customied settings ###",
      "metadata": {}
    },
    {
      "cell_type": "code",
      "source": "def plot_distributions(xcol, huecol, data, width, height):\n    plt.figure(figsize=(width, height))\n    sns.countplot(x=xcol, hue=huecol, data=data)\n    plt.ylabel('Number of Occurrences', fontsize=12)\n    plt.xlabel(xcol, fontsize=12)\n    plt.show()\n    plt.close()",
      "execution_count": null,
      "outputs": [],
      "metadata": {}
    },
    {
      "cell_type": "code",
      "source": "def plot_seaborn_bar(df, column, ax, i, color, title, chart_styles):\n    n = len(df.index)\n    bar_locations = np.arange(n)\n    ax[i, 0].bar(bar_locations, df[column], color=color)\n    ax[i, 0].set_xticks(bar_locations + 0.1 / 2)\n    ax[i, 0].set_xticklabels(df.index)\n    ax[i, 0].set_ylabel(chart_styles['ylabel'], fontsize=chart_styles['lbl_font'])\n    ax[i, 0].set_title(title, fontsize=chart_styles['title_font'])\n    for x,y in zip(bar_locations, df[column]):\n        ax[i, 0].text(x + 0.05, y + 0.01, '%.0f' % y, ha='center', va= 'bottom')",
      "execution_count": null,
      "outputs": [],
      "metadata": {}
    },
    {
      "cell_type": "code",
      "source": "def plot_histogram(df, column, ax, i, color, title, chart_styles):\n    sns.distplot(df[column], bins=50, kde=False, color=color, ax=ax[i,0])\n    ax[i, 0].set_ylabel(chart_styles['ylabel'], fontsize=chart_styles['lbl_font'])\n    ax[i, 0].set_title(title, fontsize=chart_styles['title_font'])",
      "execution_count": null,
      "outputs": [],
      "metadata": {}
    },
    {
      "cell_type": "code",
      "source": "def draw_boxplot(df, column, ax, i, color, title, chart_styles):\n    sns.boxplot(x=df[column], color=color, ax=ax[i, 0])\n    ax[i, 0].set_ylabel(chart_styles['ylabel'], fontsize=chart_styles['lbl_font'])\n    ax[i, 0].set_title(title, fontsize=chart_styles['title_font'])",
      "execution_count": null,
      "outputs": [],
      "metadata": {}
    },
    {
      "cell_type": "code",
      "source": "def plot_scatter(df, column, ax, i, color, title, chart_styles):\n    plt.scatter(x=df.index, y=df[column])",
      "execution_count": null,
      "outputs": [],
      "metadata": {}
    },
    {
      "cell_type": "code",
      "source": "def plot_chart(subplot_count, dataframes, columns, colors, chart_styles, titles, chart_types):\n    \n    width = chart_styles['width']\n    height = chart_styles['height']\n    fig, ax = plt.subplots(subplot_count, figsize = (width, height), facecolor='w', squeeze=False)\n    for i in range(subplot_count):\n        if chart_types[i] == 'bar':\n            plot_seaborn_bar(dataframes[i], columns[i], ax, i, colors[i], titles[i], chart_styles)\n        \n        if chart_types[i] == 'histogram':\n            plot_histogram(dataframes[i], columns[i], ax, i, colors[i], titles[i], chart_styles)\n            \n        if chart_types[i] == 'boxplot':\n            draw_boxplot(dataframes[i], columns[i], ax, i, colors[i], titles[i], chart_styles) \n            \n        if chart_types[i] == 'scatter':\n            plot_scatter(dataframes[i], columns[i], ax, i, colors[i], titles[i], chart_styles)\n            \nplt.show()\nplt.close()",
      "execution_count": null,
      "outputs": [],
      "metadata": {}
    },
    {
      "cell_type": "markdown",
      "source": "## Bathrooms ##",
      "metadata": {}
    },
    {
      "cell_type": "code",
      "source": "subplot_count = 2\ncolors = ['blue', 'blue']\ncolumns = ['bathrooms', 'bathrooms']\nchart_types = ['bar', 'bar']\ndataframes = []\ndf = get_value_counts('bathrooms', train_data)\ndataframes.append(df)\ndataframes.append(df[df.index >= 3])\nchart_styles = {\n    'height' : 11,\n    'width' : 12,\n    'ylabel' : 'Count',\n    'lbl_font' : 15,\n    'title_font' : 15\n}\ntitles = ['Occurrences of bathrooms', 'Occurrences of bathrooms from 3 and above']\nplot_chart(subplot_count, dataframes, columns, colors, chart_styles, titles, chart_types)",
      "execution_count": null,
      "outputs": [],
      "metadata": {}
    },
    {
      "cell_type": "markdown",
      "source": "**In the upper graph we can see that there are quite many outliers.There are some with only count 1 that can be considered outliers**",
      "metadata": {}
    },
    {
      "cell_type": "markdown",
      "source": "### Bathrooms count in different target groups ###",
      "metadata": {}
    },
    {
      "cell_type": "code",
      "source": "subplot_count = len(target_values)\ncolors = ['blue', 'blue', 'blue']\ncolumns = ['bathrooms', 'bathrooms', 'bathrooms']\nchart_types = ['bar', 'bar', 'bar']\ndataframes = []\ntitles = []\ntitle = 'Bathroom count for target({})'\n\nfor value in target_values:\n    df = get_value_counts('bathrooms', target_groups.get_group(value))\n    dataframes.append(df)\n    titles.append(title.format(value))\n    \nchart_styles = {\n    'height' : 15,\n    'width' : 10,\n    'title' : 'Occurrences of {0}',\n    'ylabel' : 'Count',\n    'lbl_font' : 15,\n    'title_font' : 15\n}\nplot_chart(subplot_count, dataframes, columns, colors, chart_styles, titles, chart_types)",
      "execution_count": null,
      "outputs": [],
      "metadata": {}
    },
    {
      "cell_type": "markdown",
      "source": "## Bedrooms ##",
      "metadata": {}
    },
    {
      "cell_type": "code",
      "source": "subplot_count = 1\ncolors = ['blue']\ncolumns = ['bedrooms', 'bathrooms']\nchart_types = ['bar']\ndataframes = []\ndf = get_value_counts('bedrooms', train_data)\ndataframes.append(df)\nchart_styles = {\n    'height' : 4,\n    'width' : 8,\n    'title' : 'Occurrences of {0}',\n    'ylabel' : 'Count',\n    'lbl_font' : 15,\n    'title_font' : 15\n}\ntitles = ['Occurrence count for bedrooms']\nplot_chart(subplot_count, dataframes, columns, colors, chart_styles, titles, chart_types)",
      "execution_count": null,
      "outputs": [],
      "metadata": {}
    },
    {
      "cell_type": "code",
      "source": "subplot_count = len(target_values)\ncolors = ['blue', 'blue', 'blue']\ncolumns = ['bedrooms', 'bedrooms', 'bedrooms']\nchart_types = ['bar', 'bar', 'bar']\ndataframes = []\ntitles = []\ntitle = 'Bedroom count for target({})'\n\nfor value in target_values:\n    df = get_value_counts('bedrooms', target_groups.get_group(value))\n    dataframes.append(df)\n    titles.append(title.format(value))\n    \nchart_styles = {\n    'height' : 15,\n    'width' : 10,\n    'title' : 'Occurrences of {0}',\n    'ylabel' : 'Count',\n    'lbl_font' : 15,\n    'title_font' : 15\n}\nplot_chart(subplot_count, dataframes, columns, colors, chart_styles, titles, chart_types)",
      "execution_count": null,
      "outputs": [],
      "metadata": {}
    },
    {
      "cell_type": "markdown",
      "source": "## Price ##",
      "metadata": {}
    },
    {
      "cell_type": "code",
      "source": "subplot_count = 3\ncolors = ['blue', 'blue', 'blue']\ncolumns = ['price', 'price', 'price']\nchart_types = ['bar', 'bar', 'bar']\n\ndataframes = []\ndf1 = train_data.groupby('bedrooms').agg({'price' : np.mean})\ndf2 = train_data.groupby('bathrooms').agg({'price' : np.mean})\ndf3 = train_data.groupby(target).agg({'price' : np.mean})\ndataframes.append(df1)\ndataframes.append(df2)\ndataframes.append(df3)\nchart_styles = {\n    'height' : 15,\n    'width' : 10,\n    'ylabel' : 'Count',\n    'lbl_font' : 15,\n    'title_font' : 15\n}\ntitles = ['Total price across bedrooms', 'Total price across bathrooms', 'Total price across interest level']\nplot_chart(subplot_count, dataframes, columns, colors, chart_styles, titles, chart_types)",
      "execution_count": null,
      "outputs": [],
      "metadata": {}
    },
    {
      "cell_type": "markdown",
      "source": "## Plot outliers in price ##",
      "metadata": {}
    },
    {
      "cell_type": "code",
      "source": "ulimit = np.percentile(train_data['price'], 99)\nprint(ulimit)\n\nplt.figure(figsize=(8, 4))\nplt.scatter(np.random.rand(len(train_data)), train_data['price'])\nplt.show()\nplt.close()",
      "execution_count": null,
      "outputs": [],
      "metadata": {}
    },
    {
      "cell_type": "code",
      "source": "chart_df = train_data.copy(deep=True)\nchart_df.ix[chart_df['price'] > 100000, 'price'] = 13000\n\nplt.figure(figsize=(8, 4))\nplt.scatter(np.random.rand(len(chart_df)), chart_df['price'])\nplt.show()\nplt.close()",
      "execution_count": null,
      "outputs": [],
      "metadata": {}
    },
    {
      "cell_type": "code",
      "source": "ulimit = np.percentile(target_groups.get_group('low')['price'], 99)\nprint(ulimit)\n\nplt.figure(figsize=(8, 4))\nplt.scatter(np.random.rand(len(target_groups.get_group('low'))), target_groups.get_group('low')['price'])\nplt.show()\nplt.close()",
      "execution_count": null,
      "outputs": [],
      "metadata": {}
    },
    {
      "cell_type": "code",
      "source": "chart_df = train_data.copy(deep=True)\nchart_df.ix[(chart_df[target] == 'low') & (chart_df['price'] > 1000000), 'price'] = 14500\n\nplt.figure(figsize=(8, 4))\nplt.scatter(np.random.rand(len(chart_df.groupby(target).get_group('low'))), chart_df.groupby(target).get_group('low')['price'])\nplt.show()\nplt.close()",
      "execution_count": null,
      "outputs": [],
      "metadata": {}
    },
    {
      "cell_type": "code",
      "source": "train_data['rooms'] = train_data['bedrooms'] + train_data['bathrooms']\ntrain_data['living_rooms'] = train_data['bedrooms'] - train_data['bathrooms']\ntrain_data['even_rooms'] = train_data['rooms'].apply(lambda x : (x%2) == 0)",
      "execution_count": null,
      "outputs": [],
      "metadata": {}
    },
    {
      "cell_type": "code",
      "source": "def price_per_room(row):\n    rooms = row['rooms']\n    if rooms == 0:\n        return -1\n    price_per_room = row['price'] / rooms\n    return price_per_room\n\ntrain_data['price_per_room'] = train_data.apply(lambda row: price_per_room(row), axis=1)",
      "execution_count": null,
      "outputs": [],
      "metadata": {}
    },
    {
      "cell_type": "markdown",
      "source": "## Date ##",
      "metadata": {}
    },
    {
      "cell_type": "code",
      "source": "train_data['created'] = pd.to_datetime(train_data['created'])\ntrain_data['year'] = train_data['created'].apply(lambda x: x.year)\ntrain_data['month'] = train_data['created'].apply(lambda x: x.month)\ntrain_data['day'] = train_data['created'].apply(lambda x: x.day)\ntrain_data['hour'] = train_data['created'].apply(lambda x: x.hour)",
      "execution_count": null,
      "outputs": [],
      "metadata": {}
    },
    {
      "cell_type": "markdown",
      "source": "## Building_id ##",
      "metadata": {}
    },
    {
      "cell_type": "code",
      "source": "build_group = train_data.groupby([target, 'building_id'])",
      "execution_count": null,
      "outputs": [],
      "metadata": {}
    },
    {
      "cell_type": "code",
      "source": "unstacked_df = build_group.size().unstack(level=0).reset_index()",
      "execution_count": null,
      "outputs": [],
      "metadata": {}
    },
    {
      "cell_type": "code",
      "source": "def get_sum(row):\n    return row['high'] + row['medium'] + row['low']",
      "execution_count": null,
      "outputs": [],
      "metadata": {}
    },
    {
      "cell_type": "code",
      "source": "unstacked_df['total'] = unstacked_df.apply(lambda row: get_sum(row), axis=1)",
      "execution_count": null,
      "outputs": [],
      "metadata": {}
    },
    {
      "cell_type": "code",
      "source": "non_nulls = unstacked_df.ix[pd.notnull(unstacked_df['total'])]\nnon_nulls = non_nulls.sort_values(by=['total'], ascending=False)\nnon_nulls = non_nulls.reset_index()",
      "execution_count": null,
      "outputs": [],
      "metadata": {}
    },
    {
      "cell_type": "code",
      "source": "plt.figure(figsize=(8, 4))\nplt.scatter(x=np.arange(non_nulls.shape[0]), y=non_nulls['total'])\nplt.show()\nplt.close()",
      "execution_count": null,
      "outputs": [],
      "metadata": {}
    },
    {
      "cell_type": "code",
      "source": "high_build_ids = train_data.groupby(target).get_group('high')['building_id']",
      "execution_count": null,
      "outputs": [],
      "metadata": {}
    },
    {
      "cell_type": "markdown",
      "source": "### Naive Modeling ###",
      "metadata": {}
    },
    {
      "cell_type": "code",
      "source": "scores = []\nlog_scores = []",
      "execution_count": null,
      "outputs": [],
      "metadata": {}
    },
    {
      "cell_type": "code",
      "source": "def split_X_y(train_data, features):\n    X = train_data[features]\n    y = train_data[target]\n    return X, y",
      "execution_count": null,
      "outputs": [],
      "metadata": {}
    },
    {
      "cell_type": "code",
      "source": "def build_model(name):\n    clf = None\n    if name == 'Random Forest':\n        clf = RandomForestClassifier()\n    if name == 'gbm':\n        clf = GradientBoostingClassifier()\n    return clf",
      "execution_count": null,
      "outputs": [],
      "metadata": {}
    },
    {
      "cell_type": "code",
      "source": "def fit_model(clf, X_train, y_train):\n    return clf.fit(X_train, y_train)",
      "execution_count": null,
      "outputs": [],
      "metadata": {}
    },
    {
      "cell_type": "code",
      "source": "def model_and_predict(model_name, data, features):\n    X, y = split_X_y(data, features)\n    X_train, X_test, y_train, y_test = train_test_split(X, y, test_size=0.33, random_state=0)\n\n    clf = build_model(model_name)\n    clf = fit_model(clf, X_train, y_train)\n\n    y_pred = clf.predict(X_test)\n    accuracy = accuracy_score(y_test, y_pred)\n    print(\"The accuracy is {}\".format(accuracy))\n    \n    y_proba = clf.predict_proba(X_test)\n    log_loss_score = log_loss(y_test, y_proba)\n    print(\"The log_loss_score is {}\".format(log_loss_score))\n    return clf, accuracy, log_loss_score",
      "execution_count": null,
      "outputs": [],
      "metadata": {}
    },
    {
      "cell_type": "markdown",
      "source": "### Feature engineering ###",
      "metadata": {}
    },
    {
      "cell_type": "code",
      "source": "def filter_records(df, column, query):\n    value_counts = df[column].value_counts()\n    value_counts = pd.DataFrame(value_counts)\n    value_counts = value_counts.query(query)\n    res = df.ix[~df[column].isin(list(value_counts.index))]\n    return res",
      "execution_count": null,
      "outputs": [],
      "metadata": {}
    },
    {
      "cell_type": "code",
      "source": "def process_bathrooms(train_data):\n    # ----------- filter high -------------------\n    df = get_value_counts('bathrooms', target_groups.get_group('high'))\n    df = df.query('bathrooms == 1')\n    train_data = train_data.ix[~train_data['bathrooms'].isin(list(df.index))]\n    return train_data",
      "execution_count": null,
      "outputs": [],
      "metadata": {}
    },
    {
      "cell_type": "code",
      "source": "def remove_outliers(df, column, ulimit):\n    df[column] = df[column].clip(upper=ulimit)\n    return df",
      "execution_count": null,
      "outputs": [],
      "metadata": {}
    },
    {
      "cell_type": "code",
      "source": "train_copy = train_data.copy(deep=True)\ntrain_copy = process_bathrooms(train_copy)\ntrain_copy = remove_outliers(train_copy, 'price', np.percentile(train_copy['price'], 99))\ntrain_copy = remove_outliers(train_copy, 'price_per_room', np.percentile(train_copy['price_per_room'], 99))",
      "execution_count": null,
      "outputs": [],
      "metadata": {}
    },
    {
      "cell_type": "code",
      "source": "train_features = ['bathrooms', 'rooms', 'living_rooms', 'price']\nclf, accuracy, log_score = model_and_predict('Random Forest', train_copy, train_features)\nscores.append(accuracy)\nlog_scores.append(log_score)",
      "execution_count": null,
      "outputs": [],
      "metadata": {}
    },
    {
      "cell_type": "code",
      "source": "scores_df = pd.DataFrame({\"accuracy\" :scores, \"log_loss\" : log_scores})\nscores_df",
      "execution_count": null,
      "outputs": [],
      "metadata": {}
    },
    {
      "cell_type": "markdown",
      "source": "### Predict on test data ###",
      "metadata": {}
    },
    {
      "cell_type": "code",
      "source": "test_data['rooms'] = test_data['bedrooms'] + test_data['bathrooms']\ntest_data['living_rooms'] = test_data['bedrooms'] - test_data['bathrooms']\ntest_data['even_rooms'] = test_data['rooms'].apply(lambda x : (x%2) == 0)\ntest_data['created'] = pd.to_datetime(test_data['created'])\ntest_data['year'] = test_data['created'].apply(lambda x: x.year)\ntest_data['month'] = test_data['created'].apply(lambda x: x.month)\ntest_data['day'] = test_data['created'].apply(lambda x: x.day)\ntest_data['hour'] = test_data['created'].apply(lambda x: x.hour)\ntest_data['price_per_room'] = test_data.apply(lambda row: price_per_room(row), axis=1)",
      "execution_count": null,
      "outputs": [],
      "metadata": {}
    },
    {
      "cell_type": "code",
      "source": "X_test = test_data[train_features]\ny_proba = clf.predict_proba(X_test)",
      "execution_count": null,
      "outputs": [],
      "metadata": {}
    },
    {
      "cell_type": "code",
      "source": "set(pd.isnull(test_data['listing_id']))",
      "execution_count": null,
      "outputs": [],
      "metadata": {}
    },
    {
      "cell_type": "code",
      "source": "clf.classes_",
      "execution_count": null,
      "outputs": [],
      "metadata": {}
    },
    {
      "cell_type": "code",
      "source": "results = []\nfor i in range(len(y_proba)):\n    row = {}\n    proba = y_proba[i]\n    for j in range(len(proba)):\n        row[clf.classes_[j]] = proba[j]\n    results.append(row)",
      "execution_count": null,
      "outputs": [],
      "metadata": {}
    },
    {
      "cell_type": "code",
      "source": "results_df = pd.DataFrame(results)",
      "execution_count": null,
      "outputs": [],
      "metadata": {}
    },
    {
      "cell_type": "code",
      "source": "id_df = test_data[['listing_id']]\nid_df = id_df.reset_index(drop=True)",
      "execution_count": null,
      "outputs": [],
      "metadata": {}
    },
    {
      "cell_type": "code",
      "source": "set(pd.isnull(id_df['listing_id']))",
      "execution_count": null,
      "outputs": [],
      "metadata": {}
    },
    {
      "cell_type": "code",
      "source": "result = pd.concat([results_df, id_df], axis=1)",
      "execution_count": null,
      "outputs": [],
      "metadata": {}
    },
    {
      "cell_type": "code",
      "source": "print(result.shape)\nprint(set(pd.isnull(result['high'])))\nprint(set(pd.isnull(result['low'])))\nprint(set(pd.isnull(result['medium'])))\nprint(set(pd.isnull(result['listing_id'])))",
      "execution_count": null,
      "outputs": [],
      "metadata": {}
    },
    {
      "cell_type": "code",
      "source": "result.head(3)",
      "execution_count": null,
      "outputs": [],
      "metadata": {}
    },
    {
      "cell_type": "code",
      "source": "result.to_csv(\"submission.csv\", index=False)",
      "execution_count": null,
      "outputs": [],
      "metadata": {}
    }
  ]
}