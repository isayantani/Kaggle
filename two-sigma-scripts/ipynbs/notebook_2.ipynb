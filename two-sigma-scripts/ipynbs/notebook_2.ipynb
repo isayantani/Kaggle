{
  "metadata": {
    "kernelspec": {
      "display_name": "Python 3",
      "language": "python",
      "name": "python3"
    },
    "language_info": {
      "codemirror_mode": {
        "name": "ipython",
        "version": 3
      },
      "file_extension": ".py",
      "mimetype": "text/x-python",
      "name": "python",
      "nbconvert_exporter": "python",
      "pygments_lexer": "ipython3",
      "version": "3.6.0"
    }
  },
  "nbformat": 4,
  "nbformat_minor": 0,
  "cells": [
    {
      "cell_type": "markdown",
      "source": "Simple notebook to explore the variables present in the dataset. \n\nPlease upvote if you find it useful :)",
      "metadata": {}
    },
    {
      "cell_type": "code",
      "source": "# This Python 3 environment comes with many helpful analytics libraries installed\n# It is defined by the kaggle/python docker image: https://github.com/kaggle/docker-python\n# For example, here's several helpful packages to load in \n\nimport numpy as np # linear algebra\nimport pandas as pd # data processing, CSV file I/O (e.g. pd.read_csv)\nimport matplotlib.pyplot as plt\nimport seaborn as sns\n\n%matplotlib inline\n\npd.set_option('display.max_columns', 120)",
      "execution_count": null,
      "outputs": [],
      "metadata": {}
    },
    {
      "cell_type": "markdown",
      "source": "Please note that, in this competition HDF5 file is being used instead of csv.",
      "metadata": {}
    },
    {
      "cell_type": "code",
      "source": "with pd.HDFStore(\"../input/train.h5\", \"r\") as train:\n    # Note that the \"train\" dataframe is the only dataframe in the file\n    df = train.get(\"train\")",
      "execution_count": null,
      "outputs": [],
      "metadata": {}
    },
    {
      "cell_type": "markdown",
      "source": "**Sneak-peek at the data:**\n\nLet us look at the top few rows to understand the variables and the nature of data",
      "metadata": {}
    },
    {
      "cell_type": "code",
      "source": "df.head()",
      "execution_count": null,
      "outputs": [],
      "metadata": {}
    },
    {
      "cell_type": "markdown",
      "source": "So there are 111 columns present in the dataset.\n\n- 1 id column\n- 1 timestamp column\n- 5 columns with name prefix 'derived'\n- 63 columns with name prefix 'fundamental' - fundamental_0 to fundamental_63 - 'fundamental_4' is missing. Any specific reasons?\n- 40 columns with name prefix 'technical' - technical_0 to technical_44 - technical_4, technical_8, technical_15, technical_23, technical_26 are missing.  \n- 1 target variable named 'y'\n\nNow let us look at the distribution of data in each of these columns",
      "metadata": {}
    },
    {
      "cell_type": "code",
      "source": "df.describe()",
      "execution_count": null,
      "outputs": [],
      "metadata": {}
    },
    {
      "cell_type": "markdown",
      "source": "It seems NaN values are present in all input columns but  for two (technical_22 and technical_34).\n\nSo let us count the number of missing values in each of the columns.",
      "metadata": {}
    },
    {
      "cell_type": "code",
      "source": "labels = []\nvalues = []\nfor col in df.columns:\n    labels.append(col)\n    values.append(df[col].isnull().sum())\n    print(col, values[-1])",
      "execution_count": null,
      "outputs": [],
      "metadata": {}
    },
    {
      "cell_type": "code",
      "source": "ind = np.arange(len(labels))\nwidth = 0.9\nfig, ax = plt.subplots(figsize=(12,50))\nrects = ax.barh(ind, np.array(values), color='y')\nax.set_yticks(ind+((width)/2.))\nax.set_yticklabels(labels, rotation='horizontal')\nax.set_xlabel(\"Count of missing values\")\nax.set_title(\"Number of missing values in each column\")\n#autolabel(rects)\nplt.show()",
      "execution_count": null,
      "outputs": [],
      "metadata": {}
    },
    {
      "cell_type": "markdown",
      "source": "Fundamental_5 has the most number of missing values followed by fundamental_38.\n\n**Distribution plot:**\n\nNow let us look at the distribution plot of some of the numeric variables. \n\nUnivariate analysis from [this notebook][1] reveals some important variables. So let us look at the plots of  top 4 variables.\n\n- technical_30\n- technical_20\n- fundamental_11\n- technical_19\n\n  [1]: https://www.kaggle.com/sudalairajkumar/two-sigma-financial-modeling/univariate-analysis-regression-lb-0-006",
      "metadata": {}
    },
    {
      "cell_type": "code",
      "source": "cols_to_use = ['technical_30', 'technical_20', 'fundamental_11', 'technical_19']\nfig = plt.figure(figsize=(8, 20))\nplot_count = 0\nfor col in cols_to_use:\n    plot_count += 1\n    plt.subplot(4, 1, plot_count)\n    plt.scatter(range(df.shape[0]), df[col].values)\n    plt.title(\"Distribution of \"+col)\nplt.show()",
      "execution_count": null,
      "outputs": [],
      "metadata": {}
    },
    {
      "cell_type": "markdown",
      "source": "Some of the observations from the distribution plot are:\n\n- The top two variables (technical_30 and technical_20) range between 0 and 0.8 and there are no major outliers\n- Fundamental_11 has few outliers at the beginning and then looks more or less fine with two small peaks\n- Technical_19 has few high values towards the end\n\n**Target Distribution:**\n\nNow let us scatter plot the target variable.\n",
      "metadata": {}
    },
    {
      "cell_type": "code",
      "source": "plt.figure(figsize=(8, 5))\nplt.scatter(range(df.shape[0]), df.y.values)\nplt.show()",
      "execution_count": null,
      "outputs": [],
      "metadata": {}
    },
    {
      "cell_type": "markdown",
      "source": "Target values range between -0.086 to 0.093. \n\nAs we can see the target graph is more darker at the middle, suggesting more values are concentrated in those region. \n\nAlso there seems to be some hard stop at both the ends (probably capping the target to remain within the limits?!) - this could be inferred from the two dark lines at the top and bottom.\n\nAlso there seems to be some change in the target distribution with respect to time. As we move from left to right, initially the target is evenly distributed in the given range (-0.08 to 0.09) and then in the middle it is not so.\n\n**Timestamp:**\n\nNow let us look at the counts for each of the timestamps present in the data.",
      "metadata": {}
    },
    {
      "cell_type": "code",
      "source": "fig = plt.figure(figsize=(12, 6))\nsns.countplot(x='timestamp', data=df)\nplt.show()",
      "execution_count": null,
      "outputs": [],
      "metadata": {}
    },
    {
      "cell_type": "markdown",
      "source": "So there is an increasing trend in the number of rows for each of the time stamps. Also there are some sudden jumps in between at intervals. \n\nTo know more, please refer to this excellent kernel by @anokas.\n\nFrom this [kernel][1], it seems ids are the assets that we are tracking.\n\nSo let us see the number of assets that are present in the data.\n\n\n  [1]: https://www.kaggle.com/ysidhu/two-sigma-financial-modeling/two-sigma-portfolio-returns-eda",
      "metadata": {}
    },
    {
      "cell_type": "code",
      "source": "print(len(df.id.unique()))",
      "execution_count": null,
      "outputs": [],
      "metadata": {}
    },
    {
      "cell_type": "markdown",
      "source": "So we have 1424 unique assets in the dataset. As we can see from the previous plot of timestamp, ~1100 assets is the maximum number of assets at any given timestamp. So there are few assets that are dropped in between.\n\nNow we can check the 'y' distribution of some of the assets. Let us first look at ids with high negative mean target values. ",
      "metadata": {}
    },
    {
      "cell_type": "code",
      "source": "temp_df = df.groupby('id')['y'].agg('mean').reset_index().sort_values(by='y')\ntemp_df.head()",
      "execution_count": null,
      "outputs": [],
      "metadata": {}
    },
    {
      "cell_type": "code",
      "source": "id_to_use = [1431, 93, 882, 1637, 1118]\nfig = plt.figure(figsize=(8, 25))\nplot_count = 0\nfor id_val in id_to_use:\n    plot_count += 1\n    plt.subplot(5, 1, plot_count)\n    temp_df = df.ix[df['id']==id_val,:]\n    plt.plot(temp_df.timestamp.values, temp_df.y.values)\n    plt.plot(temp_df.timestamp.values, temp_df.y.cumsum())\n    plt.title(\"Asset ID : \"+str(id_val))\n    \nplt.show()",
      "execution_count": null,
      "outputs": [],
      "metadata": {}
    },
    {
      "cell_type": "markdown",
      "source": "Blue line represents the distribution of 'y' variable in the given time stamp. Green line represents the cumulative 'y' value\n\nSo 4 out these 5 assets are dropped (as they are not present till the last time stamp which is 1812), when the cumulative negative target value falls steeply. \n\nNow let us take the assets with high positive mean target value and see their distribution.",
      "metadata": {}
    },
    {
      "cell_type": "code",
      "source": "temp_df = df.groupby('id')['y'].agg('mean').reset_index().sort_values(by='y')\ntemp_df.tail()",
      "execution_count": null,
      "outputs": [],
      "metadata": {}
    },
    {
      "cell_type": "code",
      "source": "id_to_use = [767, 226, 824, 1809, 1089]\nfig = plt.figure(figsize=(8, 25))\nplot_count = 0\nfor id_val in id_to_use:\n    plot_count += 1\n    plt.subplot(5, 1, plot_count)\n    temp_df = df.ix[df['id']==id_val,:]\n    plt.plot(temp_df.timestamp.values, temp_df.y.values)\n    plt.plot(temp_df.timestamp.values, temp_df.y.cumsum())\n    plt.title(\"Asset ID : \"+str(id_val))\nplt.show()",
      "execution_count": null,
      "outputs": [],
      "metadata": {}
    },
    {
      "cell_type": "markdown",
      "source": "Interestingly 2 of these 5 good performing assets are also dropped (Assets 824 and 1089). Not sure about the reasons though.\n\nNow let us take some assets which are present across all the timestamps and see their distribution.",
      "metadata": {}
    },
    {
      "cell_type": "code",
      "source": "temp_df = df.groupby('id')['y'].agg('count').reset_index().sort_values(by='y')\ntemp_df.tail()",
      "execution_count": null,
      "outputs": [],
      "metadata": {}
    },
    {
      "cell_type": "code",
      "source": "id_to_use = [1548, 699, 697, 704, 1066]\nfig = plt.figure(figsize=(8, 25))\nplot_count = 0\nfor id_val in id_to_use:\n    plot_count += 1\n    plt.subplot(5, 1, plot_count)\n    temp_df = df.ix[df['id']==id_val,:]\n    plt.plot(temp_df.timestamp.values, temp_df.y.values)\n    plt.plot(temp_df.timestamp.values, temp_df.y.cumsum())\n    plt.title(\"Asset ID : \"+str(id_val))\nplt.show()",
      "execution_count": null,
      "outputs": [],
      "metadata": {}
    },
    {
      "cell_type": "markdown",
      "source": "Asset 699 looks like a very good asset.! \n\nTo know more about assets, refer to this [excellent kernel][1] by omolluska.\n\nHappy Kaggling.!\n\n\n  [1]: https://www.kaggle.com/sankhamukherjee/two-sigma-financial-modeling/when-why-are-stocks-bought-and-sold",
      "metadata": {}
    }
  ]
}