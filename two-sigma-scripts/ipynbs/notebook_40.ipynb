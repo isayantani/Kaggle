{
  "metadata": {
    "kernelspec": {
      "name": "python"
    },
    "language_info": {
      "name": "python",
      "version": "3.5.1"
    }
  },
  "nbformat": 4,
  "nbformat_minor": 0,
  "cells": [
    {
      "cell_type": "markdown",
      "source": "",
      "metadata": {}
    },
    {
      "cell_type": "code",
      "source": "import numpy as np\nfrom sklearn.metrics import r2_score\n\ndef r_score(y_true, y_pred, sample_weight=None, multioutput=None):\n    r2 = r2_score(y_true, y_pred, sample_weight=sample_weight,\n                  multioutput=multioutput)\n    r = (np.sign(r2)*np.sqrt(np.abs(r2)))\n    if r <= -1:\n        return -1\n    else:\n        return r",
      "execution_count": null,
      "outputs": [],
      "metadata": {}
    },
    {
      "cell_type": "code",
      "source": "import matplotlib.pyplot as plt\nimport seaborn as sns",
      "execution_count": null,
      "outputs": [],
      "metadata": {}
    },
    {
      "cell_type": "markdown",
      "source": "# How looks the metric if we predict targets correctly deviation from mean correctly, but mean value has some offset:\n ",
      "metadata": {}
    },
    {
      "cell_type": "code",
      "source": "count = 10000\nv = np.random.normal(0, 1, count)\n\ns = [(x, r_score(v, np.ones(count) * x + v)) for x in np.linspace(-2, 2, 1001)]\nmax(s, key = lambda x: x[1]), v.mean()\n\n_ = plt.plot(s)",
      "execution_count": null,
      "outputs": [],
      "metadata": {}
    },
    {
      "cell_type": "markdown",
      "source": "# How looks the metric if we predict constant:",
      "metadata": {}
    },
    {
      "cell_type": "code",
      "source": "count = 10000\nv = np.random.normal(0, 1.5, count)\n\ns = [(x, r_score(v, np.ones(count) * x + v.mean())) for x in np.linspace(-2, 2, 1001)]\nmax(s, key = lambda x: x[1]), v.mean()\n\n_ = plt.plot(s)",
      "execution_count": null,
      "outputs": [],
      "metadata": {}
    }
  ]
}