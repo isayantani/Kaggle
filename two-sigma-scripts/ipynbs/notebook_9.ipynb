{
  "metadata": {
    "kernelspec": {
      "name": "python"
    },
    "language_info": {
      "name": "python",
      "version": "3.5.1"
    }
  },
  "nbformat": 4,
  "nbformat_minor": 0,
  "cells": [
    {
      "cell_type": "markdown",
      "source": "First things first: I have some data analysis background from my research career in particle physics, but I am far from being an machine learning expert. So please bear with me and I am happy to receive any kind of feedback.\n\nSince the training data set (and possibly the test data as well) contain missing data, I wanted to have a closer look at this issue. I have seen that other participants propose to fill those NaNs with the mean or median for the respective column. Here I am not (yet) that much interested in filling the blanks but I rather want to know whether we can learn something more about the data when looking missing values.",
      "metadata": {}
    },
    {
      "cell_type": "code",
      "source": "import pandas as pd\nimport numpy as np\nimport matplotlib.pyplot as plt\nimport seaborn as sns\n%matplotlib inline",
      "execution_count": null,
      "outputs": [],
      "metadata": {}
    },
    {
      "cell_type": "code",
      "source": "with pd.HDFStore('../input/train.h5') as train:\n    df = train.get('train')",
      "execution_count": null,
      "outputs": [],
      "metadata": {}
    },
    {
      "cell_type": "markdown",
      "source": "Let's see how much data we've got:",
      "metadata": {}
    },
    {
      "cell_type": "code",
      "source": "print(df.shape)",
      "execution_count": null,
      "outputs": [],
      "metadata": {}
    },
    {
      "cell_type": "markdown",
      "source": "That's quite a few column. So let's see which columns have missing values and how much data is actually missing.",
      "metadata": {}
    },
    {
      "cell_type": "code",
      "source": "null_counts = df.isnull().sum()/len(df)\nplt.figure(figsize=(16,8))\nplt.xticks(np.arange(len(null_counts))+0.5,null_counts.index,rotation='vertical')\nplt.ylabel('fraction of rows with missing data')\nplt.bar(np.arange(len(null_counts)),null_counts)",
      "execution_count": null,
      "outputs": [],
      "metadata": {}
    },
    {
      "cell_type": "markdown",
      "source": "Uh, that is quite a lot of missing data. Almost all feature columns contain missing values and the fraction of rows with missing data can be substantial.\nOk, let's try to become a bit more quantitative. We can calculate for every ID (= financial asset) and feature column the following information:\n* number of missing values\n* relative fraction of missing values (= number missing values / timespan for which this ID is present)\n* number of continuous time spans with missing values (to see whether data is only missing for a certain period of time or whether missing values occur irregularly over the total time span an asset is held)",
      "metadata": {}
    },
    {
      "cell_type": "code",
      "source": "# drop non-feature columns\nfeature_columns = df.columns.drop(['id','timestamp','y'])\n# create multi-index with (count, fraction, number of NaN sequences) per feature column\niterables = [feature_columns,['count','fraction','seq']]\nindex = pd.MultiIndex.from_product(iterables,names=['feature','stat'])\n# use list of IDs as index (only sorted for easier navigation)\nids = df.id.unique()\nids.sort()\n# create empty data frame\nnan_df = pd.DataFrame(data=None,index=ids,columns=index)",
      "execution_count": null,
      "outputs": [],
      "metadata": {}
    },
    {
      "cell_type": "markdown",
      "source": "The calculation should be straightforward except maybe for the number of connected time ranges with missing data. Here the idea is the following:\n* get the row indices for NaNs in a feature column\n* enumerate those indices\n* for a continuous time period of NaNs `enumeration index - row index` should be constant\n* use [groupby from itertools](https://docs.python.org/3/library/itertools.html#itertools.groupby) to get the list of continous time spans of NaNs",
      "metadata": {}
    },
    {
      "cell_type": "code",
      "source": "from itertools import groupby\n# iterate over all asset ID\nfor name,group in df.groupby('id'):\n    # for every feature column\n    for c in feature_columns:\n        # total number of rows with missing data\n        nan_count = group[c].isnull().sum()\n        # time span this ID was present\n        timespan = len(group[c])\n        # row indices for missing data\n        nan_indices = pd.isnull(group[c]).nonzero()[0]\n        # get number of joint time spans of missing values\n        nseq = len(list(groupby(enumerate(nan_indices),lambda x:x[0]-x[1])))\n        nan_df.loc[name][c,'count'] = nan_count\n        nan_df.loc[name][c,'fraction'] = nan_count * 1.0/timespan\n        nan_df.loc[name][c,'seq'] = nseq",
      "execution_count": null,
      "outputs": [],
      "metadata": {}
    },
    {
      "cell_type": "markdown",
      "source": "Let's have a quick look at the resulting data frame.",
      "metadata": {}
    },
    {
      "cell_type": "code",
      "source": "nan_df.head(20)",
      "execution_count": null,
      "outputs": [],
      "metadata": {}
    },
    {
      "cell_type": "markdown",
      "source": "Ok, this looks reasonable at the first glance. In order to get a better feeling, let's have a look at the mean fraction of missing data per feature column and its standard deviation (where mean and std are calculated over the sample of all IDs in the training data).",
      "metadata": {}
    },
    {
      "cell_type": "code",
      "source": "fractions = nan_df.xs('fraction',level='stat',axis=1)\nfraction_mean = fractions.mean()\nfraction_std = fractions.std()\nplt.figure(figsize=(16,8))\nplt.xticks(np.arange(len(fraction_mean)),fraction_mean.index,rotation='vertical')\nplt.errorbar(np.arange(len(fraction_mean)),fraction_mean,yerr=fraction_std,fmt='o')\nplt.ylabel('mean fraction of rows with missing data per ID');",
      "execution_count": null,
      "outputs": [],
      "metadata": {}
    },
    {
      "cell_type": "code",
      "source": "plt.hist(fractions.values.flatten(),bins=50)\nplt.xlabel('fraction of rows with missing data per ID');",
      "execution_count": null,
      "outputs": [],
      "metadata": {}
    },
    {
      "cell_type": "markdown",
      "source": "This looks interesting. For a given ID and feature column either <30% of the data is missing or all of it. The large gap in between renders the mean values a bit misleading. But what it is interesting to me is the fact that the standard deviation varies quite a bit. For fundamental and derived data the variations among different IDs seem to be (in general) larger than for the technical feature columns. One reason could be that fundamental data could be missing for fixed number of time stamps (e.g. the first N occurences) which would lead to large variations since time spans for which different IDs are present vary quite a bit as other participants already revealed. In order to test this, we can make the same plot for the absolute number of missing values per feature column.",
      "metadata": {}
    },
    {
      "cell_type": "code",
      "source": "counts = nan_df.xs('count',level='stat',axis=1)\ncount_mean = counts.mean()\ncount_std = counts.std()\nplt.figure(figsize=(16,8))\nplt.xticks(np.arange(len(count_mean)),count_mean.index,rotation='vertical')\nplt.errorbar(np.arange(len(count_mean)),count_mean,yerr=count_std,fmt='o')\nplt.ylabel('mean for number of missing data')",
      "execution_count": null,
      "outputs": [],
      "metadata": {}
    },
    {
      "cell_type": "code",
      "source": "plt.hist(counts.values.flatten(),bins=50)\nplt.xlabel('counts of rows with missing data per ID');",
      "execution_count": null,
      "outputs": [],
      "metadata": {}
    },
    {
      "cell_type": "markdown",
      "source": "Nope, the picture remains the same. My conclusion from this is that there are different classes of IDs which have a different availability of fundamental and derived data. Before pursuing this route further, let's also look at the number of connected time spans for missing data.",
      "metadata": {}
    },
    {
      "cell_type": "code",
      "source": "nseq = nan_df.xs('seq',level='stat',axis=1)\nnseq_mean = nseq.mean()\nnseq_std = nseq.std()\nplt.figure(figsize=(16,8))\nplt.xticks(np.arange(len(nseq_mean)),nseq_mean.index,rotation='vertical')\nplt.errorbar(np.arange(len(nseq_mean)),nseq_mean,yerr=nseq_std,fmt='o')\nplt.ylabel('mean number of connected NaN ranges')",
      "execution_count": null,
      "outputs": [],
      "metadata": {}
    },
    {
      "cell_type": "code",
      "source": "plt.hist(nseq.values.flatten(),bins=50)\nplt.xlabel('number of connected time ranges with missing data per ID');",
      "execution_count": null,
      "outputs": [],
      "metadata": {}
    },
    {
      "cell_type": "markdown",
      "source": "This is very interesting. This means that rows with missing data for a given ID and feature are always continuous in time. It is **not** the case that data for an asset is unavailable, becomes available and then becomes unavailable again. I bet that if data is unavailable, it is at the beginning of the time interval in which the corresponding asset is traded. Let's try to visualize this.",
      "metadata": {}
    },
    {
      "cell_type": "code",
      "source": "# iterate over IDs\ngrouped = df.groupby('id');\nfor i,(n,g) in enumerate(grouped):\n    # get missing data flag for feature columns\n    d = g.isnull().drop(['timestamp','id','y'],axis=1)\n    # normalise time stamp to start with 0 when ID appears for the first time in portfolio\n    d.index = g.timestamp - g.timestamp.min()\n    d.index.name = 'relative timestamp'\n    plt.figure(figsize=(16,12))\n    plt.title(\"ID = %d\" % n)\n    sns.heatmap(d.T,xticklabels=100,cbar=False)\n    # only plot first 10 IDs\n    if i > 10:\n        break",
      "execution_count": null,
      "outputs": [],
      "metadata": {}
    },
    {
      "cell_type": "markdown",
      "source": "Bingo! Black bars denote columns and time stamps with missing data. All bars start at the very left which is the time an ID appears for the first time in the portfolio. It also looks like there are different *kinds* of these _barcode plots_. Maybe one can try to categorise IDs based on their missing value patterns... I will post an update on this.",
      "metadata": {}
    }
  ]
}