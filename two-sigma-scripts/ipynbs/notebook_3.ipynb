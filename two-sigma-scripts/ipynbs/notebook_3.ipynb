{
  "metadata": {
    "kernelspec": {
      "name": "python"
    },
    "language_info": {
      "name": "python",
      "version": "3.5.1"
    }
  },
  "nbformat": 4,
  "nbformat_minor": 0,
  "cells": [
    {
      "cell_type": "markdown",
      "source": "## Getting insights from the Timestamp variable\n\nHere's an in-depth analysis of the Timestamp variable in this first-of-its-kind code competition.\nThe first few code cells are just general EDA, as that's what this used to be before I decided to go more in-depth into the time aspect :)\n\nAny feedback or upvotes are very much appreciated!",
      "metadata": {}
    },
    {
      "cell_type": "code",
      "source": "import numpy as np # linear algebra\nimport pandas as pd # data processing, CSV file I/O (e.g. pd.read_csv)\nimport matplotlib.pyplot as plt\nimport seaborn as sns\n%matplotlib inline\np = sns.color_palette()",
      "execution_count": null,
      "outputs": [],
      "metadata": {}
    },
    {
      "cell_type": "code",
      "source": "with pd.HDFStore(\"../input/train.h5\", \"r\") as train:\n    df = train.get(\"train\")",
      "execution_count": null,
      "outputs": [],
      "metadata": {}
    },
    {
      "cell_type": "code",
      "source": "print('Number of rows: {}, Number of columns: {}'.format(*df.shape))",
      "execution_count": null,
      "outputs": [],
      "metadata": {}
    },
    {
      "cell_type": "code",
      "source": "cols = [0, 0, 0]\nfor c in df.columns:\n    if 'derived' in c: cols[0] += 1\n    if 'fundamental' in c: cols[1] += 1\n    if 'technical' in c: cols[2] += 1\nprint('Derived columns: {}, Fundamental columns: {}, Technical columns: {}'.format(*cols))\nprint('\\nColumn dtypes:')\nprint(df.dtypes.value_counts())\nprint('\\nint16 columns:')\nprint(df.columns[df.dtypes == 'int16'])",
      "execution_count": null,
      "outputs": [],
      "metadata": {}
    },
    {
      "cell_type": "markdown",
      "source": "Here we can see that we have 111 columns, of which the only ones with integer values are the IDs and the timestamp. The other features are split into three categories, which we will look at in more detail later. Let's look at the target value first.\n\n##Target",
      "metadata": {}
    },
    {
      "cell_type": "code",
      "source": "y = df['y'].values\nplt.hist(y, bins=50, color=p[1])\nplt.xlabel('Target Value')\nplt.ylabel('Count')\nplt.title('Distribution of target value')\nprint('Target value min {0:.3f} max {1:.3f} mean {2:.3f} std {3:.3f}'.format(np.min(y), np.max(y), np.mean(y), np.std(y)))",
      "execution_count": null,
      "outputs": [],
      "metadata": {}
    },
    {
      "cell_type": "markdown",
      "source": "So we have what looks like a target value which is normally distributed around a mean of (exactly) 0 with a standard deviation of .022. Interestingly, there is a small peak at the start and end of the distribution.",
      "metadata": {}
    },
    {
      "cell_type": "code",
      "source": "print('Number of unique target values: {}'.format(len(set(y))))",
      "execution_count": null,
      "outputs": [],
      "metadata": {}
    },
    {
      "cell_type": "markdown",
      "source": "Looks like almost all of the target values that we see here are unique to only that row. It doesn't look like any binning has occured here - I was half expecting the peaks at the start and end of the distribution to be a single value, a number which signified \"out of bounds\".\n\n## Timestamp",
      "metadata": {}
    },
    {
      "cell_type": "code",
      "source": "timestamp = df.timestamp.values\nfor bins in [100, 250]:\n    plt.figure(figsize=(15, 5))\n    plt.hist(timestamp, bins=bins)\n    plt.xlabel('Timestamp')\n    plt.ylabel('Count')\n    plt.title('Histogram of Timestamp - {} bins'.format(bins))",
      "execution_count": null,
      "outputs": [],
      "metadata": {}
    },
    {
      "cell_type": "markdown",
      "source": "Now this is _very_ interesting. There appears to be quite a complex structure to the timestamp variable over time. Maybe we can unravel something from it, and maybe figure out what the real-life time period is.",
      "metadata": {}
    },
    {
      "cell_type": "code",
      "source": "time_mini = df.timestamp.loc[df.timestamp < 500].values\nfor bins in [100, 250]:\n    plt.figure(figsize=(15, 5))\n    plt.hist(time_mini, bins=bins, color=p[4])\n    plt.xlabel('Timestamp')\n    plt.ylabel('Count')\n    plt.title('Histogram of Zoomed-in Timestamp - {} bins'.format(bins))",
      "execution_count": null,
      "outputs": [],
      "metadata": {}
    },
    {
      "cell_type": "markdown",
      "source": "I can see here that the count of timestamp tends to decrease slightly for about 100 'timestamps', and then jumps up afterwards. My hypothesis is that this jump could signify the start of the next day or similar. Let's try to look at these jumps in more detail.",
      "metadata": {}
    },
    {
      "cell_type": "code",
      "source": "timediff = df.groupby('timestamp')['timestamp'].count().diff()\nplt.figure(figsize=(12, 5))\nplt.plot(timediff)\nplt.xlabel('Timestamp')\nplt.ylabel('Change in count since last timestamp')\nplt.title('1st discrete difference of timestamp count')",
      "execution_count": null,
      "outputs": [],
      "metadata": {}
    },
    {
      "cell_type": "markdown",
      "source": "Okay, there's definitely some structure here. Let's measure the distance between the peaks, defining a peak as a point where the count increases by more than 10.",
      "metadata": {}
    },
    {
      "cell_type": "code",
      "source": "pd.Series(timediff[timediff > 10].index).diff()",
      "execution_count": null,
      "outputs": [],
      "metadata": {}
    },
    {
      "cell_type": "markdown",
      "source": "This basically confirms that the timestamp has a time period of 100. We can see that almost all the peaks are 100 timestamps apart, with two of them being 200 timestamps apart, and two of them being 50 timestamps apart. Looking at the graph above, we can also see that in the two cases where the period is 200, there is actually a peak 100 timestamps in which is smaller than 100.",
      "metadata": {}
    },
    {
      "cell_type": "code",
      "source": "print(timediff[timediff > 10].index[0])",
      "execution_count": null,
      "outputs": [],
      "metadata": {}
    },
    {
      "cell_type": "markdown",
      "source": "We can approximate where the peaks will be with a function `100x + 70` (there is a gap of 100 between each peak, with an offset of 70.)\n\nThis information could be used to quite accurately predict what the count of the timestamp will be in the future.\n\n## Change in the target value over time",
      "metadata": {}
    },
    {
      "cell_type": "code",
      "source": "time_targets = df.groupby('timestamp')['y'].mean()\nplt.figure(figsize=(12, 5))\nplt.plot(time_targets)\nplt.xlabel('Timestamp')\nplt.ylabel('Mean of target')\nplt.title('Change in target over time - Red lines = new timeperiod')\nfor i in timediff[timediff > 5].index:\n    plt.axvline(x=i, linewidth=0.25, color='red')",
      "execution_count": null,
      "outputs": [],
      "metadata": {}
    },
    {
      "cell_type": "markdown",
      "source": "There doesn't seem to be _too_ much of a pattern to the target value, except for those two, very apparent, peaks in variability. It looks like the time series aspect will be very important.\n\nIt also appears to me that the start of a new time period very often coincides with (at least a small) peak in the data. Anyone else see this, or am I mentally overfitting? :)",
      "metadata": {}
    },
    {
      "cell_type": "code",
      "source": "for i in [500, 100]:\n    time_targets = df.groupby('timestamp')['y'].mean()[:i]\n    plt.figure(figsize=(12, 5))\n    plt.plot(time_targets, color=p[0], marker='^', markersize=3, mfc='red')\n    plt.xlabel('Timestamp')\n    plt.ylabel('Mean of target')\n    plt.title('Change in target over time - First {} timestamps'.format(i))\n    for i in timediff[:i][timediff > 5].index:\n        plt.axvline(x=i, linewidth=0.25, color='red')",
      "execution_count": null,
      "outputs": [],
      "metadata": {}
    },
    {
      "cell_type": "markdown",
      "source": "Don't see very much pattern on a very zoomed in scale, it seems pretty random to me. Maybe looking at it on such a small scale isn't the right approach ;)\n\nI can't do any more analysis right now as the kernels are being ridiculously unreliable - losing connection every minute or two - and I lose my work every time :'(",
      "metadata": {}
    }
  ]
}