{
  "metadata": {
    "kernelspec": {
      "name": "python"
    },
    "language_info": {
      "name": "python",
      "version": "3.5.1"
    }
  },
  "nbformat": 4,
  "nbformat_minor": 0,
  "cells": [
    {
      "cell_type": "code",
      "source": "import numpy as np\nimport pandas as pd\nimport matplotlib.pyplot as plt\nimport seaborn as sns\n\n%matplotlib inline\n\nwith pd.HDFStore(\"../input/train.h5\", \"r\") as train:\n    df = train.get('train')",
      "execution_count": null,
      "outputs": [],
      "metadata": {}
    },
    {
      "cell_type": "markdown",
      "source": "# 缺失值统计 missing value statistics",
      "metadata": {}
    },
    {
      "cell_type": "code",
      "source": "m, n = df.shape\nmiss_count = []\nfor col in df.columns:\n    x = df[col].isnull().sum()\n    miss_count.append(x)\nmiss_count_rate = np.array(miss_count) / m",
      "execution_count": null,
      "outputs": [],
      "metadata": {}
    },
    {
      "cell_type": "code",
      "source": "fig, ax = plt.subplots(figsize=(8, 25))\nind = np.arange(n)\nax.barh(ind, miss_count_rate, color='y')\nplt.yticks(ind+0.4, df.columns)\nax.set_xlabel('miss_count_rate in each col')\nax.set_title('miss_count_rate in each col')",
      "execution_count": null,
      "outputs": [],
      "metadata": {}
    },
    {
      "cell_type": "code",
      "source": "df = df.drop(df.columns[miss_count_rate > 0.3], axis=1)",
      "execution_count": null,
      "outputs": [],
      "metadata": {}
    },
    {
      "cell_type": "markdown",
      "source": "# 异常值处理 Exception value processing",
      "metadata": {}
    },
    {
      "cell_type": "code",
      "source": "# 通过箱线图去除异常值之后，查看分布 observe hist of data within boxplot range\nm, n = df.shape\ncol = df.columns\nplt.figure(figsize=(8, 50))\nk = 0\nfor i in range(2, n):\n    k += 1\n    col_ = df[col[i]][df[col[i]].notnull()]\n    q_high = col_.quantile(0.75)\n    q_low = col_.quantile(0.25)\n    iqr = (q_high - q_low) * 1.5\n    high = q_high + iqr\n    low = q_low -iqr\n    col_ = col_[(col_ < high) & (col_ > low)]\n    plt.subplot(25, 4, k)\n    plt.hist(col_, bins=100)\n    plt.xticks()\n    plt.title(str(i) + ' ' + col[i])\n    plt.tight_layout(pad=0)",
      "execution_count": null,
      "outputs": [],
      "metadata": {}
    },
    {
      "cell_type": "markdown",
      "source": "## 以下特征形态较好 The following is features with fine hist\n### continuoues value[ 2, 6, 8, 13, 19, 20, 26, 27, 28, 30, 32, 34, 38, 41, 45, 49, 51, 52, 56, 59, 61, 62, 74, 76, 78, 79, 80, 81, 84, 86, 88, 89, 94, 97] \n### category0 has two class[60, 63, 66, 67, 70, 72,  82,  96] \n### category1 has three class [77, 87]",
      "metadata": {}
    },
    {
      "cell_type": "code",
      "source": "df = df.ix[:, [0, 1, 2, 6, 8, 13, 19, 20, 26, 27, 28, 30, 32, 34, 38, 41, 45, 49, 51,\n       52, 56, 59, 61, 62, 74, 76, 78, 79, 80, 81, 84, 86, 88, 89, 94, 97, 60, \n               63, 66, 67, 70, 72, 82, 96, 77, 87, 98]]",
      "execution_count": null,
      "outputs": [],
      "metadata": {}
    },
    {
      "cell_type": "markdown",
      "source": "## 处理cate0特征下的异常值 processing exception value in cate0",
      "metadata": {}
    },
    {
      "cell_type": "code",
      "source": "cate0 = range(36, 44)\ncol = df.columns\nfor i in cate0:\n    df.ix[:, i] = np.where(df.ix[:, i] < -1, -2, df.ix[:, i])\n    df.ix[:, i] = np.where(df.ix[:, i] >= -1, 0, df.ix[:, i])",
      "execution_count": null,
      "outputs": [],
      "metadata": {}
    },
    {
      "cell_type": "markdown",
      "source": "## 去除y的异常值 drop samples which have exception value in y",
      "metadata": {}
    },
    {
      "cell_type": "code",
      "source": "q_high = df.y.quantile(0.75)\nq_low = df.y.quantile(0.25)\niqr = (q_high - q_low) * 1.5\nhigh = q_high + iqr\nlow = q_low -iqr\ndf = df.drop(df[df.y > high].index)\ndf = df.drop(df[df.y < low].index)",
      "execution_count": null,
      "outputs": [],
      "metadata": {}
    },
    {
      "cell_type": "code",
      "source": "hist_ = plt.hist(df.ix[df['timestamp'] == 0, 'y'], bins=100)",
      "execution_count": null,
      "outputs": [],
      "metadata": {}
    },
    {
      "cell_type": "code",
      "source": "hist_ = plt.hist(df.ix[df['id'] == 438, 'y'], bins=100)",
      "execution_count": null,
      "outputs": [],
      "metadata": {}
    },
    {
      "cell_type": "code",
      "source": "## 同一timestamp或用一id对应的y分布都是对称的。",
      "execution_count": null,
      "outputs": [],
      "metadata": {}
    },
    {
      "cell_type": "markdown",
      "source": "# missing value fill 填充",
      "metadata": {}
    },
    {
      "cell_type": "code",
      "source": "df = df.sort_values(by='y')",
      "execution_count": null,
      "outputs": [],
      "metadata": {}
    },
    {
      "cell_type": "code",
      "source": "df = df.fillna(method='ffill')\ndf = df.fillna(method='bfill') # 防止第一个值为nan",
      "execution_count": null,
      "outputs": [],
      "metadata": {}
    },
    {
      "cell_type": "markdown",
      "source": "# 模型 model",
      "metadata": {}
    },
    {
      "cell_type": "markdown",
      "source": "## 划分测试集和训练集 Divide the test set and the training set",
      "metadata": {}
    },
    {
      "cell_type": "code",
      "source": "test = {'x': [], 'y': [], 'timestamp': []}\ntime = range(1812, 1802, -1)\nfor i in range(10):\n    df_ = df.ix[df['timestamp']==time[i], :]\n    test['x'].append(df_.drop(['y', 'id', 'timestamp'], axis=1))\n    test['y'].append(df_['y'])\n    test['timestamp'].append(time[i])\ndf_ = df[df['timestamp'] < 1803]\nX = df_.drop(['y', 'id', 'timestamp'], axis=1)\ny = df_['y']",
      "execution_count": null,
      "outputs": [],
      "metadata": {}
    },
    {
      "cell_type": "code",
      "source": "from sklearn.ensemble import RandomForestRegressor\nrf0 = RandomForestRegressor(n_jobs=-1, verbose=1)\nrf0.fit(test['x'][0], test['y'][0])",
      "execution_count": null,
      "outputs": [],
      "metadata": {}
    },
    {
      "cell_type": "code",
      "source": "col_ = X.columns\nplt.figure(figsize=(8, 16))\nind = np.arange(len(col_))\nplt.barh(ind, rf0.feature_importances_)\nplt.yticks(ind+0.4, col_)",
      "execution_count": null,
      "outputs": [],
      "metadata": {}
    },
    {
      "cell_type": "markdown",
      "source": "## 类别变量的feature_importances_比较小，是否说明这几个特征没有用？\n## Feature_importances of features in cate0 and cate1 is small. Does it mean they are less important?",
      "metadata": {}
    },
    {
      "cell_type": "code",
      "source": "rf0.score(test['x'][0], test['y'][0])",
      "execution_count": null,
      "outputs": [],
      "metadata": {}
    },
    {
      "cell_type": "code",
      "source": "rf0.score(test['x'][1], test['y'][1])",
      "execution_count": null,
      "outputs": [],
      "metadata": {}
    },
    {
      "cell_type": "markdown",
      "source": "## 严重过拟合？试一下减少特征和增大训练集\n## Over-fitting?Try to use less features or use more samples to fit modle.",
      "metadata": {}
    },
    {
      "cell_type": "code",
      "source": "# 只采用连续变量进行fit\n# Train model with continuous value.\nrf1 = RandomForestRegressor(n_jobs=-1, verbose=1)\nrf1.fit(test['x'][0].ix[:, range(34)], test['y'][0])\nrf1.score(test['x'][0].ix[:, range(34)], test['y'][0])",
      "execution_count": null,
      "outputs": [],
      "metadata": {}
    },
    {
      "cell_type": "code",
      "source": "rf1.score(test['x'][1].ix[:, range(34)], test['y'][1])",
      "execution_count": null,
      "outputs": [],
      "metadata": {}
    },
    {
      "cell_type": "code",
      "source": "# 采用前10个特征fit. Fit with 10 features.\nrf2 = RandomForestRegressor(n_jobs=-1, verbose=1)\nrf2.fit(test['x'][0].ix[:, range(10)], test['y'][0])\nrf2.score(test['x'][0].ix[:, range(10)], test['y'][0])",
      "execution_count": null,
      "outputs": [],
      "metadata": {}
    },
    {
      "cell_type": "code",
      "source": "rf2.score(test['x'][1].ix[:, range(10)], test['y'][1])",
      "execution_count": null,
      "outputs": [],
      "metadata": {}
    },
    {
      "cell_type": "code",
      "source": "# 采用第一个特征fit. Fit with one feature\nrf3 = RandomForestRegressor(n_jobs=-1, verbose=1)\nrf3.fit(test['x'][0].ix[:, range(1)], test['y'][0])\nrf3.score(test['x'][0].ix[:, range(1)], test['y'][0])",
      "execution_count": null,
      "outputs": [],
      "metadata": {}
    },
    {
      "cell_type": "code",
      "source": "rf3.score(test['x'][1].ix[:, range(1)], test['y'][1])",
      "execution_count": null,
      "outputs": [],
      "metadata": {}
    },
    {
      "cell_type": "code",
      "source": "plt.hist(test['y'][0])",
      "execution_count": null,
      "outputs": [],
      "metadata": {}
    },
    {
      "cell_type": "code",
      "source": "plt.hist(test['y'][1])",
      "execution_count": null,
      "outputs": [],
      "metadata": {}
    },
    {
      "cell_type": "markdown",
      "source": "### 两个timestamp对于的y分布近似\n### y hist with defferent timestamps are similar.",
      "metadata": {}
    },
    {
      "cell_type": "code",
      "source": "df_ = df[df['timestamp'] < 100]\nX2 = df_.drop(['y', 'id', 'timestamp'], axis=1)\ny2 = df_['y']\nrf4 = RandomForestRegressor() \nrf4.fit(X2, y2)\nrf4.score(X2, y2)",
      "execution_count": null,
      "outputs": [],
      "metadata": {}
    },
    {
      "cell_type": "code",
      "source": "score_ = []\nfor i in range(10):\n    score_.append(rf4.score(test['x'][i], test['y'][i]))\nplt.plot(range(10), score_)",
      "execution_count": null,
      "outputs": [],
      "metadata": {}
    },
    {
      "cell_type": "markdown",
      "source": "## 还是过拟合 Still over fitting!",
      "metadata": {}
    },
    {
      "cell_type": "markdown",
      "source": "plt.hist(test['x'][0].ix[test['x'][0].ix[:, 0]>-9, 0],bins=100)",
      "metadata": {}
    },
    {
      "cell_type": "markdown",
      "source": "df_id = df.groupby('id')['y'].mean()",
      "metadata": {}
    },
    {
      "cell_type": "markdown",
      "source": "sns.boxplot(df_id)",
      "metadata": {}
    },
    {
      "cell_type": "markdown",
      "source": "df_ = df.ix[:, ['id', 'technical_35', 'derived_0']]\ny_ = df['y']\nrf_ = RandomForestRegressor()\nrf_.fit(df_, y_)\nrf_.score(df_, y_)",
      "metadata": {}
    },
    {
      "cell_type": "markdown",
      "source": "ind = np.arange(3)\nplt.bar(ind, rf_.feature_importances_)\nplt.xticks(ind+0.4, ['id', 'technical_35', 'derived_0'])",
      "metadata": {}
    },
    {
      "cell_type": "markdown",
      "source": "df_ = df.ix[:, ['technical_35', 'derived_0']]\ny_ = df['y']\nrf_ = RandomForestRegressor(n_jobs=-1)\nrf_.fit(df_, y_)\nrf_.score(df_, y_)",
      "metadata": {}
    },
    {
      "cell_type": "markdown",
      "source": "## id列对y的影响很不确定。",
      "metadata": {}
    },
    {
      "cell_type": "markdown",
      "source": "## 以上，主要工作是做了特征选取，异常值处理，missing value填充\n## 选择随机森林模型进行拟合，过拟合现象比较严重。\n## 欢迎指教。\n## In this notebook, the main work is to do the feature selection, exception handling, missing value padding.\n## Using RandomForest to fit data, i find a serious over-fitting phenomenon.\n## Please give me some suggestions for the whole process. Happy kaggle！",
      "metadata": {}
    }
  ]
}