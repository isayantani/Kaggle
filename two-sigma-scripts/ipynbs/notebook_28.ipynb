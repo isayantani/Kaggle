{
  "metadata": {
    "kernelspec": {
      "name": "python"
    },
    "language_info": {
      "name": "python",
      "version": "3.5.1"
    }
  },
  "nbformat": 4,
  "nbformat_minor": 0,
  "cells": [
    {
      "cell_type": "markdown",
      "source": "## Overview\n\nThis notebook focuses on the exploratory analysis of the NaNs in the data. There are three parts:\n\n 1. *Is the NaN structure on id level random?*\n 2. *Can that NaN structure be used to cluster id's?*\n 3. *Are there any gaps in any id time series?*",
      "metadata": {}
    },
    {
      "cell_type": "code",
      "source": "import numpy as np\nimport pandas as pd",
      "execution_count": null,
      "outputs": [],
      "metadata": {}
    },
    {
      "cell_type": "code",
      "source": "data = pd.read_hdf(\"../input/train.h5\")",
      "execution_count": null,
      "outputs": [],
      "metadata": {}
    },
    {
      "cell_type": "markdown",
      "source": "How many id's are in the dataset?",
      "metadata": {}
    },
    {
      "cell_type": "code",
      "source": "len(pd.unique(data.id))",
      "execution_count": null,
      "outputs": [],
      "metadata": {}
    },
    {
      "cell_type": "markdown",
      "source": "##1. Is the NaN Structure on Id Level Random?",
      "metadata": {}
    },
    {
      "cell_type": "markdown",
      "source": "**Short answer**: No it isn't. Let's dig in deeper!",
      "metadata": {}
    },
    {
      "cell_type": "markdown",
      "source": "## Time Structure for First Id",
      "metadata": {}
    },
    {
      "cell_type": "code",
      "source": "# First ID\ndata[data.id == data.id[0]].plot(x = 'timestamp', y = 'y',kind='scatter');",
      "execution_count": null,
      "outputs": [],
      "metadata": {}
    },
    {
      "cell_type": "markdown",
      "source": "The following plot shows the NaNs for the first id (it is basically a picture of the dataframe). Keep in mind that the data is already sorted.\n\nBlack: No NaN\n\nWhite: NaN",
      "metadata": {}
    },
    {
      "cell_type": "code",
      "source": "import matplotlib.pyplot as plt\n\ndata_binary = data[data.id == data.id[0]].isnull()\n\nfig = plt.figure()\nax = fig.add_subplot(111)\nax.imshow(data_binary, aspect='auto', cmap=plt.cm.gray, interpolation='nearest')\nplt.title(\"NaN structure for first id. White: NaN Black: No NaN\")\nplt.xlabel(\"Features\")\nplt.ylabel(\"Timestamp\");",
      "execution_count": null,
      "outputs": [],
      "metadata": {}
    },
    {
      "cell_type": "markdown",
      "source": "The data is **not** missing at random.\n\nNow let's do the same analysis for more financial instruments (chosen randomly).",
      "metadata": {}
    },
    {
      "cell_type": "markdown",
      "source": "## Time Structure for Randomly Chosen Id's",
      "metadata": {}
    },
    {
      "cell_type": "code",
      "source": "np.random.seed(352)\nids = np.random.choice(data.id,20)\n\nfor i in ids:\n    \n    data_binary = data[data.id == i].isnull()\n\n    fig = plt.figure()\n    ax = fig.add_subplot(111)\n    ax.imshow(data_binary, aspect='auto', cmap=plt.cm.gray, interpolation='nearest')\n    plt.title(\"NaN structure for id %i\" % i)\n    plt.xlabel(\"Features\")\n    plt.ylabel(\"Timestamp\");",
      "execution_count": null,
      "outputs": [],
      "metadata": {}
    },
    {
      "cell_type": "markdown",
      "source": "It seems that the measurements are only missing at the beginning of the time series! They seem to kick in later on (some never kick in).\n\nAnother thing that is interesting: Look at the features 70 - 111 (x-axis). The NaN structure is often similar for different financial instruments. But in general each instrument has a different NaN structure (at least those we looked at).\n\n**Hypothesis**: *The \"noisy\" NaN structure is not observable when drilling down on id level. The data is either always missing or only for a specific time period. After that time period it can always be observed. The NaN structure is not necessarily 100% unique for each id. id's can share aspects of that structure.* \n\n(Still need to work out how to generalize the analysis above without looking at each id plot myself :P)",
      "metadata": {}
    },
    {
      "cell_type": "markdown",
      "source": "## 2. Can That NaN Structure Be Used to Cluster Id's?",
      "metadata": {}
    },
    {
      "cell_type": "markdown",
      "source": "**Short answer**: There are at least two different groups of id's when looking at NaNs.",
      "metadata": {}
    },
    {
      "cell_type": "markdown",
      "source": "Let's have an aggregated look at the NaNs for each feature for each id.",
      "metadata": {}
    },
    {
      "cell_type": "code",
      "source": "unique_ids = pd.unique(data.id)\n\nNaN_vectors = np.zeros(shape=(1424, data.shape[1]))\n\nfor i, i_id in enumerate(unique_ids):\n    \n    data_sub = data[data.id == i_id]\n    NaN_vectors[i, :] = np.sum(data_sub.isnull(),axis=0) / float(data_sub.shape[0])",
      "execution_count": null,
      "outputs": [],
      "metadata": {}
    },
    {
      "cell_type": "markdown",
      "source": "Now we have the relative number of NaNs for each label and id. The columns of this matrix correspond to the labels in the dataset and the rows correspond to the unique id's (i.e. shape = 1424x111).\n\nThis is what the NaN vector looks like for the first id. Every entry gives the ratio of NaNs vs all recorded timestamps for that id (i.e. 0 means no NaNs for that label and 1 means that all recorded measurements are NaN).",
      "metadata": {}
    },
    {
      "cell_type": "code",
      "source": "NaN_vectors[0, :]",
      "execution_count": null,
      "outputs": [],
      "metadata": {}
    },
    {
      "cell_type": "markdown",
      "source": "Next, we apply hierarchical clustering on this data (applied to rows not columns, i.e. we sort the id's and not the labels). The color scheme is now inverted! I.e. NaNs are dark and non-NaNs are bright.",
      "metadata": {}
    },
    {
      "cell_type": "code",
      "source": "import seaborn as sns\ng = sns.clustermap(NaN_vectors,col_cluster=False,method='average',metric='euclidean')",
      "execution_count": null,
      "outputs": [],
      "metadata": {}
    },
    {
      "cell_type": "markdown",
      "source": "Just by looking at the NaN patterns, there might be two or three groups of id's that are similar w.r.t their NaN structure.",
      "metadata": {}
    },
    {
      "cell_type": "markdown",
      "source": "## 3. Are There Any Gaps in Any Id Time Series?",
      "metadata": {}
    },
    {
      "cell_type": "markdown",
      "source": "**Short answer**: Yes there are!",
      "metadata": {}
    },
    {
      "cell_type": "markdown",
      "source": "Let's see if we can find any gaps of measurements in the time series. Since the measurement frequency is the same across all id's (timestamp always +1) we can simply look for gaps by using the following formula:\n\nratio = total_count_measurements / (timestamp_max - timestamp_min + 1)\n\nIf there is no gap, we expect the ratio to be 1. If there is a gap, then it should be <1.",
      "metadata": {}
    },
    {
      "cell_type": "code",
      "source": "unique_id = pd.unique(data.id)\n\nresult = pd.DataFrame(np.zeros(shape=(len(unique_id),5)))\n\nfor i, i_id in enumerate(unique_id):\n\n    data_sub = data[data.id == i_id]\n\n    count = data_sub.timestamp.count()\n\n    time_min = np.min(data_sub.timestamp)\n    time_max = np.max(data_sub.timestamp)\n\n    ratio = count / float(time_max - time_min + 1)\n    \n    result.loc[i, :] = [i_id, ratio, time_min, time_max, count]\n    result.columns = [\"id\", \"ratio\", \"time_min\", \"time_max\", \"count\"]",
      "execution_count": null,
      "outputs": [],
      "metadata": {}
    },
    {
      "cell_type": "code",
      "source": "print(pd.unique(np.round(result.ratio,2)))",
      "execution_count": null,
      "outputs": [],
      "metadata": {}
    },
    {
      "cell_type": "markdown",
      "source": "Interesting! There are indeed values <1! Let's have a closer look.",
      "metadata": {}
    },
    {
      "cell_type": "code",
      "source": "print(result[result.ratio < 0.99])",
      "execution_count": null,
      "outputs": [],
      "metadata": {}
    },
    {
      "cell_type": "code",
      "source": "ids = result[result.ratio < 0.99].id\nratios = result[result.ratio < 0.99].ratio\n\nfor i, r in zip(ids,ratios):\n\n    data[data.id == i].plot(x = \"timestamp\", y = \"y\", kind = \"scatter\", \n                            title = \"ratio:\" + str(\"{0:.2f}\".format(r)) + \" id: \" + str(int(i)));",
      "execution_count": null,
      "outputs": [],
      "metadata": {}
    },
    {
      "cell_type": "markdown",
      "source": "We have found id's where gaps in the data exist. Not clear if these gaps are meaningful or actual measurement errors.",
      "metadata": {}
    },
    {
      "cell_type": "markdown",
      "source": "Hope this is useful! :)",
      "metadata": {}
    },
    {
      "cell_type": "code",
      "source": "",
      "execution_count": null,
      "outputs": [],
      "metadata": {}
    }
  ]
}