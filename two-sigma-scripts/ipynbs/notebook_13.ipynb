{
  "metadata": {
    "kernelspec": {
      "name": "python"
    },
    "language_info": {
      "name": "python",
      "version": "3.5.1"
    }
  },
  "nbformat": 4,
  "nbformat_minor": 0,
  "cells": [
    {
      "cell_type": "markdown",
      "source": "In this competition we have only limited time to run kernel for submission, so it's really important to take a good choice of what is imortant and what is not worth to waste a time on...",
      "metadata": {}
    },
    {
      "cell_type": "code",
      "source": "import numpy as np \nimport pandas as pd \nwith pd.HDFStore(\"../input/train.h5\", \"r\") as train:\n    df = train.get(\"train\")\nprint(\"Train shape: {}\".format(df.shape))",
      "execution_count": null,
      "outputs": [],
      "metadata": {}
    },
    {
      "cell_type": "code",
      "source": "# Values from top public kernel https://www.kaggle.com/bguberfain/two-sigma-financial-modeling/univariate-model-with-clip/run/482189\nlow_y_cut = -0.086092\nhigh_y_cut = 0.093496\n\nprint(\"Preparing data for model...\")\ndf = df.sample(frac=0.1)\ndf.fillna(df.mean(axis=0), inplace=True)\ny_is_within_cut = ((df['y'] > low_y_cut) & (df['y'] < high_y_cut))\n\ntrain_X = df.loc[y_is_within_cut, df.columns[2:-1]]\ntrain_y = df.loc[y_is_within_cut, 'y'].values.reshape(-1, 1)\nprint(\"Data for model: X={}, y={}\".format(train_X.shape, train_y.shape))",
      "execution_count": null,
      "outputs": [],
      "metadata": {}
    },
    {
      "cell_type": "code",
      "source": "import xgboost as xgb\nmodel = xgb.XGBRegressor()\nprint(\"Fitting...\")\nmodel.fit(train_X, train_y)\nprint(\"Fitting done\")",
      "execution_count": null,
      "outputs": [],
      "metadata": {}
    },
    {
      "cell_type": "code",
      "source": "import matplotlib.pyplot as plt\nfig, ax = plt.subplots(figsize=(7, 30))\nxgb.plot_importance(model, ax=ax)\nprint(\"Features importance done\")",
      "execution_count": null,
      "outputs": [],
      "metadata": {}
    },
    {
      "cell_type": "markdown",
      "source": "Feature techical_20 is on top... not a big surprise, because in currently top public kernel it is the only one feature used. Now I see, why :)\n\nTo be continued later...",
      "metadata": {}
    }
  ]
}