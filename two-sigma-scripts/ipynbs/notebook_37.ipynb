{
  "metadata": {
    "kernelspec": {
      "name": "python"
    },
    "language_info": {
      "name": "python",
      "version": "3.5.1"
    }
  },
  "nbformat": 4,
  "nbformat_minor": 0,
  "cells": [
    {
      "cell_type": "markdown",
      "source": "To look at and get an insight from the price movements of stocks, I simply draw these graphs.\nAssumed that the target 'y' sequence is a differenced time series data, the (scaled) price can be calculated by cumulative sum. \nIf I want to cluster assets using the other features to improve a prediction model, after that, I can simply check the clusters' practical validity by looking at these time series.",
      "metadata": {}
    },
    {
      "cell_type": "code",
      "source": "import numpy as np\nimport pandas as pd\nimport matplotlib.pyplot as plt\n%matplotlib inline\n\nwith pd.HDFStore(\"../input/train.h5\", \"r\") as train:\n    df = train.get(\"train\")",
      "execution_count": null,
      "outputs": [],
      "metadata": {}
    },
    {
      "cell_type": "code",
      "source": "timemax = max(df[\"timestamp\"])\ntimemin = min(df[\"timestamp\"])\nxlim = [timemin, timemax]\n\nfor asset in df[\"id\"].unique() :\n    #print(df[\"id\"=asset])\n    x = df[df[\"id\"]==asset][\"timestamp\"]\n    diffy = df[df[\"id\"]==asset][\"y\"]\n    y = np.cumsum(diffy)\n    \n    plt.figure(figsize=(9,1))\n    plt.plot(x, y, 'k-')\n    plt.plot(x, diffy, 'b-')\n    plt.xlim(xlim)\n    plt.title(\"ID # %s\" %(asset),size=10)\n    \n    tmax = max(x)\n    ax = plt.subplot()\n    ax.axvline(tmax, color='r', linestyle='--')\n\n    if asset > 50 :\n        break;",
      "execution_count": null,
      "outputs": [],
      "metadata": {}
    }
  ]
}