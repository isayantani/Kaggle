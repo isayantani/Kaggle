{
  "metadata": {
    "kernelspec": {
      "name": "python"
    },
    "language_info": {
      "name": "python",
      "version": "3.5.1"
    }
  },
  "nbformat": 4,
  "nbformat_minor": 0,
  "cells": [
    {
      "cell_type": "markdown",
      "source": "In this notebook, we take a quick look at some individual IDs and what their y value looks like across the timestamp.  It might give a bit more insight into modeling based on an ID basis.",
      "metadata": {}
    },
    {
      "cell_type": "code",
      "source": "import numpy as np # linear algebra\nimport pandas as pd # data processing, CSV file I/O (e.g. pd.read_csv)\nfrom pandas.tools.plotting import scatter_matrix\nimport matplotlib.pyplot as plt\n%matplotlib inline",
      "execution_count": null,
      "outputs": [],
      "metadata": {}
    },
    {
      "cell_type": "code",
      "source": "with pd.HDFStore(\"../input/train.h5\", \"r\") as train:\n    # Note that the \"train\" dataframe is the only dataframe in the file\n    df = train.get(\"train\")",
      "execution_count": null,
      "outputs": [],
      "metadata": {}
    },
    {
      "cell_type": "code",
      "source": "df.head()",
      "execution_count": null,
      "outputs": [],
      "metadata": {}
    },
    {
      "cell_type": "code",
      "source": "print(\"{0} unique IDs\".format(len(df.id.unique())))\nprint(\"{0} unique timestamp\".format(len(df.timestamp.unique())))",
      "execution_count": null,
      "outputs": [],
      "metadata": {}
    },
    {
      "cell_type": "markdown",
      "source": "### Plot timestamp vs y by individual IDs\nI wanted to take a look at each individual id to see whether they provide insight so I pulled the ids out and plotted them against their timestamp.",
      "metadata": {}
    },
    {
      "cell_type": "code",
      "source": "fig = plt.figure(figsize=(8, 20))\nplot_count = 0\nfor i in range(0,10):\n    plot_count += 1\n    plt.subplot(10,1,plot_count)\n    randID=np.array(df.id.sample(1))[0]\n    dften=df[df['id']==randID]\n    plt.plot(dften['timestamp'],dften['y'])\n    plt.title(\"ID = \"+str(randID))\n    plt.xlim(0,1900)\n    plt.tight_layout()\nplt.show()",
      "execution_count": null,
      "outputs": [],
      "metadata": {}
    },
    {
      "cell_type": "markdown",
      "source": "### Plot moving average of \"timestamp\" vs \"y\" by individual IDs\nSince moving averages tend to give the best depiction of the trend of Y values.  I've randomly selected an interval of 100 and plotted the data.",
      "metadata": {}
    },
    {
      "cell_type": "code",
      "source": "fig = plt.figure(figsize=(8, 20))\nplot_count = 0\nfor i in range(0,10):\n    plot_count += 1\n    plt.subplot(10,1,plot_count)\n    randID=np.array(df.id.sample(1))[0]\n    dften=df[df['id']==randID]\n    dften['ymean']=pd.rolling_mean(dften['y'],100)\n    plt.plot(dften['timestamp'],dften['ymean'])\n    plt.title(\"ID = \"+str(randID))\n    plt.xlim(0,1900)\n    plt.tight_layout()\nplt.show()",
      "execution_count": null,
      "outputs": [],
      "metadata": {}
    },
    {
      "cell_type": "markdown",
      "source": "### Plot Both\nNow that I've seen the moving average does have some sort of shape rather than a complete straight line, we can plot them side by side to see how they stack up!",
      "metadata": {}
    },
    {
      "cell_type": "code",
      "source": "fig = plt.figure(figsize=(8, 20))\nplot_count = 0\nfor i in range(0,5):\n    plot_count += 1\n    plt.subplot(10,1,plot_count)\n    randID=np.array(df.id.sample(1))[0]\n    dften=df[df['id']==randID]\n    dften['ymean']=pd.rolling_mean(dften['y'],100)\n    plt.plot(dften['timestamp'],dften['ymean'])\n    plt.title(\"Moving Average ID = \"+str(randID))\n    plt.xlim(0,1900)\n    plt.tight_layout()\n    plot_count += 1\n    plt.subplot(10,1,plot_count)\n    plt.plot(dften['timestamp'],dften['y'])\n    plt.title(\"ID = \"+str(randID))\n    plt.xlim(0,1900)\n    plt.tight_layout()\nplt.show()",
      "execution_count": null,
      "outputs": [],
      "metadata": {}
    },
    {
      "cell_type": "markdown",
      "source": "### Identifying correlation on the original Y\nBefore running correlation on moving averages, I wanted to have a baseline of correlations to compare to.",
      "metadata": {}
    },
    {
      "cell_type": "code",
      "source": "dften=df[df['id']==870]\ncor=dften.corr(method='pearson')\ncordf=pd.DataFrame(cor['y'])\ncordf['sort']=cordf.y.abs()\nprint(randID)\ncordf.sort_values('sort',ascending=False).drop('sort', axis=1).head(10)",
      "execution_count": null,
      "outputs": [],
      "metadata": {}
    },
    {
      "cell_type": "markdown",
      "source": "### Identifying correlation on moving averages\nMaybe moving averages give a better picture as Y value instead of the actual Y value so let's take a look at the correlation coefficient",
      "metadata": {}
    },
    {
      "cell_type": "code",
      "source": "#randID=np.array(df.id.sample(1))[0]\ndften=df[df['id']==870]\ndften['ymean']=dften['y'].rolling(window=100).mean()\ncor=dften.corr(method='pearson')\ncordf=pd.DataFrame(cor['ymean'])\ncordf['sort']=cordf.ymean.abs()\nprint(randID)\ncordf.sort_values('sort',ascending=False).drop('sort', axis=1).head(10)",
      "execution_count": null,
      "outputs": [],
      "metadata": {}
    },
    {
      "cell_type": "markdown",
      "source": "### Plotting the metrics with high correlation\nAfter running through a few iterations of metrics with decently high correlation, I wanted to take a look to see how the data looked.  So I took a look at the data, got rid of the ymean values that were NaN and plotted this in a scatter matrix",
      "metadata": {}
    },
    {
      "cell_type": "code",
      "source": "dften.loc[:,['fundamental_20','fundamental_45','fundamental_26','ymean']]",
      "execution_count": null,
      "outputs": [],
      "metadata": {}
    },
    {
      "cell_type": "code",
      "source": "dften = dften[np.isfinite(dften['ymean'])]\ndften.shape\naxs = scatter_matrix(dften.loc[:,['fundamental_20','fundamental_45','fundamental_26','ymean']], alpha=0.3, figsize=(9,9), diagonal='hist')",
      "execution_count": null,
      "outputs": [],
      "metadata": {}
    },
    {
      "cell_type": "markdown",
      "source": "### Conclusion\nIt may be worth using moving average along with linear regression at an individual ID level.  However, because there are more than 1400 individual IDs, calculating the top 4 correlated metrics and generating a linear model from this may not completed within the time limit.  One other possible way to get around this is to initially identify IDs that correlate with each other on the moving average and group them in the regression analysis.",
      "metadata": {}
    },
    {
      "cell_type": "code",
      "source": "",
      "execution_count": null,
      "outputs": [],
      "metadata": {}
    }
  ]
}