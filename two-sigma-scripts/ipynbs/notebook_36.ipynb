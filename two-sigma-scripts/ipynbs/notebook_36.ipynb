{
  "metadata": {
    "kernelspec": {
      "name": "python"
    },
    "language_info": {
      "name": "python",
      "version": "3.5.1"
    }
  },
  "nbformat": 4,
  "nbformat_minor": 0,
  "cells": [
    {
      "cell_type": "markdown",
      "source": "As shown by other competitors, the correlation between the features and the asset prices is low. Hence, the features need to be transformed in order to learn predictive models. \n\nOne possible approach to transform the features is to lag the technical indicators in order to get a better match to the historical market prices they are calculated on.",
      "metadata": {}
    },
    {
      "cell_type": "markdown",
      "source": "First, we load the available data and check if everything works out as planned:",
      "metadata": {}
    },
    {
      "cell_type": "code",
      "source": "import numpy as np\nimport pandas as pd\nimport matplotlib.pyplot as plt\nimport seaborn as sns\n\n%matplotlib inline\n\n# Load Data\nwith pd.HDFStore('../input/train.h5') as train:\n    df = train.get('train')\n    \ndf.head()",
      "execution_count": null,
      "outputs": [],
      "metadata": {}
    },
    {
      "cell_type": "markdown",
      "source": "Next, we filter for the the technical indicators.",
      "metadata": {}
    },
    {
      "cell_type": "code",
      "source": "technical = df.filter(regex=\"technical\").columns\ntechnical[:5]",
      "execution_count": null,
      "outputs": [],
      "metadata": {}
    },
    {
      "cell_type": "markdown",
      "source": "As technical indicators are calculated based on historical data, we expect them to follow the asset price 'y' with a certain lag. While the unweighted moving average would be a simple example, the proposition also holds for more complex indicators like bollinger bands wich incorporate not only the rolling mean but also the rolling standard deviation. \n\nWe define a function to analyze the correlation between the lagged features and the asset prices.",
      "metadata": {}
    },
    {
      "cell_type": "code",
      "source": "def crosscorr(x, y, lag=0):\n    return y.corr(x.shift(lag))",
      "execution_count": null,
      "outputs": [],
      "metadata": {}
    },
    {
      "cell_type": "markdown",
      "source": "We apply this function to two assets (id = 70 and id = 150) and plot the results for all lags from 0 to 99.  The blue bars show the correlations for the different legs for the asset with id 70 and the red bars for id 150.",
      "metadata": {}
    },
    {
      "cell_type": "code",
      "source": "def plot_lagged_correlation(id, lags, columns, color):\n    xcov = {}\n    for i in range(lags):\n        xcov[i] = crosscorr(df[df.id == id][\"y\"], df[df.id == id][columns[feature]], lag=i)\n    X = np.arange(len(xcov))\n    plt.bar(X, xcov.values(), color = color)\n    \nfor feature in range(len(technical)):\n    plt.figure()\n    plt.subplot(211)\n    plot_lagged_correlation(70, 100, technical, \"blue\")\n    plt.title(\"Feature : \" + str(technical[feature]))\n    plt.subplot(212)\n    plot_lagged_correlation(150, 100, technical, \"red\")\n    plt.tight_layout()",
      "execution_count": null,
      "outputs": [],
      "metadata": {}
    },
    {
      "cell_type": "markdown",
      "source": "We see mixed results for the different technical indicators. On the one hand, a few features have the highest absolute correlation without beeing lagged (e.g. technical_30). On the other hand, most features have a very low correlation in the initial unlagged setting but a higher correlation if they are beeing lagged. Often times, the correlations are positive for one asset and negative for the other asset. However, my guess is that the optimal lag can be calculated based on the absolute correlation. ",
      "metadata": {}
    },
    {
      "cell_type": "markdown",
      "source": "I hope that this first analysis can be used to identify the time window underlying the different technical features and  create more powerful features for the predictive models. If you have any suggestions to improve this script or ideas on how to apply it to the complete portfolio I would be happy to know.",
      "metadata": {}
    }
  ]
}