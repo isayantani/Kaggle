{
  "metadata": {
    "kernelspec": {
      "name": "python"
    },
    "language_info": {
      "name": "python",
      "version": "3.5.1"
    }
  },
  "nbformat": 4,
  "nbformat_minor": 0,
  "cells": [
    {
      "cell_type": "markdown",
      "source": "cluster asset based on their return correlation**strong text** ",
      "metadata": {}
    },
    {
      "cell_type": "code",
      "source": "# Import all the necessary packages \nimport kagglegym\nimport numpy as np\nfrom itertools import chain\nimport pandas as pd\nfrom sklearn.ensemble import ExtraTreesRegressor\nfrom sklearn.linear_model import LinearRegression, Ridge\nimport math\nimport matplotlib.pyplot as plt\n%matplotlib inline",
      "execution_count": null,
      "outputs": [],
      "metadata": {}
    },
    {
      "cell_type": "code",
      "source": "# Read the full data set stored as HDF5 file\nfull_df = pd.read_hdf('../input/train.h5')\nmean_values = full_df.median(axis=0)\nfull_df=full_df.fillna(mean_values)\ndf=pd.pivot_table(full_df, values='y', index=['timestamp'], columns=['id'], aggfunc=np.sum)\ndf.to_csv('assets.csv',index=False)\ndf=pd.read_csv('assets.csv')",
      "execution_count": null,
      "outputs": [],
      "metadata": {}
    },
    {
      "cell_type": "code",
      "source": "cor=df.corr()\ncor.loc[:,:] =  np.tril(cor, k=-1)\ncor = cor.stack()",
      "execution_count": null,
      "outputs": [],
      "metadata": {}
    },
    {
      "cell_type": "code",
      "source": "ones = cor[cor > 0.5].reset_index().loc[:,['level_0','level_1']]\nones = ones.query('level_0 not in level_1')\ngroups=ones.groupby('level_0').agg(lambda x: set(chain(x.level_0,x.level_1))).values\nprint('groups of assets which are correlated on y value more then 0.4')\nfor g,i in zip(groups,range(len(groups))):\n    print(i,g)",
      "execution_count": null,
      "outputs": [],
      "metadata": {}
    },
    {
      "cell_type": "markdown",
      "source": "This might be helpful to build separate model for asset which are correlated on the values**strong text**\n\nLets plot some groups",
      "metadata": {}
    },
    {
      "cell_type": "code",
      "source": "from pylab import rcParams\nrcParams['figure.figsize'] = 10, 5\n#rows = np.random.choice(full_df.id, 15)\nfor key, grp in full_df[full_df.id.isin(map(int,list(groups[127][0])))].groupby(['id']): \n    plt.plot(grp['timestamp'], np.cumsum(grp['y']), label = \"id {0:02d}\".format(key))\nplt.legend(loc='best')  \nplt.title('y distribution')\nplt.show()",
      "execution_count": null,
      "outputs": [],
      "metadata": {}
    },
    {
      "cell_type": "code",
      "source": "from pylab import rcParams\nrcParams['figure.figsize'] = 10, 5\n#rows = np.random.choice(full_df.id, 15)\nfor key, grp in full_df[full_df.id.isin( map(int,list(groups[36][0])))].groupby(['id']): \n    plt.plot(grp['timestamp'], np.cumsum(grp['y']), label = \"id {0:02d}\".format(key))\nplt.legend(loc='best')  \nplt.title('y distribution')\nplt.show()",
      "execution_count": null,
      "outputs": [],
      "metadata": {}
    },
    {
      "cell_type": "code",
      "source": "from pylab import rcParams\nrcParams['figure.figsize'] = 10, 5\n#rows = np.random.choice(full_df.id, 15)\nfor key, grp in full_df[full_df.id.isin( map(int,list(groups[152][0])))].groupby(['id']): \n    plt.plot(grp['timestamp'], np.cumsum(grp['y']), label = \"id {0:02d}\".format(key))\nplt.legend(loc='best')  \nplt.title('y distribution')\nplt.show()",
      "execution_count": null,
      "outputs": [],
      "metadata": {}
    },
    {
      "cell_type": "code",
      "source": "from pylab import rcParams\nrcParams['figure.figsize'] = 10, 5\n#rows = np.random.choice(full_df.id, 15)\nfor key, grp in full_df[full_df.id.isin( map(int,list(groups[162][0])))].groupby(['id']): \n    plt.plot(grp['timestamp'], np.cumsum(grp['y']), label = \"id {0:02d}\".format(key))\nplt.legend(loc='best')  \nplt.title('y distribution')\nplt.show()",
      "execution_count": null,
      "outputs": [],
      "metadata": {}
    },
    {
      "cell_type": "code",
      "source": "from pylab import rcParams\nrcParams['figure.figsize'] = 10, 5\n#rows = np.random.choice(full_df.id, 15)\nfor key, grp in full_df[full_df.id.isin( map(int,list(groups[23][0])))].groupby(['id']): \n    plt.plot(grp['timestamp'], np.cumsum(grp['y']), label = \"id {0:02d}\".format(key))\nplt.legend(loc='best')  \nplt.title('y distribution')\nplt.show()",
      "execution_count": null,
      "outputs": [],
      "metadata": {}
    }
  ]
}