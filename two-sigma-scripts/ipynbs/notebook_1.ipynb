{
  "metadata": {
    "kernelspec": {
      "display_name": "Python 3",
      "language": "python",
      "name": "python3"
    },
    "language_info": {
      "codemirror_mode": {
        "name": "ipython",
        "version": 3
      },
      "file_extension": ".py",
      "mimetype": "text/x-python",
      "name": "python",
      "nbconvert_exporter": "python",
      "pygments_lexer": "ipython3",
      "version": "3.6.0"
    }
  },
  "nbformat": 4,
  "nbformat_minor": 0,
  "cells": [
    {
      "cell_type": "markdown",
      "source": "technical_20 and technical_30 may be the most useful features in this competition.  In this kernel I will investigate what the physical meanings of these two features.",
      "metadata": {}
    },
    {
      "cell_type": "code",
      "source": "#load libs\nimport kagglegym\nimport numpy as np\nimport pandas as pd\nfrom sklearn.ensemble import ExtraTreesRegressor\nfrom sklearn.linear_model import LinearRegression, BayesianRidge\n\nimport matplotlib.pyplot as plt\nimport seaborn as sns\n%matplotlib inline\n\nenv = kagglegym.make()\no = env.reset()\ncol = [c for c in o.train.columns if '_' in c]\n\nfull_df = pd.read_hdf('../input/train.h5')\ndef get_reward(y_true, y_fit):\n    R2 = 1 - np.sum((y_true - y_fit)**2) / np.sum((y_true - np.mean(y_true))**2)\n    R = np.sign(R2) * np.sqrt(abs(R2))\n    return(R)\npd.options.mode.chained_assignment = None  # default='warn'",
      "execution_count": null,
      "outputs": [],
      "metadata": {}
    },
    {
      "cell_type": "markdown",
      "source": "we choose one random asset id, and plot the technical_20 - y curve. For better visualization, we scale the technical_20 values.",
      "metadata": {}
    },
    {
      "cell_type": "code",
      "source": "id = 1561 #val_set.id.sample().values[0]\nprint(id)\ntemp = full_df[full_df.id==id]\ntemp['feature'] = temp['technical_20']\ntemp['feature'] = temp['feature'] * 4\ntemp[['y', 'feature']].iloc[:100,:].plot(marker='.')",
      "execution_count": null,
      "outputs": [],
      "metadata": {}
    },
    {
      "cell_type": "markdown",
      "source": "Y values vibrates strongly. In this figure it is hard for us to find a clear relation between technical_20 and y. We try the cumsum of y values.",
      "metadata": {}
    },
    {
      "cell_type": "code",
      "source": "temp['y_cum'] = temp.y.cumsum()\ntemp[['y_cum', 'feature']].iloc[:100,:].plot(marker='.')",
      "execution_count": null,
      "outputs": [],
      "metadata": {}
    },
    {
      "cell_type": "markdown",
      "source": "Now we can find something interesting. When the price of the asset increase, technical_20 becomes positive, otherwise technical_20 is zero. Similar relation between technical_30 and cum_sum of y can be found, while it is negative correlation. So we may guess technical_20 may indicate the increase of the price.",
      "metadata": {}
    },
    {
      "cell_type": "code",
      "source": "temp[['y_cum', 'technical_30']].iloc[:100,:].plot(marker='.')",
      "execution_count": null,
      "outputs": [],
      "metadata": {}
    },
    {
      "cell_type": "markdown",
      "source": "We quickly check whether the correlation between techical_20 and y is positive as we observed.",
      "metadata": {}
    },
    {
      "cell_type": "code",
      "source": "print(np.correlate(temp['y'], temp['technical_20']))\nprint(np.correlate(temp['y'], temp['technical_30']))",
      "execution_count": null,
      "outputs": [],
      "metadata": {}
    },
    {
      "cell_type": "markdown",
      "source": "It is weird. The true correlation between y and technical_20 is negative. ",
      "metadata": {}
    },
    {
      "cell_type": "markdown",
      "source": "Follow the method in https://www.kaggle.com/achalshah/two-sigma-financial-modeling/linear-regression-lb-0-0091176, we quickly implement a linear regression using technical_20. ",
      "metadata": {}
    },
    {
      "cell_type": "code",
      "source": "train_data = o.train\ncols = 'technical_20'\n\nlow_y_cut = -0.086093\nhigh_y_cut = 0.093497\n\ny_values_within = ((train_data['y'] > low_y_cut) & (train_data['y'] <high_y_cut))\n\ntrain_cut = train_data.loc[y_values_within,:]\n\n# Fill missing values\nmean_vals = train_cut.mean()\ntrain_cut.fillna(mean_vals,inplace=True)\n\nx_train = train_cut[cols]\ny = train_cut[\"y\"]\n\nlr_model = LinearRegression()\nlr_model.fit(np.array(x_train.values).reshape(-1,1),y.values)\n\nval_set = full_df[full_df.timestamp>=906]\nx_val = val_set[cols].fillna(mean_vals[cols])\npred = lr_model.predict(x_val.values.reshape(-1, 1))\nre = get_reward(val_set['y'], pred)\nprint(\"Public score: {}\".format(re))\nprint(\"learned parameter of the model: {}\".format(lr_model.coef_))",
      "execution_count": null,
      "outputs": [],
      "metadata": {}
    },
    {
      "cell_type": "markdown",
      "source": "The coefficients is negative. Carefully exam the the technical_20 - y curve, we may find that technical_20 looks like the lag of the y value.  To verify this hypothesis, we use t day's technical_20 to predict t-1 day's y.",
      "metadata": {}
    },
    {
      "cell_type": "code",
      "source": "train_cut = train_data.loc[y_values_within,:]\nx_train = train_cut.groupby('id')[cols].shift(-1).fillna(mean_vals[cols])\ny = train_cut[\"y\"]\n\nlr_model2 = LinearRegression()\nlr_model2.fit(np.array(x_train.values).reshape(-1,1),y.values)\n\nx_val = val_set.groupby('id')[cols].shift(-1).fillna(mean_vals[cols])\npred = lr_model2.predict(x_val.values.reshape(-1, 1))\nre = get_reward(val_set['y'], pred)\nprint(\"Public score: {}\".format(re))\nprint(\"learned parameter of the model: {}\".format(lr_model2.coef_))",
      "execution_count": null,
      "outputs": [],
      "metadata": {}
    },
    {
      "cell_type": "markdown",
      "source": "Wow, the public score is 0.26. Such a high score indicate that technical_20 is derived from t-1 day's y value.  Since technical_20 relates to the increase while technical_30 relates to the decrease, we construct a new feature technical_20-30 using technical_20 minus technical_30. With the help of Linear Regression, we use previous days' y values estimate this feature and investigate the physical meanings.",
      "metadata": {}
    },
    {
      "cell_type": "code",
      "source": "temp = full_df.copy()\ntemp['feature'] = temp['technical_20'] - temp['technical_30']\nn = 5\nfor i in range(1, n+1):\n    temp['fea_%d'%i] = temp.groupby('id')['y'].shift(i)\ntemp = temp.filter(regex='^fea').dropna()\nestimator = LinearRegression()\nestimator.fit(temp.filter(regex='^fea_').values, temp.feature.values)\n#temp['pred_f'] = eastimator.predict(temp.filter(regex='^fea_').fillna(mean_vals).values)\nprint(estimator.intercept_, estimator.coef_)",
      "execution_count": null,
      "outputs": [],
      "metadata": {}
    },
    {
      "cell_type": "code",
      "source": "id = 142 #full_df.id.sample().values[0]\nprint(id)\ntemp = full_df[full_df.id==id]\ntemp['feature'] = temp['technical_20'] - temp['technical_30']\nmean_vals = temp.y.mean()\nfor i in range(1, n+1):\n    temp['fea_%d'%i] = temp['y'].shift(i)\ntemp['y_2'] = estimator.predict(temp.filter(regex='^fea_').fillna(mean_vals).values)\ntemp[['y_2', 'feature']].iloc[:100,:].plot(marker='.')",
      "execution_count": null,
      "outputs": [],
      "metadata": {}
    },
    {
      "cell_type": "markdown",
      "source": "The estimated feature roughly looks like the true features. And from the coefficients of estimator, we can guess 20-30 is a kind of moving average the y values. We use more y values to predict feature.",
      "metadata": {}
    },
    {
      "cell_type": "code",
      "source": "temp = full_df.copy()\ntemp['feature'] = temp['technical_20'] - temp['technical_30']\nn = 20\nfor i in range(1, n+1):\n    temp['fea_%d'%i] = temp.groupby('id')['y'].shift(i)\ntemp = temp.filter(regex='^fea').dropna()\nestimator = LinearRegression()\nestimator.fit(temp.filter(regex='^fea_').values, temp.feature.values)\n#temp['pred_f'] = eastimator.predict(temp.filter(regex='^fea_').fillna(mean_vals).values)\nprint(estimator.intercept_, estimator.coef_)\n\nid = 142 #full_df.id.sample().values[0]\ntemp = full_df[full_df.id==id]\ntemp['feature'] = temp['technical_20'] - temp['technical_30']\nmean_vals = temp.y.mean()\nfor i in range(1, n+1):\n    temp['fea_%d'%i] = temp['y'].shift(i)\ntemp['y_2'] = estimator.predict(temp.filter(regex='^fea_').fillna(mean_vals).values)\ntemp[['y_2', 'feature']].iloc[:100,:].plot(marker='.')",
      "execution_count": null,
      "outputs": [],
      "metadata": {}
    },
    {
      "cell_type": "markdown",
      "source": "When we use more y values, the estimated feature is more accurate. So we can say technical_20 and technical_30 is a kind of weighted moving mean of historical y values, and nearer y values have larger weights.  Now we try to how these weights shrink.",
      "metadata": {}
    },
    {
      "cell_type": "code",
      "source": "for i in range(len(estimator.coef_)-1):\n    print(estimator.coef_[i+1]/estimator.coef_[i])",
      "execution_count": null,
      "outputs": [],
      "metadata": {}
    },
    {
      "cell_type": "markdown",
      "source": "It seems the shrink scale is around 0.92. Denote technical_20-30 as F, So we assume F(t) = 0.07* y(t-1) + 0.92 * F(t-1). Have a quick verification.",
      "metadata": {}
    },
    {
      "cell_type": "code",
      "source": "temp['feature_'] = 0.07 * temp['fea_1'] + 0.92 * temp['feature'].shift(1)\ntemp[['feature_', 'feature']].iloc[:100,:].plot(marker='.')",
      "execution_count": null,
      "outputs": [],
      "metadata": {}
    },
    {
      "cell_type": "markdown",
      "source": "bravo! The hypothetical feature curve is very close to the true curve. So we can confirm that the feature comes in this way.  However, as we see before, the technical_20, and technical_30 are clipped to a lower bound 0, so in some case, the curve will be not exactly same as we assume, especially when 0 appears frequently.  For example:",
      "metadata": {}
    },
    {
      "cell_type": "code",
      "source": "id = 12 #full_df.id.sample().values[0]\ntemp = full_df[full_df.id==id]\ntemp['feature'] = temp['technical_20'] - temp['technical_30']\ntemp['feature_'] = 0.07 * temp['y'].shift(1) + 0.92 * temp['feature'].shift(1)\ntemp[['feature_', 'feature']].iloc[:100,:].plot(marker='.')",
      "execution_count": null,
      "outputs": [],
      "metadata": {}
    },
    {
      "cell_type": "code",
      "source": null,
      "execution_count": null,
      "outputs": [],
      "metadata": {}
    }
  ]
}