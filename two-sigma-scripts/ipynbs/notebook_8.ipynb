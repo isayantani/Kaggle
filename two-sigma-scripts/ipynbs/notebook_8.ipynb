{
  "metadata": {
    "kernelspec": {
      "name": "python"
    },
    "language_info": {
      "name": "python",
      "version": "3.5.1"
    }
  },
  "nbformat": 4,
  "nbformat_minor": 0,
  "cells": [
    {
      "cell_type": "markdown",
      "source": "**Simple Notebook for exploring the data ...**",
      "metadata": {}
    },
    {
      "cell_type": "code",
      "source": "import numpy as np \nimport pandas as pd \nfrom scipy import signal\nimport matplotlib.pyplot as plt\n\nimport kagglegym",
      "execution_count": null,
      "outputs": [],
      "metadata": {}
    },
    {
      "cell_type": "code",
      "source": "# This part is going to be for explorind the dataset ...\n# so we want the entire dataset ..\nwith pd.HDFStore(\"../input/train.h5\", \"r\") as train:\n    df = train.get(\"train\")",
      "execution_count": null,
      "outputs": [],
      "metadata": {}
    },
    {
      "cell_type": "code",
      "source": "dfId = df[['id', 'timestamp', 'y']].groupby('id').agg([\n                    np.min, np.max, len, \n                lambda m: (list(m)[0] - list(m)[-1])/np.abs(np.mean(list(m))) ]  ).reset_index()\ndfId.sort_values([('timestamp', 'amax')], inplace=True, ascending=False)\nprint(dfId.head())\nprint(dfId['y'].columns)",
      "execution_count": null,
      "outputs": [],
      "metadata": {}
    },
    {
      "cell_type": "markdown",
      "source": "When were the stocks bought and sole? This is interesting. It appears that the stocks are bought at regular intervals, but dropped at random times ...",
      "metadata": {}
    },
    {
      "cell_type": "code",
      "source": "plt.plot(dfId[('timestamp', 'amin')], dfId['id'], '.', mfc='green', mec='None', label='bought')\nplt.plot(dfId[('timestamp', 'amax')], dfId['id'], '.', mfc='red',   mec='None', label='sold')\nplt.xlabel('timestamp')\nplt.ylabel('stock number')\nplt.legend()",
      "execution_count": null,
      "outputs": [],
      "metadata": {}
    },
    {
      "cell_type": "markdown",
      "source": "Why are stocks sold at random points? Is it because the stock prices drop significantly? Let's look at the difference in the price between the start and end of a stock value when they are dropped. Are there any temporal trends in the data?",
      "metadata": {}
    },
    {
      "cell_type": "code",
      "source": "plt.scatter( dfId[('timestamp', 'amax')], \n             dfId['id'], \n             c    = dfId[('y', '<lambda>')], \n             s    = dfId[('timestamp', 'len')]/10,\n             cmap = plt.cm.BrBG, vmin=-40, vmax=40).set_alpha(0.6)\nplt.colorbar()",
      "execution_count": null,
      "outputs": [],
      "metadata": {}
    },
    {
      "cell_type": "markdown",
      "source": "It does not appear as if the number to stocks that are sold is is due to the value of the stock taking a dive. ",
      "metadata": {}
    },
    {
      "cell_type": "code",
      "source": "import seaborn as sns\ndfStats = df[['y', 'id']].groupby('id').agg([np.median, np.std, np.min, np.max, np.mean]).reset_index()\ndfStats.sort_values( ('y', 'median'), inplace=True )\nprint( dfStats.head() )\nprint( dfStats['y'].apply(np.median) )\n\n\nsns.violinplot( dfStats[('y',  'amin')]   , color='orange')\nsns.violinplot( dfStats[('y',  'median')] , color='teal')\nsns.violinplot( dfStats[('y',  'amax')]   , color='indianred')\n\n\nplt.figure()\ntemp = sns.kdeplot(dfStats[('y', 'amin')]  )\ntemp = sns.kdeplot(dfStats[('y', 'median')])\ntemp = sns.kdeplot(dfStats[('y', 'mean')]  )\ntemp = sns.kdeplot(dfStats[('y', 'amax')]  )\nplt.yscale('log')\n\nplt.figure()\ntemp = sns.kdeplot(dfStats[('y', 'std')])",
      "execution_count": null,
      "outputs": [],
      "metadata": {}
    },
    {
      "cell_type": "code",
      "source": "plt.figure()\ntemp = sns.kdeplot(df['y'])\nplt.yscale('log')",
      "execution_count": null,
      "outputs": [],
      "metadata": {}
    },
    {
      "cell_type": "code",
      "source": "# Finding distributions of the result. \n# This is an entire portfolio. It will \n# be good to see how each variable changes \n# independent of each other ...\n# -------------------------------------------\n\nfor i, (idVal, dfG) in enumerate(df[['id', 'timestamp', 'y']].groupby('id')):\n    if i> 100: break\n    df1 = dfG[['timestamp', 'y']].groupby('timestamp').agg(np.mean).reset_index()\n    plt.plot(df1['timestamp'], np.cumsum(df1['y']),label='%d'%idVal)",
      "execution_count": null,
      "outputs": [],
      "metadata": {}
    },
    {
      "cell_type": "code",
      "source": "# Finding distributions of the result. \n# This is an entire portfolio. It will \n# be good to see how each variable changes \n# independent of each other ...\n# -------------------------------------------\n\nfor i, (idVal, dfG) in enumerate(df[['id', 'timestamp', 'y']].groupby('id')):\n    if i> 100: break\n    #df1 = dfG[['timestamp', 'y']].groupby('timestamp').agg(np.mean).reset_index()\n    #plt.plot(df1['timestamp'], np.cumsum(df1['y']),label='%d'%idVal)\n    dfG.head()",
      "execution_count": null,
      "outputs": [],
      "metadata": {}
    },
    {
      "cell_type": "markdown",
      "source": "So this 'asset' is made up of other different assets. Looks like there are several assets that \"track each other.\" One thing to do would be to try and understand which one's do and which one's don't ...\n\nWill look more into this after work ...",
      "metadata": {}
    },
    {
      "cell_type": "code",
      "source": "df2 = df[['id', 'timestamp', 'y']].pivot_table(values='y', index='timestamp', columns='id').reset_index(False)\ndf2.head()",
      "execution_count": null,
      "outputs": [],
      "metadata": {}
    },
    {
      "cell_type": "markdown",
      "source": "Now, lets find the autocorrelations for the different id's",
      "metadata": {}
    },
    {
      "cell_type": "code",
      "source": "cols = [ c for c in df2.columns if str(c) != 'timestamp']\nlags = [1]\naCorrs = []\nfor i, c in enumerate(cols):\n    try:\n        aCorrs.append((c , max([(df2[c].autocorr(lag)) for lag in lags])))\n    except:\n        pass\n    \naCorrs = pd.DataFrame(aCorrs, columns=['id', 'maxAcorr']).sort_values('maxAcorr', ascending=False)\nprint(aCorrs.head())",
      "execution_count": null,
      "outputs": [],
      "metadata": {}
    },
    {
      "cell_type": "markdown",
      "source": "Lets now plot the ones that have the highest autocorrelations ...",
      "metadata": {}
    },
    {
      "cell_type": "code",
      "source": "lags = range(1, 15)\nfor c in list(aCorrs.id)[:10]:\n    plt.figure()\n    plt.plot(list(df2[c])[:-1], list(df2[c])[1:], 's')\n    plt.title(str(c))",
      "execution_count": null,
      "outputs": [],
      "metadata": {}
    },
    {
      "cell_type": "code",
      "source": "cols = [ c for c in df2.columns if str(c) != 'timestamp']\ncorrs = df2[cols].corr()",
      "execution_count": null,
      "outputs": [],
      "metadata": {}
    },
    {
      "cell_type": "code",
      "source": "corrs",
      "execution_count": null,
      "outputs": [],
      "metadata": {}
    },
    {
      "cell_type": "code",
      "source": "temp = np.where(np.triu(corrs) < -0.9)\ntemp = [sorted(a) for a in zip(temp[0], temp[1]) if a[0]!=a[1]]",
      "execution_count": null,
      "outputs": [],
      "metadata": {}
    },
    {
      "cell_type": "markdown",
      "source": "Lets plot the first few that are highly correlated ...",
      "metadata": {}
    },
    {
      "cell_type": "code",
      "source": "prevId = -1\nfor i, (a, b) in enumerate(temp):\n    \n    if a != prevId:\n        plt.figure()\n        prevId = a\n        plt.plot(np.cumsum(df2.ix[:, a]), label='id=%d'%a)\n    plt.plot(np.cumsum(df2.ix[:, b]), label='id=%d'%b)\n    plt.legend()\n    \n    if i > 5: break\n    ",
      "execution_count": null,
      "outputs": [],
      "metadata": {}
    },
    {
      "cell_type": "code",
      "source": "list(df.columns)",
      "execution_count": null,
      "outputs": [],
      "metadata": {}
    },
    {
      "cell_type": "markdown",
      "source": "It appears that the portfolio is maintained by some form of advanced \"pairs trading\" platform. We are supposed to be predicting the result of the *result* of the entire system. \n\nBecause of the \"hedging strategy\" that it is applying, I believe that the cumsum of the `y` variable over time is so fairly constant. If we can figure out that, we should be able to do something interesting. \n\nThe problem just got infinitely more challenging!",
      "metadata": {}
    }
  ]
}