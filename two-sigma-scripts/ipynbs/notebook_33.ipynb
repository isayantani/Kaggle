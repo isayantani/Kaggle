{
  "metadata": {
    "kernelspec": {
      "name": "python"
    },
    "language_info": {
      "name": "python",
      "version": "3.5.1"
    }
  },
  "nbformat": 4,
  "nbformat_minor": 0,
  "cells": [
    {
      "cell_type": "markdown",
      "source": "This is my first kernel, I hope some of you find it useful.",
      "metadata": {}
    },
    {
      "cell_type": "code",
      "source": "import pandas as pd\nwith pd.HDFStore(\"../input/train.h5\", \"r\") as train:\n    df = train.get(\"train\")",
      "execution_count": null,
      "outputs": [],
      "metadata": {}
    },
    {
      "cell_type": "code",
      "source": "import matplotlib.pyplot as plt\ndf[\"y\"].hist(bins=100)\nplt.show()",
      "execution_count": null,
      "outputs": [],
      "metadata": {}
    },
    {
      "cell_type": "markdown",
      "source": "It seems \"y\" is an arithmetic return.... Let's see the number of timestamps and assets (I assume each id refers to an asset...)",
      "metadata": {}
    },
    {
      "cell_type": "code",
      "source": "print(\"Total timestamps: {}\".format(len(df[\"timestamp\"].unique())))\nprint(\"Total assets: {}\".format(len(df[\"id\"].unique())))",
      "execution_count": null,
      "outputs": [],
      "metadata": {}
    },
    {
      "cell_type": "code",
      "source": "import re\nderived=[]\nfundamental=[]\ntechnical=[]\nfor var_name in df.columns:\n    if re.search(\"^derived\",var_name) is not None:\n        derived.append(var_name)\n    if re.search(\"^fundamental\",var_name) is not None:\n        fundamental.append(var_name)\n    if re.search(\"^technical\",var_name) is not None:\n        technical.append(var_name)\n\nprint(\"Total derived {}\".format(len(derived)))\nprint(\"Total fundamental {}\".format(len(fundamental)))\nprint(\"Total technical {}\".format(len(fundamental)))\n\nid_list=df[\"id\"].unique().tolist()",
      "execution_count": null,
      "outputs": [],
      "metadata": {}
    },
    {
      "cell_type": "markdown",
      "source": "Now let's check whether the assets have data for all timestamps.",
      "metadata": {}
    },
    {
      "cell_type": "code",
      "source": "df_timestamps=pd.DataFrame(None, columns=[\"id\",\"count\",\"min\",\"max\",\"diff\"])\nfor asset in id_list:\n    pt=df[\"timestamp\"][df[\"id\"]==asset]\n    count_stamp=pt.count()\n    max_stamp=pt.max()\n    min_stamp=pt.min()\n    diff_stamp=pt.diff().dropna().mean()\n    nrow = pd.DataFrame([[asset, count_stamp, min_stamp, max_stamp, diff_stamp]], columns=[\"id\",\"count\",\"min\",\"max\",\"diff\"])\n    df_timestamps = df_timestamps.append(nrow, ignore_index=True)\ndf_timestamps[\"count\"].hist(bins=100,figsize=(6,3))\nplt.title('Count of timestamps per asset')\nplt.show()\ndf_timestamps[\"min\"].hist(bins=100,figsize=(6,3))\nplt.title(\"Minimum timestamp\")\nplt.show()\ndf_timestamps[\"max\"].hist(bins=100,figsize=(6,3))\nplt.title('Maximum timestamp')\nplt.show()\ndf_timestamps[\"diff\"].hist(bins=100,figsize=(6,3))\nplt.title('Difference between timestamps')\nplt.show()",
      "execution_count": null,
      "outputs": [],
      "metadata": {}
    },
    {
      "cell_type": "markdown",
      "source": "Here, we see that 527 assets have data for all timestamps. Almost 750 assets have data since timestamp 0, and there are not any gaps in the time series for each asset (please note we have not checked for NaNs in the features).\n\nNow, let's see how the features are for an asset with complete data (i.e. in all available timestamps).",
      "metadata": {}
    },
    {
      "cell_type": "code",
      "source": "import numpy as np\nfig =  plt.figure(figsize=(9,46))\n\nfeatures_list = derived + fundamental + technical\n\npt = pd.pivot_table(df, values=\"timestamp\", index=\"id\", aggfunc=np.count_nonzero)\npt = pt.sort_values(ascending=False)\nfullt_ids=pt[pt==1812].index.tolist()\nasset_id=fullt_ids[200] #pick any asset with complete timestamps\n\ncol_str=\"y\"\n#return\npt_id = df[[\"timestamp\",\"y\"]][df[\"id\"]==asset_id].dropna()\nax = fig.add_subplot(23,1,1)\nax.plot(pt_id[\"timestamp\"],pt_id[\"y\"])\nax.plot(pt_id[\"timestamp\"],(pt_id[\"y\"] + 1).cumprod())\nax.set_xlim(0, 1812)\nax.tick_params(axis='both', which='major', labelsize=6)\nfor key,spine in ax.spines.items():\n    spine.set_visible(False)\nax.set_title(\"return\", size=10)\n#vars\nfig_num=6\nfor col_str in features_list:    \n    ax = fig.add_subplot(23,5,fig_num)\n    pt_id = df[[\"timestamp\",col_str]][df[\"id\"]==asset_id].dropna()\n    if col_str in derived:\n        color=\"red\"\n    elif col_str in fundamental:\n        color=\"blue\"\n    else:\n        color=\"green\"       \n    ax.scatter(pt_id[\"timestamp\"],pt_id[col_str],s=1,c=color,marker=(1,2,0))\n    for key,spine in ax.spines.items():\n        spine.set_visible(False)\n    ax.set_xlim(0, 2000)\n    ax.get_xaxis().set_visible(False)\n    ax.tick_params(bottom=\"off\", top=\"off\", left=\"off\", right=\"off\")\n    ax.set_title(col_str, size=6)\n    ax.tick_params(axis='both', which='major', labelsize=6)\n    fig_num += 1\n\nplt.show()",
      "execution_count": null,
      "outputs": [],
      "metadata": {}
    },
    {
      "cell_type": "markdown",
      "source": "Fundamentals and derived  are continuous, and some of them tend to be \"sticky\" (for a long time they have the same value). \n\nI can see two types of technicals: (1) continuous; (2) categorical, although when it changes between category there are intermediate values (except for technical 34 and 22, for which the jumps are clean).\n\nLet's see the range of the features for each asset:",
      "metadata": {}
    },
    {
      "cell_type": "code",
      "source": "import math\ncolumn_str=\"derived_0\"\nasset=fullt_ids[0]\n\ndf_range = pd.DataFrame(None,columns=[\"id\"]+features_list)\nfor asset in fullt_ids: #ignore the assets w/o complete timestamps\n    s_range = df[df[\"id\"]==asset].max()-df[df[\"id\"]==asset].min()\n    df_range = df_range.append(s_range[[\"id\"]+features_list], ignore_index=True)\n    df_range.loc[df_range.shape[0]-1,\"id\"]=asset",
      "execution_count": null,
      "outputs": [],
      "metadata": {}
    },
    {
      "cell_type": "markdown",
      "source": "Histograms for assets' features range.... we can distinguish the continuous from categorical variables.",
      "metadata": {}
    },
    {
      "cell_type": "code",
      "source": "percentile=5\n\nfig = plt.figure(figsize=(9,44))\nfig.subplots_adjust(hspace=.5)\nfig_num=1\nfor col_str in features_list:\n    nona_column=df_range[col_str].dropna()\n    nona_column=nona_column.sort_values()\n    desc_column=nona_column.describe()\n    lower_p=math.floor(len(nona_column)*percentile/100)\n    higher_p=math.floor(len(nona_column)*(100-percentile)/100)\n    \n    ax = fig.add_subplot(22,5,fig_num)\n    if col_str in derived:\n        color=\"red\"\n    elif col_str in fundamental:\n        color=\"blue\"\n    else:\n        color=\"green\"\n    for key,spine in ax.spines.items():\n        spine.set_visible(False)\n    ax.tick_params(bottom=\"off\", top=\"off\", left=\"off\", right=\"off\")\n    ax.set_title(col_str, size=10)\n    nona_column[lower_p:higher_p].hist(bins=10, ax=ax, grid=False, color=color)\n    fig_num+=1\nplt.show()",
      "execution_count": null,
      "outputs": [],
      "metadata": {}
    },
    {
      "cell_type": "markdown",
      "source": "Boxplots for assets' features range.... showing percentile (19-76). It seems the variables change drastically between assets, so it might be a good idea to standardrize some variables using the data of the single asset. (I have no idea why it throws an error at ax.boxplot() for some fundamentals)",
      "metadata": {}
    },
    {
      "cell_type": "code",
      "source": "qtl=.76\n\nfig = plt.figure(figsize=(9,44))\nfig.subplots_adjust(hspace=.5)\nfig_num=1\n\nfor col_str in features_list:\n    ax = fig.add_subplot(22,5,fig_num)\n    for key,spine in ax.spines.items():\n        spine.set_visible(False)\n    ax.tick_params(bottom=\"off\", top=\"off\", left=\"off\", right=\"off\")\n    ax.set_title(col_str, size=10)\n    #nona_column[lower_p:higher_p].hist(bins=10, ax=ax, grid=False, color=color)\n    nonan=df_range[col_str].dropna()\n    try:\n        ax.boxplot(nonan)\n    except:\n        print(\"Error at \"+col_str)\n    ax.set_ylim(nonan.quantile(0.95-qtl),nonan.quantile(qtl))\n    fig_num+=1\nplt.show()",
      "execution_count": null,
      "outputs": [],
      "metadata": {}
    }
  ]
}