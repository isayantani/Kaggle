{
  "metadata": {
    "kernelspec": {
      "name": "python"
    },
    "language_info": {
      "name": "python",
      "version": "3.5.1"
    }
  },
  "nbformat": 4,
  "nbformat_minor": 0,
  "cells": [
    {
      "cell_type": "markdown",
      "source": "## Introduction\n\nThe following analysis is inspired by a notebook by omolluska ([When/ why are stocks bought and sold][1]). Check it out :). Here we build on that and try to gain additional insights about the id's (financial instruments) in the data and perform some clustering. The main idea is to look at the cumulative returns of each id and see how it correlates to other id's. That will allow us to cluster these in an easy way and see of th. \n\n The last plot gives the main result (scroll to the end).\n\n##Caution! Important!\n\n*The analysis changed somewhat to see if the result is not a statistical fluke. Let's assume we have lots of randomly generated curves (e.g. cumulative return) and we look at their correlations. Then we might find a subset of curves that are highly correlated and go up and about the same number of curves that are highly correlated and go down. The end result might look like what we got here. To see if the findings are for real the clustering is now performed up to the timestamp 900, ignoring everything that happens after that. The result is presented for all timestamps up to 1812. The new interpretation: **There are probably no clusters with respect to the cumulative returns** (at least not with the methodology used here) as the upward and downward trend of the clusters suddenly levels of after the timestamp 900 (in the old analysis these trends continued).*\n\n  [1]: https://www.kaggle.com/sankhamukherjee/two-sigma-financial-modeling/when-why-are-stocks-bought-and-sold",
      "metadata": {}
    },
    {
      "cell_type": "code",
      "source": "import numpy as np\nimport pandas as pd\nimport seaborn as sns\nfrom sklearn.cluster import KMeans\nfrom matplotlib import pyplot as plt",
      "execution_count": null,
      "outputs": [],
      "metadata": {}
    },
    {
      "cell_type": "code",
      "source": "data = pd.read_hdf(\"../input/train.h5\")",
      "execution_count": null,
      "outputs": [],
      "metadata": {}
    },
    {
      "cell_type": "markdown",
      "source": "We will calculate correlations between all the id's but to ensure that we have enough overlap we only look at those id's that have more than 450 timestamps (i.e. at least 50% of data available).\nAdditionally, we will later only keep id's that are generally highly correlated with other id's. That's what the parameter N_corr_cut is good for.",
      "metadata": {}
    },
    {
      "cell_type": "code",
      "source": "## Params\n\nN_timestamps = 450 # how many timestamps that are non-nan for each id\nN_corr_cut = 0.4 # min mean correlation coefficient when dropping id's",
      "execution_count": null,
      "outputs": [],
      "metadata": {}
    },
    {
      "cell_type": "code",
      "source": "## data is used for clustering --> see comment at the beginning\ndata_full = data.copy()\ndata = data.iloc[0:800000,:]",
      "execution_count": null,
      "outputs": [],
      "metadata": {}
    },
    {
      "cell_type": "code",
      "source": "## Check max timestamp\nnp.max(data.timestamp)",
      "execution_count": null,
      "outputs": [],
      "metadata": {}
    },
    {
      "cell_type": "code",
      "source": "## Select only id's where sufficient data is available, \n## i.e. all timestamps available\n\nselect_ids = data[[\"id\",\"y\"]].groupby(\"id\").count()\n\nselected_ids = select_ids[select_ids.y > N_timestamps]#== N_timestamps]\n\nselected_ids = np.array(selected_ids.index)\n\nindex_ids = [i in selected_ids for i in data.id]\n\ndata_corr = data[index_ids][[\"id\",\"timestamp\",\"y\"]].copy()",
      "execution_count": null,
      "outputs": [],
      "metadata": {}
    },
    {
      "cell_type": "code",
      "source": "index_ids = [i in selected_ids for i in data_full.id]\ndata_corr_full = data_full[index_ids][[\"id\",\"timestamp\",\"y\"]].copy()",
      "execution_count": null,
      "outputs": [],
      "metadata": {}
    },
    {
      "cell_type": "markdown",
      "source": "## Finding Clusters",
      "metadata": {}
    },
    {
      "cell_type": "code",
      "source": "## Create a dataframe where each id is a column\n\ndf_id = data_corr[['id', 'timestamp', 'y']].pivot_table(values='y',\n                                     index='timestamp',columns='id')\n\ndf_id_full = data_corr_full[['id', 'timestamp', 'y']].pivot_table(values='y',\n                                     index='timestamp',columns='id')",
      "execution_count": null,
      "outputs": [],
      "metadata": {}
    },
    {
      "cell_type": "code",
      "source": "## Calculate the cumulative sum of the return y \n## and substract the mean of the cumulative sum at each timestamp\n\ndf_id_cumsum = df_id.cumsum()\n\ndiff = df_id_cumsum.mean(axis=1)\ndf_id_cumsum = df_id_cumsum.subtract(diff.values,axis=\"rows\")\n\n## Full Data\n\ndf_id_cumsum_full = df_id_full.cumsum()\n\ndiff = df_id_cumsum_full.mean(axis=1)\ndf_id_cumsum_full = df_id_cumsum_full.subtract(diff.values,axis=\"rows\")\n\nprint(df_id_cumsum.shape)\ndf_id_cumsum.head()",
      "execution_count": null,
      "outputs": [],
      "metadata": {}
    },
    {
      "cell_type": "code",
      "source": "## Check max timestamp\nnp.max(df_id_cumsum.index.values)",
      "execution_count": null,
      "outputs": [],
      "metadata": {}
    },
    {
      "cell_type": "markdown",
      "source": "We are left with 895 id's. Now let's look at the correlations between them and how these are distributed.",
      "metadata": {}
    },
    {
      "cell_type": "code",
      "source": "## Calculate the correlations between the id's\n\ncorr_cumsum = df_id_cumsum.corr()\n\ndist = corr_cumsum.as_matrix()",
      "execution_count": null,
      "outputs": [],
      "metadata": {}
    },
    {
      "cell_type": "code",
      "source": "plt.hist(dist.flatten(),bins=100)\nplt.title(\"Distribution of Correlations Between Id's\");",
      "execution_count": null,
      "outputs": [],
      "metadata": {}
    },
    {
      "cell_type": "markdown",
      "source": "The bimodal distribution vanished after changing the analysis (see comment at beginning of notebook).",
      "metadata": {}
    },
    {
      "cell_type": "code",
      "source": "## Look at id's that are generally strongly correlated to others\n\ndist_id_mean = np.mean(np.abs(dist),axis = 1)\nindex_mean = dist_id_mean > N_corr_cut\n\ntmp_cut = dist[index_mean,:]\ntmp_cut = tmp_cut[:,index_mean]\n\nprint(\"Number of id's %i\" % (tmp_cut.shape[0]))\n\nplt.hist(tmp_cut.flatten(),bins=100)\nplt.title(\"Distribution of Correlations Between Id's\");",
      "execution_count": null,
      "outputs": [],
      "metadata": {}
    },
    {
      "cell_type": "markdown",
      "source": "Now, we would like to see if the id's form any clusters.",
      "metadata": {}
    },
    {
      "cell_type": "code",
      "source": "g = sns.clustermap(tmp_cut,metric=\"euclidean\",method=\"average\")",
      "execution_count": null,
      "outputs": [],
      "metadata": {}
    },
    {
      "cell_type": "markdown",
      "source": "Indeed, there are two clusters. Within each cluster the correlations are high and positive. In between clusters these correlations are inverted. Next, we extract these clusters and analyze them.",
      "metadata": {}
    },
    {
      "cell_type": "code",
      "source": "## Perform Kmeans to easily get the two clusters\n\nclf = KMeans(n_clusters = 2)\nclf.fit(tmp_cut)\nlabels = clf.labels_\n\nprint(\"%i id's in cluster 1 and %i id's in cluster 2\" % (np.sum(labels == 0),np.sum(labels == 1)))",
      "execution_count": null,
      "outputs": [],
      "metadata": {}
    },
    {
      "cell_type": "code",
      "source": "## See if Kmeans got the clusters right\n\ng = sns.clustermap(tmp_cut[labels == 0,:],metric=\"euclidean\",method=\"average\",square=True)",
      "execution_count": null,
      "outputs": [],
      "metadata": {}
    },
    {
      "cell_type": "markdown",
      "source": "Looks good. Finally, we will look at the mean cumulative returns for each cluster and compare them. Note that we have already subtracted the general upward trend of the cumulative returns. For comparison, we include the result without that adjustment.",
      "metadata": {}
    },
    {
      "cell_type": "markdown",
      "source": "## Mean Cumulative Returns for Each Cluster",
      "metadata": {}
    },
    {
      "cell_type": "code",
      "source": "## Define one dataframe for each cluster\n\nids = corr_cumsum.columns[index_mean]\n\nids_1 = ids[labels == 0]\nids_2 = ids[labels == 1]\n\ndata_sub_c1 = df_id_cumsum_full[ids_1]\ndata_sub_c2 = df_id_cumsum_full[ids_2]\n\n## Cumulative Sums Without Adjustments\n\ndf_id_cumsum_no_adjust = df_id_full.cumsum()\n\ndata_sub_c1_no_adjust = df_id_cumsum_no_adjust[ids_1]\ndata_sub_c2_no_adjust = df_id_cumsum_no_adjust[ids_2]",
      "execution_count": null,
      "outputs": [],
      "metadata": {}
    },
    {
      "cell_type": "code",
      "source": "## Determine Mean of Cumulative Returns\n\n## Without Adjustment\n\nreturns_1 = data_sub_c1_no_adjust.mean(axis=1)\nreturns_2 = data_sub_c2_no_adjust.mean(axis=1)\n\nstd_1 = data_sub_c1_no_adjust.std(axis=1)\nstd_2 = data_sub_c2_no_adjust.std(axis=1)\n\nplt.plot(returns_1,alpha=1)\nplt.plot(returns_2,alpha=1)\nplt.title(\"Mean Cumulative Returns for Each Cluster, without adjustment\")\nplt.xlabel(\"Timestamp\")\nplt.ylabel(\"Mean Cumulative Return\");\n\nplt.fill_between(returns_1.index, returns_1 - std_1, returns_1 + std_1, color='b', alpha=0.05)\nplt.fill_between(returns_2.index, returns_2 - std_2, returns_2 + std_2, color='g', alpha=0.05)\n\nplt.show()\n\n## With Adjustment\n\nreturns_1 = data_sub_c1.mean(axis=1)\nreturns_2 = data_sub_c2.mean(axis=1)\n\nstd_1 = data_sub_c1.std(axis=1)\nstd_2 = data_sub_c2.std(axis=1)\n\nplt.plot(returns_1,alpha=1)\nplt.plot(returns_2,alpha=1)\nplt.title(\"Mean Cumulative Returns for Each Cluster, with adjustment\")\nplt.xlabel(\"Timestamp\")\nplt.ylabel(\"Mean Cumulative Return\");\n\nplt.fill_between(returns_1.index, returns_1 - std_1, returns_1 + std_1, color='b', alpha=0.05)\nplt.fill_between(returns_2.index, returns_2 - std_2, returns_2 + std_2, color='g', alpha=0.05);",
      "execution_count": null,
      "outputs": [],
      "metadata": {}
    },
    {
      "cell_type": "markdown",
      "source": "## Caution\n\n*As mentioned in the beginning the clustering is now only performed up to the timestamp 900. This changed the end result quite a bit. Now we can see that the mean cumulative return levels of after 900 and the standard deviation starts to increase. This should be expected for curves that behave in a random way. The fact that they mirror each other closely is probably due to adjusting for the general upward trend in the cumulative mean.*\n\nThe two curves show the mean cumulative return within each cluster over time. The shaded regions show the standard deviation of the cumulative return within each cluster.",
      "metadata": {}
    },
    {
      "cell_type": "code",
      "source": null,
      "execution_count": null,
      "outputs": [],
      "metadata": {}
    }
  ]
}