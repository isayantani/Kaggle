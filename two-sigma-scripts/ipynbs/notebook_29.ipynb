{
  "metadata": {
    "kernelspec": {
      "name": "python"
    },
    "language_info": {
      "name": "python",
      "version": "3.5.1"
    }
  },
  "nbformat": 4,
  "nbformat_minor": 0,
  "cells": [
    {
      "cell_type": "markdown",
      "source": "Recently [\"refresh\" updater](https://github.com/dmlc/xgboost/pull/1670) was introduced in XGBoost which can update an existing tree model without chainging the tree structure.",
      "metadata": {}
    },
    {
      "cell_type": "code",
      "source": "# Import all the necessary packages \nimport kagglegym\nimport numpy as np\nimport pandas as pd\nimport time\nimport xgboost as xgb\nimport matplotlib.pyplot as plt\n\n%matplotlib inline\nfrom subprocess import check_output\nprint(check_output([\"ls\", \"../input\"]).decode(\"utf8\"))",
      "execution_count": null,
      "outputs": [],
      "metadata": {}
    },
    {
      "cell_type": "code",
      "source": "# Read the full data set stored as HDF5 file\ndf = pd.read_hdf('../input/train.h5')",
      "execution_count": null,
      "outputs": [],
      "metadata": {}
    },
    {
      "cell_type": "code",
      "source": "t0 = time.time()\nexcl = ['id', 'sample', 'y', 'timestamp']\ncol = [c for c in df.columns if c not in excl]\n\ndf_train = df[df.timestamp <= 905][col]\nd_mean= df_train.median(axis=0)\n\ndf_all = df[col]\n\nX_train = df_all[df.timestamp <= 905].values\ny_train = df.y[df.timestamp <= 905].values\nX_valid = df_all[df.timestamp > 905].values\ny_valid = df.y[df.timestamp > 905].values\nfeature_names = df_all.columns\ndel df_all, df_train, df\nprint(\"Done: %.1fs\" % (time.time() - t0))",
      "execution_count": null,
      "outputs": [],
      "metadata": {}
    },
    {
      "cell_type": "code",
      "source": "X_train.shape",
      "execution_count": null,
      "outputs": [],
      "metadata": {}
    },
    {
      "cell_type": "code",
      "source": "xgmat_train = xgb.DMatrix(X_train, label=y_train, feature_names=feature_names)\nxgmat_valid = xgb.DMatrix(X_valid, label=y_valid, feature_names=feature_names)",
      "execution_count": null,
      "outputs": [],
      "metadata": {}
    },
    {
      "cell_type": "code",
      "source": "params_xgb = {'objective':'reg:linear',\n              'eta'             : 0.1,\n              'max_depth'       : 4,\n              'subsample'       : 0.9,\n              #'colsample_bytree':0.8,\n              'min_child_weight': 1000,\n              'base_score':0\n              }",
      "execution_count": null,
      "outputs": [],
      "metadata": {}
    },
    {
      "cell_type": "code",
      "source": "print (\"Training\")\nt0 = time.time()\nbst = xgb.train(params_xgb, xgmat_train, 10)\nprint(\"Done: %.1fs\" % (time.time() - t0))",
      "execution_count": null,
      "outputs": [],
      "metadata": {}
    },
    {
      "cell_type": "code",
      "source": "params_xgb.update({'process_type': 'update',\n                   'updater'     : 'refresh',\n                   'refresh_leaf': False})",
      "execution_count": null,
      "outputs": [],
      "metadata": {}
    },
    {
      "cell_type": "code",
      "source": "t0 = time.time()\nprint(\"Refreshing\")\nbst_after = xgb.train(params_xgb, xgmat_valid, 10, xgb_model=bst)\nprint(\"Done: %.1fs\" % (time.time() - t0))",
      "execution_count": null,
      "outputs": [],
      "metadata": {}
    },
    {
      "cell_type": "code",
      "source": "# Before refresh\nfor line in bst.get_dump(with_stats=True)[0].splitlines()[:10]:\n    print(line)",
      "execution_count": null,
      "outputs": [],
      "metadata": {}
    },
    {
      "cell_type": "code",
      "source": "# After refresh\nfor line in bst_after.get_dump(with_stats=True)[0].splitlines()[:10]:\n    print(line)",
      "execution_count": null,
      "outputs": [],
      "metadata": {}
    },
    {
      "cell_type": "markdown",
      "source": "It only updated gain and cover values. The leaf values remain fixed.",
      "metadata": {}
    },
    {
      "cell_type": "code",
      "source": "imp = pd.DataFrame(index=feature_names)\nimp['train'] = pd.Series(bst.get_score(importance_type='gain'), index=feature_names)\n\n# OOB feature importance\nimp['OOB'] = pd.Series(bst_after.get_score(importance_type='gain'), index=feature_names)\nimp = imp.fillna(0)",
      "execution_count": null,
      "outputs": [],
      "metadata": {}
    },
    {
      "cell_type": "code",
      "source": "ax = imp.sort_values('train').tail(10).plot.barh(title='Feature importances sorted by train', figsize=(7,4))",
      "execution_count": null,
      "outputs": [],
      "metadata": {}
    },
    {
      "cell_type": "code",
      "source": "ax = imp.sort_values('OOB').tail(10).plot.barh(title='Feature importances sorted by OOB', xlim=(0,0.07), figsize=(7,4))",
      "execution_count": null,
      "outputs": [],
      "metadata": {}
    }
  ]
}