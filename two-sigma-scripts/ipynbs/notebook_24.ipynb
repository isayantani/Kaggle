{
  "metadata": {
    "kernelspec": {
      "name": "python"
    },
    "language_info": {
      "name": "python",
      "version": "3.5.1"
    }
  },
  "nbformat": 4,
  "nbformat_minor": 0,
  "cells": [
    {
      "cell_type": "markdown",
      "source": "## This is my approach to understand the competition problem dataset. I still have to figure out using the competition API, cleaning of data, regression technique to use etc. So basically most of it ...\n\n### Happy to receive feedback from all of you :)",
      "metadata": {}
    },
    {
      "cell_type": "code",
      "source": "import pandas as pd\nimport numpy as np\nimport seaborn as sns\nimport matplotlib.pyplot as plt\n%matplotlib inline",
      "execution_count": null,
      "outputs": [],
      "metadata": {}
    },
    {
      "cell_type": "code",
      "source": "df=pd.read_hdf(\"../input/train.h5\")",
      "execution_count": null,
      "outputs": [],
      "metadata": {}
    },
    {
      "cell_type": "markdown",
      "source": "### First look at the dataset",
      "metadata": {}
    },
    {
      "cell_type": "code",
      "source": "df.shape",
      "execution_count": null,
      "outputs": [],
      "metadata": {}
    },
    {
      "cell_type": "code",
      "source": "df.head()",
      "execution_count": null,
      "outputs": [],
      "metadata": {}
    },
    {
      "cell_type": "markdown",
      "source": "So we have more than 100 features or variables. We can also see a bunch of missing values in our dataset. \n\n***No other information has been provided through the challenge about the data.*",
      "metadata": {}
    },
    {
      "cell_type": "markdown",
      "source": "### Lets remove/handle the missing data",
      "metadata": {}
    },
    {
      "cell_type": "code",
      "source": "#df.describe()",
      "execution_count": null,
      "outputs": [],
      "metadata": {}
    },
    {
      "cell_type": "markdown",
      "source": "To get a better idea of the dataset in terms of values each feature holds",
      "metadata": {}
    },
    {
      "cell_type": "code",
      "source": "df.isnull().any()",
      "execution_count": null,
      "outputs": [],
      "metadata": {}
    },
    {
      "cell_type": "markdown",
      "source": "Most of the columns look like they have null values so we can consider interpolating data. Since, no information about the dataset is available we will avoid that for and look at row wise values as of now.",
      "metadata": {}
    },
    {
      "cell_type": "code",
      "source": "#Super slow method to find all the rows with no NaN values in any of the columns\n\n#count=0\n#for x in range(len(df)-1710750):\n#    if not any(df.isnull().values[x]):\n#        count=count+1",
      "execution_count": null,
      "outputs": [],
      "metadata": {}
    },
    {
      "cell_type": "code",
      "source": "df_clean=df.dropna(axis='index',how='any')\ndf_clean.shape",
      "execution_count": null,
      "outputs": [],
      "metadata": {}
    },
    {
      "cell_type": "code",
      "source": "df_clean.shape[0]/df.shape[0]*100",
      "execution_count": null,
      "outputs": [],
      "metadata": {}
    },
    {
      "cell_type": "markdown",
      "source": "So only 13% of the records(timestamps) have values in all columns. Lets look how each column performs in terms of missing data. This information might help in deciding if we should interpolate missing data or directly remove it.",
      "metadata": {}
    },
    {
      "cell_type": "code",
      "source": "def count_missing(df):\n    stats={}\n    for x in range(len(df.columns)):        \n        stats[df.columns[x]]=df[df.columns[x]].isnull().sum()/len(df[df.columns[x]])*100\n    return stats",
      "execution_count": null,
      "outputs": [],
      "metadata": {}
    },
    {
      "cell_type": "code",
      "source": "res=count_missing(df)",
      "execution_count": null,
      "outputs": [],
      "metadata": {}
    },
    {
      "cell_type": "code",
      "source": "plt.figure(figsize=(10,25))\nplt.barh(range(0,111),res.values(),align='center')\nplt.yticks(range(0,111),(res.keys()))\nplt.autoscale()\nplt.show()",
      "execution_count": null,
      "outputs": [],
      "metadata": {}
    },
    {
      "cell_type": "markdown",
      "source": "### What all can we do with the missing data now...\n\n1. Remove it   \n2. Interpolate (but with no information about the data, it's kind of a shot in the dark)-choosing the appropriate   \nmethod is also tough\n3. Anything else I should know? :/   ",
      "metadata": {}
    },
    {
      "cell_type": "markdown",
      "source": "Let's try to plot the ones which have low errors and see if we can identify any trends",
      "metadata": {}
    },
    {
      "cell_type": "code",
      "source": "low_err={k:v for (k,v) in res.items() if v<0.5}\ndel low_err['id']\ndel low_err['timestamp']\ndel low_err['y']\nprint((low_err),len(low_err))",
      "execution_count": null,
      "outputs": [],
      "metadata": {}
    },
    {
      "cell_type": "markdown",
      "source": "We will try to plot the features with less than 0.5% error and see if we can find any pattern in some of the features",
      "metadata": {}
    },
    {
      "cell_type": "code",
      "source": "l=list(low_err.keys())\nfor i in range(len(low_err)):\n    plt.figure(figsize=(15,5))\n    plt.scatter(y=df[l[i]],x=df['timestamp'])\n    plt.title(l[i],fontsize=15)\n    plt.xlabel('Timestamp Value')\n    plt.ylabel('Value')\n    plt.xlim(0,1900)",
      "execution_count": null,
      "outputs": [],
      "metadata": {}
    },
    {
      "cell_type": "markdown",
      "source": "### Let's now look at the distribution of data in these features.",
      "metadata": {}
    },
    {
      "cell_type": "code",
      "source": "for i in range(len(low_err)):\n    plt.figure(figsize=(15,5))\n    #plt.scatter(y=df[l[i]],x=df['timestamp'])\n    sns.distplot(df[l[i]].dropna().values)  #Removed NaN values for now\n    plt.title(l[i],fontsize=15)\n    plt.xlabel('Value')\n    plt.ylabel('Frequency')\n    ",
      "execution_count": null,
      "outputs": [],
      "metadata": {}
    },
    {
      "cell_type": "markdown",
      "source": "### Checking correlation of all the features (total 108 for now) with y.     \n*Note: We used df_clean and not df here.*",
      "metadata": {}
    },
    {
      "cell_type": "code",
      "source": "plt.figure(figsize=(30,20))\nsns.heatmap(df_clean.corr(method='pearson', min_periods=1),cmap='RdYlGn')",
      "execution_count": null,
      "outputs": [],
      "metadata": {}
    },
    {
      "cell_type": "markdown",
      "source": "### None of the features have a strong linear correlation with y (We checked for pearson correlation here). Spearman correation takes a lot of processing time and thus we will limit it to features which have less than 0.5% missing values in the dataset.\n\n### Some observation points:\n\n1. Features under the tag of \"fundamental\" have some kind of correlation among them as you can see from the box in top left quadrant of the heatmap. Similarly, \"technical\" features are somewhat related to each other (bottom right quadrant).    \n2. A relatively lower correlation is seen between the two types of features. (Not a lot of greens and reds in the top right and bottom left quadrant of the heatmap).     \n3. Some of the features have close correlation to their neighbors as can be seen from green clusters on the diagnol.\n\n",
      "metadata": {}
    },
    {
      "cell_type": "code",
      "source": "plt.figure(figsize=(20,20))\nsns.heatmap(df_clean.corr(method='spearman', min_periods=1),cmap='RdYlGn')",
      "execution_count": null,
      "outputs": [],
      "metadata": {}
    },
    {
      "cell_type": "markdown",
      "source": "Spearman correlation reinforces the observation points while checking non-linear correlations as well.",
      "metadata": {}
    },
    {
      "cell_type": "markdown",
      "source": "Let's have a look at univariate correaltion with the prediction variable.",
      "metadata": {}
    },
    {
      "cell_type": "code",
      "source": "plt.figure(figsize=(10,25))\nuni_cor=df_clean.apply(lambda x: x.corr(df[\"y\"],method='spearman'),axis=0)\nuni_cor=uni_cor.drop('y')\nuni_cor.sort_values(inplace=True)\nplt.barh(range(0,len(uni_cor)),uni_cor,align='center')\nplt.yticks(range(0,len(uni_cor)),list(df_clean.columns.values))\nplt.autoscale()\nplt.show()",
      "execution_count": null,
      "outputs": [],
      "metadata": {}
    },
    {
      "cell_type": "markdown",
      "source": "As we can see the correlations are not very strong for any variable individually. So we need a to emphasize a lot on feature selection.",
      "metadata": {}
    },
    {
      "cell_type": "markdown",
      "source": "### To focus on:\n\n1. How to deal with missing values - Remove directly (df_clean) or use some kind of interpolation.\n2. Which features are to be used?\n3. Which Regeression model to use?",
      "metadata": {}
    },
    {
      "cell_type": "markdown",
      "source": "### Ok this exploration stuff is getting boring now. Lets try some regression methods and see what we get from the clean dataset (~13% of the total values). We switch to the other notebook for that.\n\n*Will keep you guys posted when i make some progress*",
      "metadata": {}
    },
    {
      "cell_type": "markdown",
      "source": "",
      "metadata": {}
    },
    {
      "cell_type": "code",
      "source": "",
      "execution_count": null,
      "outputs": [],
      "metadata": {}
    },
    {
      "cell_type": "code",
      "source": "",
      "execution_count": null,
      "outputs": [],
      "metadata": {}
    },
    {
      "cell_type": "code",
      "source": "",
      "execution_count": null,
      "outputs": [],
      "metadata": {}
    },
    {
      "cell_type": "markdown",
      "source": "",
      "metadata": {}
    },
    {
      "cell_type": "markdown",
      "source": "",
      "metadata": {}
    },
    {
      "cell_type": "code",
      "source": "",
      "execution_count": null,
      "outputs": [],
      "metadata": {}
    },
    {
      "cell_type": "markdown",
      "source": "",
      "metadata": {}
    },
    {
      "cell_type": "code",
      "source": "",
      "execution_count": null,
      "outputs": [],
      "metadata": {}
    },
    {
      "cell_type": "markdown",
      "source": "",
      "metadata": {}
    },
    {
      "cell_type": "code",
      "source": "",
      "execution_count": null,
      "outputs": [],
      "metadata": {}
    },
    {
      "cell_type": "markdown",
      "source": "",
      "metadata": {}
    },
    {
      "cell_type": "code",
      "source": "",
      "execution_count": null,
      "outputs": [],
      "metadata": {}
    },
    {
      "cell_type": "markdown",
      "source": "",
      "metadata": {}
    },
    {
      "cell_type": "code",
      "source": "",
      "execution_count": null,
      "outputs": [],
      "metadata": {}
    },
    {
      "cell_type": "markdown",
      "source": "",
      "metadata": {}
    },
    {
      "cell_type": "markdown",
      "source": "",
      "metadata": {}
    },
    {
      "cell_type": "code",
      "source": "",
      "execution_count": null,
      "outputs": [],
      "metadata": {}
    },
    {
      "cell_type": "markdown",
      "source": "",
      "metadata": {}
    },
    {
      "cell_type": "markdown",
      "source": "",
      "metadata": {}
    },
    {
      "cell_type": "markdown",
      "source": "",
      "metadata": {}
    },
    {
      "cell_type": "markdown",
      "source": "",
      "metadata": {}
    }
  ]
}