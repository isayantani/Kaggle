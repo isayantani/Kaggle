{
  "metadata": {
    "kernelspec": {
      "name": "python"
    },
    "language_info": {
      "name": "python",
      "version": "3.5.1"
    }
  },
  "nbformat": 4,
  "nbformat_minor": 0,
  "cells": [
    {
      "cell_type": "markdown",
      "source": "Correlations only make sense when both time series are stationary. This analysis shows two things:\n\n1. features are non stationary and require differencing.\n2. correlations are different for different ids.",
      "metadata": {}
    },
    {
      "cell_type": "code",
      "source": "import numpy as np # linear algebra\nimport pandas as pd # data processing, CSV file I/O (e.g. pd.read_csv)\nimport matplotlib.pyplot as plt\nimport seaborn as sns\n\n%matplotlib inline",
      "execution_count": null,
      "outputs": [],
      "metadata": {}
    },
    {
      "cell_type": "code",
      "source": "import kagglegym\nenv = kagglegym.make()\nobservation = env.reset()\ntrain = observation.train",
      "execution_count": null,
      "outputs": [],
      "metadata": {}
    },
    {
      "cell_type": "code",
      "source": "train.fillna(0, inplace=True)",
      "execution_count": null,
      "outputs": [],
      "metadata": {}
    },
    {
      "cell_type": "code",
      "source": "gf = train.copy(True)\ngf = gf.set_index('timestamp', 'id')",
      "execution_count": null,
      "outputs": [],
      "metadata": {}
    },
    {
      "cell_type": "markdown",
      "source": "Let us take technical 20 as an example and run a simple correlation.",
      "metadata": {}
    },
    {
      "cell_type": "code",
      "source": "print (np.corrcoef(train['technical_20'].values, train.y.values)[0, 1])",
      "execution_count": null,
      "outputs": [],
      "metadata": {}
    },
    {
      "cell_type": "markdown",
      "source": "Now lets plot technical 20 for a single asset. say id = 0.",
      "metadata": {}
    },
    {
      "cell_type": "code",
      "source": "import matplotlib.pyplot as plt\nX = gf.loc[gf.id == train.id[0]]['technical_20'].values\nY = gf.loc[gf.id == train.id[0]]['y'].values\nplt.plot(X, color='r')\nplt.show()",
      "execution_count": null,
      "outputs": [],
      "metadata": {}
    },
    {
      "cell_type": "markdown",
      "source": "That does not look stationary. Now lets plot after taking the first differential of technical 20 by asset Id 0",
      "metadata": {}
    },
    {
      "cell_type": "code",
      "source": "X = np.diff(X)\nplt.plot(X, color='r')",
      "execution_count": null,
      "outputs": [],
      "metadata": {}
    },
    {
      "cell_type": "markdown",
      "source": "Still does not look stationary. Lets difference again.",
      "metadata": {}
    },
    {
      "cell_type": "code",
      "source": "X = np.diff(X)\nplt.plot(X)\nplt.show()",
      "execution_count": null,
      "outputs": [],
      "metadata": {}
    },
    {
      "cell_type": "markdown",
      "source": "Now lets compute the correlation between the two times differenced X and Y values.",
      "metadata": {}
    },
    {
      "cell_type": "code",
      "source": "print (np.corrcoef(X, Y[2:])[0, 1])",
      "execution_count": null,
      "outputs": [],
      "metadata": {}
    },
    {
      "cell_type": "markdown",
      "source": "**That is a whopping -18%**",
      "metadata": {}
    },
    {
      "cell_type": "markdown",
      "source": "But what about other assets? Let us try a random 47th asset.",
      "metadata": {}
    },
    {
      "cell_type": "code",
      "source": "X = gf.loc[gf.id == train.id[47]]['technical_20'].values\nY = gf.loc[gf.id == train.id[47]]['y'].values\nX = np.diff(X)\nX = np.diff(X)\nprint (np.corrcoef(X, Y[2:])[0, 1])",
      "execution_count": null,
      "outputs": [],
      "metadata": {}
    },
    {
      "cell_type": "markdown",
      "source": "This is better than running correlations on non-stationary data but still is only positive 4%.",
      "metadata": {}
    },
    {
      "cell_type": "markdown",
      "source": "**CONCLUSION:**\n\nCorrelations on un-differenced data are spurious and make no sense. You have to difference to find stationary series before looking for correlations. Fortunately train.y (appears to be asset returns) are already stationary.\n\nSecondly correlations are not same across asset ids. Each asset has a different correlation to features.\n\nHope this helps. Now lets get cracking this challenge.",
      "metadata": {}
    },
    {
      "cell_type": "markdown",
      "source": "*If you like this analysis please upvote. Else let me know if I have misunderstood something.*",
      "metadata": {}
    }
  ]
}