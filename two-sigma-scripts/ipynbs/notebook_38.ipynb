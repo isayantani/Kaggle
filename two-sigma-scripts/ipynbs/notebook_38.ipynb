{
  "metadata": {
    "kernelspec": {
      "name": "python"
    },
    "language_info": {
      "name": "python",
      "version": "3.5.1"
    }
  },
  "nbformat": 4,
  "nbformat_minor": 0,
  "cells": [
    {
      "cell_type": "code",
      "source": "# Import all the necessary packages \nimport kagglegym\nimport numpy as np\nimport pandas as pd\nfrom sklearn.ensemble import ExtraTreesRegressor\nfrom sklearn.linear_model import LinearRegression, Ridge\nimport math\nimport matplotlib.pyplot as plt\n\n%matplotlib inline\n# Read the full data set stored as HDF5 file\nfull_df = pd.read_hdf('../input/train.h5')",
      "execution_count": null,
      "outputs": [],
      "metadata": {}
    },
    {
      "cell_type": "code",
      "source": "from pylab import rcParams\nrcParams['figure.figsize'] = 10, 5\nrows = np.random.choice(full_df.id, 15)\nfor key, grp in full_df[full_df.id.isin(rows)].groupby(['id']): \n    plt.plot(grp['timestamp'], np.cumsum(grp['y']), label = \"id {0:02d}\".format(key))\nplt.legend(loc='best')  \nplt.title('y distribution')\nplt.show()",
      "execution_count": null,
      "outputs": [],
      "metadata": {}
    },
    {
      "cell_type": "code",
      "source": "feature=[col for col in full_df.columns if col not in ['id','timestamp']]",
      "execution_count": null,
      "outputs": [],
      "metadata": {}
    },
    {
      "cell_type": "code",
      "source": "rcParams['figure.figsize'] = 8, 5\nfor col in feature:\n    rows = np.random.choice(full_df.id, 15)\n    for key, grp in full_df[full_df.id.isin(rows)].groupby(['id']): \n        plt.plot(grp['timestamp'], grp[col], label = \"id {0:02d}\".format(key))\n        plt.legend(loc='best')    \n        plt.title('features-'+col)\n    plt.show()",
      "execution_count": null,
      "outputs": [],
      "metadata": {}
    },
    {
      "cell_type": "code",
      "source": null,
      "execution_count": null,
      "outputs": [],
      "metadata": {}
    }
  ]
}