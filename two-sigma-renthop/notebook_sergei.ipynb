{
  "metadata": {
    "kernelspec": {
      "name": "python"
    },
    "language_info": {
      "name": "python",
      "version": "3.5.1"
    }
  },
  "nbformat": 4,
  "nbformat_minor": 0,
  "cells": [
    {
      "cell_type": "markdown",
      "source": "# Data Exploration and Feature Engeenering Starter\n## Two Sigma Connect   Renthop Competition\n## Sergei Neviadomski",
      "metadata": {}
    },
    {
      "cell_type": "code",
      "source": "### Necessary libraries\nimport pandas as pd\nimport numpy as np\nimport matplotlib.pyplot as plt\nimport seaborn as sns\n\n%matplotlib inline\n### Seaborn style\nsns.set_style(\"whitegrid\")",
      "execution_count": null,
      "outputs": [],
      "metadata": {}
    },
    {
      "cell_type": "code",
      "source": "### Let's import our data\ntrain_data = pd.read_json('../input/train.json')\n### and test if everything OK\ntrain_data.head()",
      "execution_count": null,
      "outputs": [],
      "metadata": {}
    },
    {
      "cell_type": "code",
      "source": "### ... check for NAs\ntrain_data.isnull().sum()",
      "execution_count": null,
      "outputs": [],
      "metadata": {}
    },
    {
      "cell_type": "code",
      "source": "### Target variable exploration\nsns.countplot(train_data.interest_level, order=['low', 'medium', 'high']);\nplt.xlabel('Interest Level');\nplt.ylabel('Number of occurrences');",
      "execution_count": null,
      "outputs": [],
      "metadata": {}
    },
    {
      "cell_type": "code",
      "source": "### Quantitative substitute of Interest Level\ntrain_data['interest'] = np.where(train_data.interest_level=='low', 0,\n                                  np.where(train_data.interest_level=='medium', 1, 2))",
      "execution_count": null,
      "outputs": [],
      "metadata": {}
    },
    {
      "cell_type": "code",
      "source": "### Bathrooms graphs\nfig = plt.figure(figsize=(12,12))\n### Number of occurrences\nsns.countplot(train_data.bathrooms, ax = plt.subplot(221));\nplt.xlabel('Number of Bathrooms');\nplt.ylabel('Number of occurrences');\n### Average number of Bathrooms per Interest Level\nsns.barplot(x='interest_level', y='bathrooms', data=train_data, order=['low', 'medium', 'high'],\n            ax = plt.subplot(222));\nplt.xlabel('Interest Level');\nplt.ylabel('Average Number of Bathrooms');\n### Average interest for every number of bathrooms\nsns.pointplot(x=\"bathrooms\", y=\"interest\", data=train_data, ax = plt.subplot(212));\nplt.xlabel('Number of Bathrooms');\nplt.ylabel('Average Interest');",
      "execution_count": null,
      "outputs": [],
      "metadata": {}
    },
    {
      "cell_type": "code",
      "source": "### Bedrooms graphs\nfig = plt.figure(figsize=(12,12))\n### Number of occurrences\nsns.countplot(train_data.bedrooms, ax = plt.subplot(221));\nplt.xlabel('Number of Bedrooms');\nplt.ylabel('Number of occurrences');\n### Average number of Bedrooms per Interest Level\nsns.barplot(x='interest_level', y='bedrooms', data=train_data, order=['low', 'medium', 'high'],\n            ax = plt.subplot(222));\nplt.xlabel('Interest Level');\nplt.ylabel('Average Number of Bedrooms');\n### Average interest for every number of bedrooms\nsns.pointplot(x=\"bedrooms\", y=\"interest\", data=train_data, ax = plt.subplot(212));\nplt.xlabel('Number of Bedrooms');\nplt.ylabel('Average Interest');",
      "execution_count": null,
      "outputs": [],
      "metadata": {}
    },
    {
      "cell_type": "code",
      "source": "### Most advertised buildings\ntrain_data.building_id.value_counts().nlargest(10)",
      "execution_count": null,
      "outputs": [],
      "metadata": {}
    },
    {
      "cell_type": "code",
      "source": "### Convertion to Python Date\ntrain_data.created = pd.to_datetime(train_data.created, format='%Y-%m-%d %H:%M:%S')",
      "execution_count": null,
      "outputs": [],
      "metadata": {}
    },
    {
      "cell_type": "code",
      "source": "### New Month, Day of Week and Hour Features\ntrain_data['month'] = train_data.created.dt.month\ntrain_data['day_of_week'] = train_data.created.dt.weekday_name\ntrain_data['hour'] = train_data.created.dt.hour",
      "execution_count": null,
      "outputs": [],
      "metadata": {}
    },
    {
      "cell_type": "code",
      "source": "### First date in DataFrame\nprint('First advert created at {}'.format(train_data.created.nsmallest(1).values[0]))",
      "execution_count": null,
      "outputs": [],
      "metadata": {}
    },
    {
      "cell_type": "code",
      "source": "### Last date in DataFrame\nprint('Last advert created at {}'.format(train_data.created.nlargest(1).values[0]))",
      "execution_count": null,
      "outputs": [],
      "metadata": {}
    },
    {
      "cell_type": "code",
      "source": "### Iterest per month\nfig = plt.figure(figsize=(12,6))\nax = sns.countplot(x=\"month\", hue=\"interest_level\", hue_order=['low', 'medium', 'high'],\n                   data=train_data);\nplt.xlabel('Month');\nplt.ylabel('Number of occurrences')\n\n### Adding percents over bars\nheight = [p.get_height() for p in ax.patches]\nncol = int(len(height)/3)\ntotal = [height[i] + height[i + ncol] + height[i + 2*ncol] for i in range(ncol)] * 3\nfor i, p in enumerate(ax.patches):    \n    ax.text(p.get_x()+p.get_width()/2,\n            height[i] + 50,\n            '{:1.0%}'.format(height[i]/total[i]),\n            ha=\"center\") ",
      "execution_count": null,
      "outputs": [],
      "metadata": {}
    },
    {
      "cell_type": "code",
      "source": "### Iterest per Day of Week\nfig = plt.figure(figsize=(12,6))\nax = sns.countplot(x=\"day_of_week\", hue=\"interest_level\",\n                   hue_order=['low', 'medium', 'high'], data=train_data,\n                   order=['Sunday', 'Monday', 'Tuesday', 'Wednesday', 'Thursday', 'Friday', 'Saturday']);\nplt.xlabel('Day of Week');\nplt.ylabel('Number of occurrences');\n\n### Adding percents over bars\nheight = [p.get_height() for p in ax.patches]\nncol = int(len(height)/3)\ntotal = [height[i] + height[i + ncol] + height[i + 2*ncol] for i in range(ncol)] * 3\nfor i, p in enumerate(ax.patches):    \n    ax.text(p.get_x()+p.get_width()/2,\n            height[i] + 50,\n            '{:1.0%}'.format(height[i]/total[i]),\n            ha=\"center\") ",
      "execution_count": null,
      "outputs": [],
      "metadata": {}
    },
    {
      "cell_type": "code",
      "source": "### Iterest per Day of Week\nfig = plt.figure(figsize=(12,6))\nsns.countplot(x=\"hour\", hue=\"interest_level\", hue_order=['low', 'medium', 'high'], data=train_data);\nplt.xlabel('Hour');\nplt.ylabel('Number of occurrences');",
      "execution_count": null,
      "outputs": [],
      "metadata": {}
    },
    {
      "cell_type": "code",
      "source": "### Number of unique Display Addresses\nprint('Number of Unique Display Addresses is {}'.format(train_data.display_address.value_counts().shape[0]))",
      "execution_count": null,
      "outputs": [],
      "metadata": {}
    },
    {
      "cell_type": "code",
      "source": "### 15 most popular Display Addresses\ntrain_data.display_address.value_counts().nlargest(15)",
      "execution_count": null,
      "outputs": [],
      "metadata": {}
    },
    {
      "cell_type": "code",
      "source": "### Top 20 northernmost points\ntrain_data.latitude.nlargest(20)",
      "execution_count": null,
      "outputs": [],
      "metadata": {}
    },
    {
      "cell_type": "code",
      "source": "### Top 20 southernmost points\ntrain_data.latitude.nsmallest(20)",
      "execution_count": null,
      "outputs": [],
      "metadata": {}
    },
    {
      "cell_type": "code",
      "source": "### Top 20 easternmost points\ntrain_data.longitude.nlargest(20)",
      "execution_count": null,
      "outputs": [],
      "metadata": {}
    },
    {
      "cell_type": "code",
      "source": "### Top 20 westernmost points\ntrain_data.longitude.nsmallest(20)",
      "execution_count": null,
      "outputs": [],
      "metadata": {}
    },
    {
      "cell_type": "code",
      "source": "### Rent interest graph of New-York\nsns.lmplot(x=\"longitude\", y=\"latitude\", fit_reg=False, hue='interest_level',\n           hue_order=['low', 'medium', 'high'], size=9, scatter_kws={'alpha':0.4,'s':30},\n           data=train_data[(train_data.longitude>train_data.longitude.quantile(0.005))\n                           &(train_data.longitude<train_data.longitude.quantile(0.995))\n                           &(train_data.latitude>train_data.latitude.quantile(0.005))                           \n                           &(train_data.latitude<train_data.latitude.quantile(0.995))]);\nplt.xlabel('Longitude');\nplt.ylabel('Latitude');",
      "execution_count": null,
      "outputs": [],
      "metadata": {}
    },
    {
      "cell_type": "code",
      "source": "### Let's get a list of top 10 managers\ntop10managers = train_data.manager_id.value_counts().nlargest(10).index.tolist()\n### ...and plot number of different Interest Level rental adverts for each of them\nfig = plt.figure(figsize=(12,6))\nax = sns.countplot(x=\"manager_id\", hue=\"interest_level\",\n                   data=train_data[train_data.manager_id.isin(top10managers)]);\nplt.xlabel('Manager');\nplt.ylabel('Number of advert occurrences');\n### Manager_ids are too long. Let's remove them\nplt.tick_params(\n    axis='x',          # changes apply to the x-axis\n    which='both',      # both major and minor ticks are affected\n    bottom='off',      # ticks along the bottom edge are off\n    top='off',         # ticks along the top edge are off\n    labelbottom='off');\n\n### Adding percents over bars\nheight = [0 if np.isnan(p.get_height()) else p.get_height() for p in ax.patches]\nncol = int(len(height)/3)\ntotal = [height[i] + height[i + ncol] + height[i + 2*ncol] for i in range(ncol)] * 3\nfor i, p in enumerate(ax.patches):    \n    ax.text(p.get_x()+p.get_width()/2,\n            height[i] + 20,\n            '{:1.0%}'.format(height[i]/total[i]),\n            ha=\"center\")",
      "execution_count": null,
      "outputs": [],
      "metadata": {}
    },
    {
      "cell_type": "code",
      "source": "### Getting number of photos\ntrain_data['photos_number'] = train_data.photos.str.len()",
      "execution_count": null,
      "outputs": [],
      "metadata": {}
    },
    {
      "cell_type": "code",
      "source": "### Number of photos graphs\nfig = plt.figure(figsize=(12,12))\n### Average number of Photos per Interest Level\nsns.barplot(x=\"interest_level\", y=\"photos_number\", order=['low', 'medium', 'high'],\n            data=train_data, ax=plt.subplot(221));\nplt.xlabel('Interest Level');\nplt.ylabel('Average Number of Photos');\n### Average interest for every number of photos\nsns.barplot(x=\"photos_number\", y=\"interest\", data=train_data, ax=plt.subplot(222));\nplt.xlabel('Number of Photos');\nplt.ylabel('Average Interest');\n### Number of occurrences\nsns.countplot(x='photos_number', hue='interest_level', hue_order=['low', 'medium', 'high'],\n              data=train_data, ax=plt.subplot(212));\nplt.xlabel('Number of Photos');\nplt.ylabel('Number of occurrences');",
      "execution_count": null,
      "outputs": [],
      "metadata": {}
    },
    {
      "cell_type": "code",
      "source": "### Price exploration\nfig = plt.figure(figsize=(12,12))\n### Price distribution\nsns.distplot(train_data.price[train_data.price<=train_data.price.quantile(0.99)], ax=plt.subplot(211));\nplt.xlabel('Price');\nplt.ylabel('Density');\n### Average Price per Interest Level\nsns.barplot(x=\"interest_level\", y=\"price\", order=['low', 'medium', 'high'],\n            data=train_data, ax=plt.subplot(223));\nplt.xlabel('Interest Level');\nplt.ylabel('Price');\n### Violinplot of price for every Interest Level\nsns.violinplot(x=\"interest_level\", y=\"price\", order=['low', 'medium', 'high'],\n               data=train_data[train_data.price<=train_data.price.quantile(0.99)],\n               ax=plt.subplot(224));\nplt.xlabel('Interest Level');\nplt.ylabel('Price');",
      "execution_count": null,
      "outputs": [],
      "metadata": {}
    },
    {
      "cell_type": "markdown",
      "source": "### Please upvote if you like my notebook :)",
      "metadata": {}
    }
  ]
}