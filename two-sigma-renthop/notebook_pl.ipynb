{
  "metadata": {
    "kernelspec": {
      "name": "python"
    },
    "language_info": {
      "name": "python",
      "version": "3.5.1"
    }
  },
  "nbformat": 4,
  "nbformat_minor": 0,
  "cells": [
    {
      "cell_type": "markdown",
      "source": "**Introduction**\n================\n\n**_Poonam Ligade_**\n\n*9th Feb 2017*\n\nIn this competition we are trying to classify interest levels of rental listings into high , low or medium.\n\nIn this mainly we will look at data exploration and visulization part\n\nEDA is often most tedious and boring job.\n\nBut the more time you spend here on understanding, cleaning and preparing data the better fruits your predictive model will bare!!\n\nLets start.\n\n1) **Introduction**\n\n  1. Import Libraries\n  2. Load data\n  3. Variable Identification\n  4. Run Statistical summaries\n  5. Correlations\n\n2) **Visualisation**\n\n 1. Univariate Analysis\n 2. Bivariate Analysis\n\n\n3) **Feature engineering**",
      "metadata": {}
    },
    {
      "cell_type": "code",
      "source": "# This Python 3 environment comes with many helpful analytics libraries installed\n# It is defined by the kaggle/python docker image: https://github.com/kaggle/docker-python\n# For example, here's several helpful packages to load in \n\nimport numpy as np # linear algebra\nimport pandas as pd # data processing, CSV file I/O (e.g. pd.read_csv)\n\nimport matplotlib.pyplot as plt\n% matplotlib inline\nimport seaborn as sns\nsns.set(style=\"whitegrid\", color_codes=True)\nsns.set(font_scale=1)\n\nimport plotly.plotly as py\nimport plotly.graph_objs as go\nfrom plotly import tools\n\n\nfrom plotly.offline import download_plotlyjs, init_notebook_mode, iplot\ninit_notebook_mode(connected=True)\n\n\n# Input data files are available in the \"../input/\" directory.\n# For example, running this (by clicking run or pressing Shift+Enter) will list the files in the input directory\n\nfrom subprocess import check_output\nprint(check_output([\"ls\", \"../input/two-sigma-connect-rental-listing-inquiries\"]).decode(\"utf8\"))\n\n# Any results you write to the current directory are saved as output.",
      "execution_count": null,
      "outputs": [],
      "metadata": {}
    },
    {
      "cell_type": "code",
      "source": "train = pd.read_json(\"../input/two-sigma-connect-rental-listing-inquiries/train.json\")\ntrain.head()",
      "execution_count": null,
      "outputs": [],
      "metadata": {}
    },
    {
      "cell_type": "code",
      "source": "test = pd.read_json(\"../input/two-sigma-connect-rental-listing-inquiries/test.json\")\ntest.head().T",
      "execution_count": null,
      "outputs": [],
      "metadata": {}
    },
    {
      "cell_type": "markdown",
      "source": "**Size of Data**\n----------------",
      "metadata": {}
    },
    {
      "cell_type": "code",
      "source": "train.shape",
      "execution_count": null,
      "outputs": [],
      "metadata": {}
    },
    {
      "cell_type": "code",
      "source": "test.shape",
      "execution_count": null,
      "outputs": [],
      "metadata": {}
    },
    {
      "cell_type": "markdown",
      "source": "**Variable Identification**\n---------------------------",
      "metadata": {}
    },
    {
      "cell_type": "code",
      "source": "#info method provides information about dataset like \n#total values in each column, null/not null, datatype, memory occupied etc\ntrain.info()",
      "execution_count": null,
      "outputs": [],
      "metadata": {}
    },
    {
      "cell_type": "code",
      "source": "#How many columns with different datatypes are there?\ntrain.get_dtype_counts()",
      "execution_count": null,
      "outputs": [],
      "metadata": {}
    },
    {
      "cell_type": "code",
      "source": "##Describe gives statistical information about numerical columns in the dataset\ntrain.describe()",
      "execution_count": null,
      "outputs": [],
      "metadata": {}
    },
    {
      "cell_type": "markdown",
      "source": "**Visualization**\n=========================",
      "metadata": {}
    },
    {
      "cell_type": "markdown",
      "source": "**Latitude and Longitude using Google Earth**\n---------------------------------------------------------",
      "metadata": {}
    },
    {
      "cell_type": "code",
      "source": "import gpxpy as gpx\nimport gpxpy.gpx\n\ngpx = gpxpy.gpx.GPX()\n\nfor index, row in train.iterrows():\n    #print (row['latitude'], row['longitude'])\n\n    if row['interest_level'] == 'high': #opting for all nominals results in poor performance of Google Earth\n        gps_waypoint = gpxpy.gpx.GPXWaypoint(row['latitude'],row['longitude'],elevation=10)\n        gpx.waypoints.append(gps_waypoint)\n        \nfilename = \"GoogleEarth.gpx\"\nFILE = open(filename,\"w\")\nFILE.writelines(gpx.to_xml())\nFILE.close()",
      "execution_count": null,
      "outputs": [],
      "metadata": {}
    },
    {
      "cell_type": "markdown",
      "source": "credits to this [kernel][1]\n\nOn  Google Earth high level interest rental listing looks like this.\n![Listings][2]\n\n\n  [1]: https://www.kaggle.com/justindeed/two-sigma-connect-rental-listing-inquiries/google-earth-exploration/\n  [2]: http://i.imgur.com/9mXpYrL.jpg",
      "metadata": {}
    },
    {
      "cell_type": "markdown",
      "source": "**Wordcloud for text data**\n---------------------------",
      "metadata": {}
    },
    {
      "cell_type": "code",
      "source": "#Preprocessing\nfrom wordcloud import WordCloud\ntext = ''\ntext_dispadd = ''\ntext_street = ''\ntext_desc =''\nfor ind, row in train.iterrows():\n    for feature in row['features']:\n        text = \" \".join([text, \"_\".join(feature.strip().split(\" \"))])\n    text_dispadd = \" \".join([text_dispadd,\"_\".join(row['display_address'].strip().split(\" \"))])\n    text_street = \" \".join([text_street, row['street_address']])\n    text_desc=\" \".join([text_desc, row['description']])\ntext = text.strip()\ntext_dispadd = text_dispadd.strip()\ntext_street = text_street.strip()\ntext_desc = text_desc.strip()",
      "execution_count": null,
      "outputs": [],
      "metadata": {}
    },
    {
      "cell_type": "markdown",
      "source": "**Display Address**\n-------------------",
      "metadata": {}
    },
    {
      "cell_type": "code",
      "source": "import random\n\ndef grey_color_func(word, font_size, position, orientation, random_state=None, **kwargs):\n    return \"hsl(0, 0%%, %d%%)\" % random.randint(60, 100)\n\n\n# wordcloud for display address\nplt.figure(figsize=(12,6))\nwc = WordCloud(background_color='gold', width=600, height=300,\n                      max_font_size=50, max_words=40).generate(text_dispadd)\nplt.imshow(wc.recolor(color_func=grey_color_func, random_state=3))\n#plt.imshow(wc)\nplt.title(\"Display Address\", fontsize=20)\nplt.axis(\"off\")\nplt.show();",
      "execution_count": null,
      "outputs": [],
      "metadata": {}
    },
    {
      "cell_type": "markdown",
      "source": "**Features**\n------------",
      "metadata": {}
    },
    {
      "cell_type": "code",
      "source": "plt.figure(figsize=(12,6))\nwordcloud = WordCloud(background_color='white', width=600, height=300,\n                      max_font_size=50, max_words=40).generate(text)\nwordcloud.recolor(random_state=0)\nplt.imshow(wordcloud)\nplt.title(\"Features\", fontsize=20)\nplt.axis(\"off\")\nplt.show()",
      "execution_count": null,
      "outputs": [],
      "metadata": {}
    },
    {
      "cell_type": "markdown",
      "source": "**Street Address**\n------------------",
      "metadata": {}
    },
    {
      "cell_type": "code",
      "source": "def green_color_func(word, font_size, position, orientation, random_state=None, **kwargs):\n    return \"hsl(165, 90%%, %d%%)\" % random.randint(39, 145)\n\n\n# wordcloud for street address\nplt.figure(figsize=(12,6))\nwordcloud = WordCloud(background_color='seagreen', width=600, height=300,\n                      max_font_size=50, max_words=40).generate(text_street)\nwordcloud.recolor(color_func=green_color_func, random_state=8)\nplt.imshow(wordcloud)\nplt.title(\"Street Address\", fontsize=20)\nplt.axis(\"off\")\nplt.show()",
      "execution_count": null,
      "outputs": [],
      "metadata": {}
    },
    {
      "cell_type": "markdown",
      "source": "**Description**\n===============",
      "metadata": {}
    },
    {
      "cell_type": "code",
      "source": "plt.figure(figsize=(12,6))\nwordcloud = WordCloud(background_color='black', width=600, height=300,\n                      max_font_size=50, max_words=40).generate(text_desc)\nwordcloud.recolor(random_state=0)\nplt.imshow(wordcloud)\nplt.title(\"Description\", fontsize=20)\nplt.axis(\"off\")\nplt.show()",
      "execution_count": null,
      "outputs": [],
      "metadata": {}
    },
    {
      "cell_type": "markdown",
      "source": "*Interest Level*\n----------------",
      "metadata": {}
    },
    {
      "cell_type": "code",
      "source": "#target variable\nlabels = [\"low\",\"medium\",\"high\"]\nsizes = train.interest_level.value_counts().values\nexplode=[0.1,0,0]\ncolors = [  'lightcoral','gold','lightblue']\npatches, texts,autotexts= plt.pie(sizes, labels=labels,colors=colors,explode=explode,autopct=\"%1.1f%%\",\n                        startangle=90)\nplt.title(\"Interest Level\")\nplt.show()",
      "execution_count": null,
      "outputs": [],
      "metadata": {}
    },
    {
      "cell_type": "markdown",
      "source": "Very few listings are with high interest.",
      "metadata": {}
    },
    {
      "cell_type": "markdown",
      "source": "*Price*\n-------",
      "metadata": {}
    },
    {
      "cell_type": "code",
      "source": "plt.figure(figsize=(8, 10))\nplt.scatter(range(train.shape[0]), train[\"price\"].values,color='purple')\nplt.title(\"Distribution of Price\");",
      "execution_count": null,
      "outputs": [],
      "metadata": {}
    },
    {
      "cell_type": "markdown",
      "source": "Looks like there are some outliers in price, column ,lets remove them first.",
      "metadata": {}
    },
    {
      "cell_type": "code",
      "source": "ulimit = np.percentile(train.price.values, 99)\ntrain['price'].ix[train['price']>ulimit] = ulimit\n\n\nplt.figure(figsize=(8, 10))\nplt.scatter(range(train.shape[0]), train[\"price\"].values,color='purple')\nplt.ylabel(\"Price\")\nplt.title(\"Distribution of Price\");",
      "execution_count": null,
      "outputs": [],
      "metadata": {}
    },
    {
      "cell_type": "code",
      "source": "order = ['low', 'medium', 'high']\nsns.stripplot(train[\"interest_level\"],train[\"price\"],jitter=True,order=order)\nplt.title(\"Price Vs Interest_level\");",
      "execution_count": null,
      "outputs": [],
      "metadata": {}
    },
    {
      "cell_type": "markdown",
      "source": "*Number of BedRooms*\n--------------------",
      "metadata": {}
    },
    {
      "cell_type": "code",
      "source": "train[\"bedrooms\"].value_counts().plot(kind='bar',colors='gold')\nplt.ylabel(\"Number of Occurences\")\nplt.xlabel(\"Number of Bedrooms\");",
      "execution_count": null,
      "outputs": [],
      "metadata": {}
    },
    {
      "cell_type": "code",
      "source": "sns.stripplot(y=\"bedrooms\", x=\"interest_level\",data=train,jitter=True,order=order);",
      "execution_count": null,
      "outputs": [],
      "metadata": {}
    },
    {
      "cell_type": "code",
      "source": "sns.stripplot(x=\"bedrooms\", y=\"price\",data=train,jitter=True);",
      "execution_count": null,
      "outputs": [],
      "metadata": {}
    },
    {
      "cell_type": "markdown",
      "source": "*Number of BathRooms*\n---------------------",
      "metadata": {}
    },
    {
      "cell_type": "code",
      "source": "sns.stripplot(x=\"bathrooms\", y=\"price\"\n              ,data=train, alpha=.5,jitter=True);",
      "execution_count": null,
      "outputs": [],
      "metadata": {}
    },
    {
      "cell_type": "code",
      "source": "sns.stripplot(y=\"bathrooms\", x=\"interest_level\",data=train,jitter=True,order=order);",
      "execution_count": null,
      "outputs": [],
      "metadata": {}
    },
    {
      "cell_type": "markdown",
      "source": "There is 1 house listing with 10 bathrooms. I think we can treat that as outlier. \nLets remove it and plot again.",
      "metadata": {}
    },
    {
      "cell_type": "code",
      "source": "ulimit = np.percentile(train.bathrooms.values, 99)\ntrain['bathrooms'].ix[train['bathrooms']>ulimit] = ulimit",
      "execution_count": null,
      "outputs": [],
      "metadata": {}
    },
    {
      "cell_type": "code",
      "source": "\nsns.stripplot(y=\"bathrooms\", x=\"interest_level\",data=train,jitter=True,order=order);",
      "execution_count": null,
      "outputs": [],
      "metadata": {}
    },
    {
      "cell_type": "markdown",
      "source": "**Listing Id**\n==============",
      "metadata": {}
    },
    {
      "cell_type": "code",
      "source": "sns.stripplot(train[\"interest_level\"],train[\"listing_id\"],jitter=True,order=order)\nplt.title(\"Price Vs Interest_level\");",
      "execution_count": null,
      "outputs": [],
      "metadata": {}
    },
    {
      "cell_type": "markdown",
      "source": "Above certain value of listing ID interest is extremely low. Borrowed from this [kernel][1]\n\n\n  [1]: https://www.kaggle.com/zeroblue/two-sigma-connect-rental-listing-inquiries/visualizing-listing-id-vs-interest-level",
      "metadata": {}
    },
    {
      "cell_type": "markdown",
      "source": "**Feature engineering**\n=======================",
      "metadata": {}
    },
    {
      "cell_type": "markdown",
      "source": "**Aggregate on Text data**\n--------------------------",
      "metadata": {}
    },
    {
      "cell_type": "code",
      "source": "train['num_photos'] = train['photos'].apply(len)\ntrain['num_features'] = train['features'].apply(len)\ntrain['num_description_words'] = train['description'].apply(lambda x: len(x.split(' ')))\ntrain['num_description_len'] = train['description'].apply(len)",
      "execution_count": null,
      "outputs": [],
      "metadata": {}
    },
    {
      "cell_type": "markdown",
      "source": "**Breaking created date column**\n--------------------------------",
      "metadata": {}
    },
    {
      "cell_type": "code",
      "source": "train['created'] = pd.to_datetime(train['created'])\ntrain['date'] = train['created'].dt.date\ntrain[\"year\"] = train[\"created\"].dt.year\ntrain['month'] = train['created'].dt.month\ntrain['day'] = train['created'].dt.day\ntrain['hour'] = train['created'].dt.hour\ntrain['weekday'] = train['created'].dt.weekday\ntrain['week'] = train['created'].dt.week\ntrain['quarter'] = train['created'].dt.quarter\ntrain['weekend'] = ((train['weekday'] == 5) & (train['weekday'] == 6))\ntrain['wd'] = ((train['weekday'] != 5) & (train['weekday'] != 6))",
      "execution_count": null,
      "outputs": [],
      "metadata": {}
    },
    {
      "cell_type": "markdown",
      "source": "**Dates**\n-------",
      "metadata": {}
    },
    {
      "cell_type": "code",
      "source": "cnt_srs = train['date'].value_counts()\n\nplt.figure(figsize=(12,4))\nax = plt.subplot(111)\nax.bar(cnt_srs.index, cnt_srs.values, color='seagreen')\nax.xaxis_date()\nplt.xticks(rotation='vertical')\nplt.show()",
      "execution_count": null,
      "outputs": [],
      "metadata": {}
    },
    {
      "cell_type": "markdown",
      "source": "All listings have been created in April to July 2016 period in our data.",
      "metadata": {}
    },
    {
      "cell_type": "markdown",
      "source": "**Hour**\n------",
      "metadata": {}
    },
    {
      "cell_type": "code",
      "source": "hourDF = train.groupby(['hour', 'interest_level'])['hour'].count().unstack('interest_level').fillna(0)\nhourDF[['low','medium',\"high\"]].plot(kind='bar', stacked=True);",
      "execution_count": null,
      "outputs": [],
      "metadata": {}
    },
    {
      "cell_type": "markdown",
      "source": "**Month**\n-------",
      "metadata": {}
    },
    {
      "cell_type": "code",
      "source": "monthDF = train.groupby(['month', 'interest_level'])['month'].count().unstack('interest_level').fillna(0)\nmonthDF[['low','medium',\"high\"]].plot(kind='bar', stacked=True);",
      "execution_count": null,
      "outputs": [],
      "metadata": {}
    },
    {
      "cell_type": "markdown",
      "source": "**Photos**\n--------",
      "metadata": {}
    },
    {
      "cell_type": "code",
      "source": "train.num_photos.value_counts().plot(kind='bar',color='purple')",
      "execution_count": null,
      "outputs": [],
      "metadata": {}
    },
    {
      "cell_type": "code",
      "source": "train['num_photos'].ix[train['num_photos']>15] = 15\nsns.stripplot(y=\"num_photos\", x=\"interest_level\",data=train,jitter=True,order=order);",
      "execution_count": null,
      "outputs": [],
      "metadata": {}
    },
    {
      "cell_type": "markdown",
      "source": "Data is evenly distributed across interest levels",
      "metadata": {}
    },
    {
      "cell_type": "markdown",
      "source": "*Features*\n----------",
      "metadata": {}
    },
    {
      "cell_type": "code",
      "source": "train.num_features.value_counts().plot(kind='bar',color='orange')\nplt.xlabel(\"Number of features\")",
      "execution_count": null,
      "outputs": [],
      "metadata": {}
    },
    {
      "cell_type": "code",
      "source": "train['num_features'].ix[train['num_features'] > 16] = 16\nsns.stripplot(x=\"num_features\", y=\"interest_level\",data=train,jitter=True,order=order);",
      "execution_count": null,
      "outputs": [],
      "metadata": {}
    },
    {
      "cell_type": "markdown",
      "source": "Data is evenly distributed across all levels",
      "metadata": {}
    },
    {
      "cell_type": "markdown",
      "source": "**High profile Managers**\n--------------------\n\nIn this I have tried to find top managers with more than 80 listings altogether with low,medium or high interest levels and more than 30 listings with high interest levels.",
      "metadata": {}
    },
    {
      "cell_type": "code",
      "source": "managerDF = train.groupby(['manager_id', 'interest_level'])['manager_id'].count().unstack('interest_level').fillna(0)\nmanagerDF[\"sum\"]=managerDF.sum(axis=1)\nx=managerDF[ (managerDF['sum'] > 80) & (managerDF['high'] > 30)]\nmanagerDF.head()\nx.sort_values(\"sum\",inplace=True)\nplt.title(\"High Profile Managers\")\nplt.xlabel(\"High Interest level\")\nplt.ylabel(\"Manager ID\")\nx = x[x.index != 'e6472c7237327dd3903b3d6f6a94515a']\nx[\"sum\"].plot(kind='barh',color=\"brown\");",
      "execution_count": null,
      "outputs": [],
      "metadata": {}
    },
    {
      "cell_type": "markdown",
      "source": "**High profile Buildings**\n=====================\n\nIn this I have tried to find top buildings with more than 60 listings altogether with low,medium or high interest levels and more than 15 listings with high interest levels.",
      "metadata": {}
    },
    {
      "cell_type": "code",
      "source": "buildingDF = train.groupby(['building_id', 'interest_level'])['building_id'].count().unstack('interest_level').fillna(0)\nbuildingDF[\"sum\"]=buildingDF.sum(axis=1)\nx=buildingDF[ (buildingDF['sum'] > 60) & (buildingDF['high'] > 15)]\nbuildingDF.head()\n#removing the outlier\nx = x[x.index != '0']\nx.sort_values(\"sum\",inplace=True)\nplt.title(\"High Profile Buildings\")\nplt.xlabel(\"High Interest level\")\nplt.ylabel(\"Building ID\")\nx[\"sum\"].plot(kind='barh',color=\"orange\");",
      "execution_count": null,
      "outputs": [],
      "metadata": {}
    },
    {
      "cell_type": "markdown",
      "source": "**BedRooms , Bathrooms, Features , Price and Interest level all together**\n-----------------------------------------------------------------------",
      "metadata": {}
    },
    {
      "cell_type": "code",
      "source": "hover_text = []\nbubble_size = []\nslope = 2.8\nfor index, row in train.iterrows():\n    hover_text.append(('Interest: {interest}<br>'+\n                      'Bedrooms: {bedrooms}<br>'+\n                      'Price: {price}<br>'+\n                      'Bathrooms: {bathrooms}<br>'+\n                      'Year: {year}').format(interest=row['interest_level'],\n                                            bedrooms=row['bedrooms'],\n                                            price=row['price'],\n                                            bathrooms=row['bathrooms'],\n                                            year=row['created']))\n    bubble_size.append(len(row['features'])*slope)\n\ntrain['text'] = hover_text\ntrain['bubble_size'] = bubble_size",
      "execution_count": null,
      "outputs": [],
      "metadata": {}
    },
    {
      "cell_type": "code",
      "source": "trace0 = go.Scatter(\n    y=train['bedrooms'][train['interest_level'] == 'low'],\n    x=train['price'][train['interest_level'] == 'low'],\n    mode='markers',\n    name='low',\n    text=train['text'][train['interest_level'] == 'low'],\n    marker=dict(\n        sizemode='diameter',\n        sizeref=0.85,\n        size=train['bubble_size'][train['interest_level'] == 'low'],\n        line=dict(\n            width=2\n        ),\n    )\n)\n\ntrace1 = go.Scatter(\n    y=train['bedrooms'][train['interest_level'] == 'medium'],\n    x=train['price'][train['interest_level'] == 'medium'],\n    mode='markers',\n    name='medium',\n    text=train['text'][train['interest_level'] == 'medium'],\n   marker=dict(\n        sizemode='diameter',\n        sizeref=0.85,\n        size=train['bubble_size'][train['interest_level'] == 'medium'],\n        line=dict(\n            width=2\n        ),\n    )\n)\n\ntrace2 = go.Scatter(\n    y=train['bedrooms'][train['interest_level'] == 'high'],\n    x=train['price'][train['interest_level'] == 'high'],\n    mode='markers',\n    name='high',\n    text=train['text'][train['interest_level'] == 'high'],\n    marker=dict(\n        sizemode='diameter',\n        sizeref=0.85,\n        size=train['bubble_size'][train['interest_level'] == 'high'],\n        line=dict(\n            width=2\n        ),\n    )\n)\n\ndata = [trace0,trace1,trace2]\n\nlayout = go.Layout(\n    title='Number of Bedrooms vs Price',\n    xaxis=dict(\n        title='Price (in dollars)',\n        gridcolor='rgb(255, 255, 255)',\n        range=[2.003297660701705, 5.191505530708712],\n        type='log',\n        zerolinewidth=1,\n        ticklen=5,\n        gridwidth=2,\n    ),\n    yaxis=dict(\n        title='Number of Bedrooms',\n        gridcolor='rgb(255, 255, 255)',\n        range=[0.12621671352166, 8.72921793264332],\n        zerolinewidth=1,\n        ticklen=5,\n        gridwidth=2,\n    ),\n    paper_bgcolor='rgb(243, 243, 243)',\n    plot_bgcolor='rgb(243, 243, 243)',\n)\n\n\nfig = dict(data=data, layout=layout)\niplot(fig, filename='bubblechart-color')",
      "execution_count": null,
      "outputs": [],
      "metadata": {}
    },
    {
      "cell_type": "markdown",
      "source": "More to come. Please upvote if you find it useful.",
      "metadata": {}
    }
  ]
}