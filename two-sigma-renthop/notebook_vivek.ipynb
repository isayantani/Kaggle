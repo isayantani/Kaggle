{
  "metadata": {
    "kernelspec": {
      "name": "python"
    },
    "language_info": {
      "name": "python",
      "version": "3.5.1"
    }
  },
  "nbformat": 4,
  "nbformat_minor": 0,
  "cells": [
    {
      "cell_type": "markdown",
      "source": "## Global Imports ##",
      "metadata": {}
    },
    {
      "cell_type": "code",
      "source": "\n\nimport pylab\nimport calendar\nimport numpy as np\nimport pandas as pd\nimport seaborn as sn\nfrom scipy import stats\nimport missingno as msno\nfrom datetime import datetime\nimport matplotlib.pyplot as plt\n%matplotlib inline",
      "execution_count": null,
      "outputs": [],
      "metadata": {}
    },
    {
      "cell_type": "markdown",
      "source": "## Reading Training Dataset ##",
      "metadata": {}
    },
    {
      "cell_type": "code",
      "source": "data = pd.read_json(\"../input/train.json\")",
      "execution_count": null,
      "outputs": [],
      "metadata": {}
    },
    {
      "cell_type": "markdown",
      "source": "## Lets Describe Data A Bit ##",
      "metadata": {}
    },
    {
      "cell_type": "code",
      "source": "data.head()",
      "execution_count": null,
      "outputs": [],
      "metadata": {}
    },
    {
      "cell_type": "code",
      "source": "data.describe()",
      "execution_count": null,
      "outputs": [],
      "metadata": {}
    },
    {
      "cell_type": "markdown",
      "source": "## Lets See If We Have Any Missing Values In The Data ##",
      "metadata": {}
    },
    {
      "cell_type": "code",
      "source": "msno.matrix(data,figsize=(13,3))",
      "execution_count": null,
      "outputs": [],
      "metadata": {}
    },
    {
      "cell_type": "markdown",
      "source": "The data looks clean as there are no missing values in the any column",
      "metadata": {}
    },
    {
      "cell_type": "markdown",
      "source": "## Visualizing Distribution Of Price Before and After Removing Outliers ##",
      "metadata": {}
    },
    {
      "cell_type": "code",
      "source": "dataPriceLimited = data.copy()\nupperLimit = np.percentile(dataPriceLimited.price.values, 99)\ndataPriceLimited['price'].ix[dataPriceLimited['price']>upperLimit] = upperLimit\nfig,(ax1,ax2)= plt.subplots(ncols=2)\nfig.set_size_inches(13,5)\nsn.distplot(data.price.values, bins=50, kde=True,ax=ax1)\nsn.distplot(dataPriceLimited.price.values, bins=50, kde=True,ax=ax2)",
      "execution_count": null,
      "outputs": [],
      "metadata": {}
    },
    {
      "cell_type": "markdown",
      "source": "## Visualizing Outliers In Data ##\nLets understand what category of interest level contribute more to outliers in price",
      "metadata": {}
    },
    {
      "cell_type": "code",
      "source": "fig, (axes) = plt.subplots(nrows=2,ncols=2)\nfig.set_size_inches(13, 8)\nsn.boxplot(data=data,y=\"price\",orient=\"v\",ax=axes[0][0])\nsn.boxplot(data=data,y=\"price\",x=\"interest_level\",orient=\"v\",ax=axes[0][1])\nsn.boxplot(data=dataPriceLimited,y=\"price\",orient=\"v\",ax=axes[1][0])\nsn.boxplot(data=dataPriceLimited,y=\"price\",x=\"interest_level\",orient=\"v\",ax=axes[1][1])",
      "execution_count": null,
      "outputs": [],
      "metadata": {}
    },
    {
      "cell_type": "markdown",
      "source": "The price contains few outliers which skews the distribution towards the right. But when we split the data by interest level it is clearly visible the skewness is purely caused by price points in 'Low' interest level.",
      "metadata": {}
    },
    {
      "cell_type": "markdown",
      "source": "## Visualizing Interest Level Vs Price ##",
      "metadata": {}
    },
    {
      "cell_type": "code",
      "source": "fig,(ax1,ax2)= plt.subplots(ncols=2)\nfig.set_size_inches(13,5)\n\ninterestGroupedData = pd.DataFrame(data.groupby(\"interest_level\")[\"price\"].mean()).reset_index()\ninterestGroupedSortedData = interestGroupedData.sort_values(by=\"price\",ascending=False)\nsn.barplot(data=interestGroupedSortedData,x=\"interest_level\",y=\"price\",ax=ax1,orient=\"v\")\nax1.set(xlabel='Interest Level', ylabel='Average Price',title=\"Average Price Across Interest Level\")\n\ninterestData = pd.DataFrame(data.interest_level.value_counts())\ninterestData[\"interest_level_original\"] = interestData.index\nsn.barplot(data=interestData,x=\"interest_level_original\",y=\"interest_level\",ax=ax2,orient=\"v\")\nax2.set(xlabel='Interest Level', ylabel='Interest Level Frequency',title= \"Frequency By Interest Level\")",
      "execution_count": null,
      "outputs": [],
      "metadata": {}
    },
    {
      "cell_type": "markdown",
      "source": "It can be clearly visible from above two graphs\n\n 1. People showed low interest to high priced rental Listing and vice versa\n 2. Distribution of dataset by interest level contains more of interest level \"Low\"",
      "metadata": {}
    },
    {
      "cell_type": "markdown",
      "source": "## Visuallizing Interest Level Vs Bathroom ##",
      "metadata": {}
    },
    {
      "cell_type": "code",
      "source": "fig,(ax1,ax2)= plt.subplots(nrows=2)\nfig.set_size_inches(13,8)\n\nsn.countplot(x=\"bathrooms\", data=data,ax=ax1)\ndata1 = data.groupby(['bathrooms', 'interest_level'])['bathrooms'].count().unstack('interest_level').fillna(0)\ndata1[['low','medium',\"high\"]].plot(kind='bar', stacked=True,ax=ax2)",
      "execution_count": null,
      "outputs": [],
      "metadata": {}
    },
    {
      "cell_type": "markdown",
      "source": "## Visualizing Interest Level Vs Bedrooms ##",
      "metadata": {}
    },
    {
      "cell_type": "code",
      "source": "fig,(ax1,ax2)= plt.subplots(nrows=2)\nfig.set_size_inches(13,8)\n\nsn.countplot(x=\"bedrooms\", data=data,ax=ax1)\ndata1 = data.groupby(['bedrooms', 'interest_level'])['bedrooms'].count().unstack('interest_level').fillna(0)\ndata1[['low','medium',\"high\"]].plot(kind='bar', stacked=True,ax=ax2)",
      "execution_count": null,
      "outputs": [],
      "metadata": {}
    },
    {
      "cell_type": "markdown",
      "source": "## Visualizing Interest Level Vs Hour ##",
      "metadata": {}
    },
    {
      "cell_type": "code",
      "source": "data[\"created\"] = pd.to_datetime(data[\"created\"])\ndata[\"hour\"] = data[\"created\"].dt.hour\nfig,(ax1,ax2)= plt.subplots(nrows=2)\nfig.set_size_inches(13,8)\n\nsn.countplot(x=\"hour\", data=data,ax=ax1)\n\ndata1 = data.groupby(['hour', 'interest_level'])['hour'].count().unstack('interest_level').fillna(0)\ndata1[['low','medium',\"high\"]].plot(kind='bar', stacked=True,ax=ax2,)",
      "execution_count": null,
      "outputs": [],
      "metadata": {}
    },
    {
      "cell_type": "markdown",
      "source": "## Bedrooms Vs Bathrooms Vs Interest Level ##",
      "metadata": {}
    },
    {
      "cell_type": "code",
      "source": "fig,(ax1)= plt.subplots()\nfig.set_size_inches(13,8)\nax1.scatter(data[data['interest_level']==\"low\"]['bedrooms'],data[data['interest_level']==\"low\"]['bathrooms'],c='green',s=40)\nax1.scatter(data[data['interest_level']==\"medium\"]['bedrooms'],data[data['interest_level']==\"medium\"]['bathrooms'],c='red',s=40)\nax1.scatter(data[data['interest_level']==\"high\"]['bedrooms'],data[data['interest_level']==\"high\"]['bathrooms'],c='blue',s=80)\nax1.set_xlabel('Bedrooms')\nax1.set_ylabel('Bathrooms')\nax1.legend(('Low','Medium','High'),scatterpoints=1,loc='upper right',fontsize=15,)",
      "execution_count": null,
      "outputs": [],
      "metadata": {}
    },
    {
      "cell_type": "markdown",
      "source": "It can be visible from the above chart people show \"High\" interest level when the  no of bedrooms are on par with no of bathrooms. The blue diagonal dots gives evidence for it.",
      "metadata": {}
    },
    {
      "cell_type": "markdown",
      "source": "## Correlation Between Price and Other Features ##\n\nSince price has got high impact with Interest Level. It is interesting to understand what other features correlate with price",
      "metadata": {}
    },
    {
      "cell_type": "code",
      "source": "corrMatt = data[[\"bedrooms\",\"bathrooms\",\"price\"]].corr()\nmask = np.array(corrMatt)\nmask[np.tril_indices_from(mask)] = False\nfig,ax= plt.subplots()\nfig.set_size_inches(20,10)\nsn.heatmap(corrMatt, mask=mask,vmax=.8, square=True,annot=True)",
      "execution_count": null,
      "outputs": [],
      "metadata": {}
    },
    {
      "cell_type": "markdown",
      "source": "Bedroom and Bathroom has got less correlation with price. But it is common than price of the property tend to increase as the no of bathroom and bedroom increases. It looks some other variable like location (latitude and longitude) and feature may got high impact on price than the above features.",
      "metadata": {}
    },
    {
      "cell_type": "markdown",
      "source": "## Kindly Upvote if you like the notebook  ##",
      "metadata": {}
    },
    {
      "cell_type": "code",
      "source": "",
      "execution_count": null,
      "outputs": [],
      "metadata": {}
    }
  ]
}