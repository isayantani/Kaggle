{
  "metadata": {
    "kernelspec": {
      "name": "python"
    },
    "language_info": {
      "name": "python",
      "version": "3.5.1"
    }
  },
  "nbformat": 4,
  "nbformat_minor": 0,
  "cells": [
    {
      "cell_type": "markdown",
      "source": "Hello again! \n\nThis notebook follows from the one I did on the analysis of the \"manager_id\" feature in the dataset (https://www.kaggle.com/den3b81/two-sigma-connect-rental-listing-inquiries/do-managers-matter-some-insights-on-manager-id).\n\nThis time I try to get some insights on \"building_id\" and the \"interest_level\" for different buildings.\n\nAgain, let me know what you think about it and \"up it\" if you liked it.",
      "metadata": {}
    },
    {
      "cell_type": "code",
      "source": "# let's load the usual packages first\nimport numpy as np\nimport pandas as pd\nimport matplotlib.pyplot as plt\n\n%matplotlib inline",
      "execution_count": null,
      "outputs": [],
      "metadata": {}
    },
    {
      "cell_type": "code",
      "source": "# ... and get the data...\ntrain_df = pd.read_json('../input/train.json')\ntest_df = pd.read_json('../input/test.json')\nprint(train_df.shape, test_df.shape)",
      "execution_count": null,
      "outputs": [],
      "metadata": {}
    },
    {
      "cell_type": "markdown",
      "source": "To start with let's see how many different buildings we have on both datasets.",
      "metadata": {}
    },
    {
      "cell_type": "code",
      "source": "bld_train_list = train_df.building_id.unique()\nbld_test_list = test_df.building_id.unique()\nprint(\"Train : {0}\".format(len(bld_train_list)))\nprint(\"Test  : {0}\".format(len(bld_test_list)))\nprint(\"\\nAverage entries for building in Train : {0: 1.3f}\".format(len(train_df)/len(bld_train_list)))\nprint(\"Average entries for building in Test  : {0: 1.3f}\".format(len(test_df)/len(bld_test_list)))",
      "execution_count": null,
      "outputs": [],
      "metadata": {}
    },
    {
      "cell_type": "markdown",
      "source": "That's quite a lot of buildings, and we have on average only a handful of entries for each building. \n\nActually there are even more buildings than those just reported here, since many building are grouped together under a single 'id'. This will result in even lower average figures of entries-per-building.\n\nLet's see this by creating a dataframe with all the train and test buildings, including the number of entries that refer to them.",
      "metadata": {}
    },
    {
      "cell_type": "code",
      "source": "# create dataframe\ntemp1 = train_df.groupby('building_id').count().iloc[:,-1]\ntemp2 = test_df.groupby('building_id').count().iloc[:,-1]\ndf_buildings = pd.concat([temp1,temp2], axis = 1, join = 'outer')\ndf_buildings.columns = ['train_count','test_count']\nprint(df_buildings.head(10))",
      "execution_count": null,
      "outputs": [],
      "metadata": {}
    },
    {
      "cell_type": "markdown",
      "source": "See the building labeled as '0'?! What is this? An anthill with thousands of apartments, or a legion of unlabeled buildings?\n\n**The entries for '0' account for a big chunk of the whole datasets, over 15%**. \n\nTo be more precise:",
      "metadata": {}
    },
    {
      "cell_type": "code",
      "source": "print(\"{0:2.3f}%\".format(df_buildings.loc['0','train_count']/len(train_df)*100))\nprint(\"{0:2.3f}%\".format(df_buildings.loc['0','test_count']/len(test_df)*100))",
      "execution_count": null,
      "outputs": [],
      "metadata": {}
    },
    {
      "cell_type": "markdown",
      "source": "It's easy to see that '0' stands for a group of several other buildings. See, they are allover NYC...",
      "metadata": {}
    },
    {
      "cell_type": "code",
      "source": "ixes0 = (train_df.building_id == '0')\nplt.scatter(train_df[ixes0]['longitude'],train_df[ixes0]['latitude'])\nplt.gca().set_xlim(-74.15,-73.7)\nplt.gca().set_ylim(40.5,41)",
      "execution_count": null,
      "outputs": [],
      "metadata": {}
    },
    {
      "cell_type": "markdown",
      "source": "But how many of them there are? \n\nWe can group by \"longitude\" and \"latitude\", hoping that these values are precises and able to pinpoint a unique building in the map. Alternatively, we could group by 'street_address' or 'display_address'.",
      "metadata": {}
    },
    {
      "cell_type": "code",
      "source": "gby0 = train_df[ixes0].groupby(['longitude','latitude'])\nprint(\"Total number of unique buildings ['longitude','latitude']: {0}\".format(len(gby0.count())))\ngby0a = train_df[ixes0].groupby(['display_address'])\nprint(\"Total number of unique buildings ['display_address']: {0}\".format(len(gby0a.count())))\ngby0b = train_df[ixes0].groupby(['street_address'])\nprint(\"Total number of unique buildings ['street_address']: {0}\".format(len(gby0b.count())))",
      "execution_count": null,
      "outputs": [],
      "metadata": {}
    },
    {
      "cell_type": "markdown",
      "source": "The first option seems more promising since it reduces the number of buildings and it avoids problems due to different, wrong or incomplete addresses, such as:",
      "metadata": {}
    },
    {
      "cell_type": "code",
      "source": "print('Same building, different addresses (one more space character)\\n')\nprint(gby0['display_address'].value_counts().loc[-73.9586,40.7704])\nprint('\\n\\nSame addresses (incomplete), different buildings\\n')\nprint(gby0['display_address'].value_counts().loc[-74.0122,[40.7029,40.7040]])",
      "execution_count": null,
      "outputs": [],
      "metadata": {}
    },
    {
      "cell_type": "markdown",
      "source": "Anyway, grouping by lon/lat may also give some problems... (or spot some errors in the data entry of the addresses?)",
      "metadata": {}
    },
    {
      "cell_type": "code",
      "source": "print('Same coordinates, but different addresses (?!)\\n')\nprint(gby0['street_address'].value_counts().loc[-74.0134,40.7056])",
      "execution_count": null,
      "outputs": [],
      "metadata": {}
    },
    {
      "cell_type": "markdown",
      "source": "... well, let's forget about this and have a look at the locations labeled as '0' with most entries..",
      "metadata": {}
    },
    {
      "cell_type": "code",
      "source": "gby0['street_address'].value_counts().sort_values(ascending = False).head(10)",
      "execution_count": null,
      "outputs": [],
      "metadata": {}
    },
    {
      "cell_type": "markdown",
      "source": "Indeed it seems like some of these buildings have enough entries to deserve their own 'building_id'!\n\nHowever, fragmentation still reigns within 'building_id' == 0' as most locations seem to have only a few entries.",
      "metadata": {}
    },
    {
      "cell_type": "code",
      "source": "gby0['street_address'].value_counts().sort_values(ascending = False).plot(kind = 'hist', bins = 50)",
      "execution_count": null,
      "outputs": [],
      "metadata": {}
    },
    {
      "cell_type": "markdown",
      "source": "Let's complete this first part by looking at the averaged interest levels for group '0'...",
      "metadata": {}
    },
    {
      "cell_type": "code",
      "source": "print('Average interest levels for group 0')\nprint(train_df[ixes0]['interest_level'].value_counts()/sum(ixes0))\nprint('\\nOverall average')\nprint(train_df['interest_level'].value_counts()/len(train_df))",
      "execution_count": null,
      "outputs": [],
      "metadata": {}
    },
    {
      "cell_type": "markdown",
      "source": "Oh...!!! The entries for 'building_id' = 0 **are substantially less interesting than the average!** \n\nOne could always say the interest level is 'low' and be correct 9 times out of 10!",
      "metadata": {}
    },
    {
      "cell_type": "markdown",
      "source": "This should be further investigated, I reckon, but let's now forget about 'group 0' and consider the buildings with most entries having proper ids.\n\nIn particular, let's focus on the top 100 (according to the training dataset).",
      "metadata": {}
    },
    {
      "cell_type": "code",
      "source": "print(df_buildings.drop('0').sort_values(by = 'train_count',ascending = False).head(100))",
      "execution_count": null,
      "outputs": [],
      "metadata": {}
    },
    {
      "cell_type": "markdown",
      "source": "They have entries in both datasets, and these numbers seem fairly correlated.",
      "metadata": {}
    },
    {
      "cell_type": "code",
      "source": "df_buildings.drop('0').sort_values(by = 'train_count',ascending = False).head(100).corr()",
      "execution_count": null,
      "outputs": [],
      "metadata": {}
    },
    {
      "cell_type": "code",
      "source": "temp = df_buildings.drop('0').sort_values(by = 'train_count',ascending = False).head(100)\nplt.scatter(temp['train_count'],temp['test_count'])",
      "execution_count": null,
      "outputs": [],
      "metadata": {}
    },
    {
      "cell_type": "markdown",
      "source": "These top 100 account for a good 20% of the whole training dataset (similar figures for the test dataset)",
      "metadata": {}
    },
    {
      "cell_type": "code",
      "source": "temp = df_buildings.drop('0')['train_count'].sort_values(ascending = False).head(100)\ntemp = pd.concat([temp,temp.cumsum()/df_buildings['train_count'].sum()*100], axis = 1).reset_index()\ntemp.columns = ['building_id','count','cumulative percentage']\nprint(temp.head())\nprint('----------------')\nprint('----------------')\nprint(temp.tail())",
      "execution_count": null,
      "outputs": [],
      "metadata": {}
    },
    {
      "cell_type": "markdown",
      "source": "Let us consider now the average interest levels for these 100 buildings. Dummies are used for the three levels.",
      "metadata": {}
    },
    {
      "cell_type": "code",
      "source": "bld_list = temp['building_id']\nixes = train_df.building_id.isin(bld_list)\ndf100 = train_df[ixes][['building_id','interest_level']]\ninterest_dummies = pd.get_dummies(df100.interest_level)\ndf100 = pd.concat([df100,interest_dummies[['low','medium','high']]], axis = 1).drop('interest_level', axis = 1)\nprint(df100.head())",
      "execution_count": null,
      "outputs": [],
      "metadata": {}
    },
    {
      "cell_type": "code",
      "source": "# compute means and concat with count\ngby = pd.concat([df100.groupby('building_id').mean(),df100.groupby('building_id').count()], axis = 1).iloc[:,:-2]\ngby.columns = ['low','medium','high','count']\nprint(gby.sort_values(by = 'count', ascending = False).head())",
      "execution_count": null,
      "outputs": [],
      "metadata": {}
    },
    {
      "cell_type": "code",
      "source": "# let's visualize them with a stacked bar chart\ngby.sort_values(by = 'count', ascending = False).drop('count', axis = 1).plot(kind = 'bar', stacked = True, figsize = (15,5))\nplt.figure()\ngby.sort_values(by = 'count', ascending = False)['count'].plot(kind = 'bar', figsize = (15,5))",
      "execution_count": null,
      "outputs": [],
      "metadata": {}
    },
    {
      "cell_type": "markdown",
      "source": "I see more homogeneous interest levels with respect to my previous analysis on 'manager_id'  (https://www.kaggle.com/den3b81/two-sigma-connect-rental-listing-inquiries/do-managers-matter-some-insights-on-manager-id).\n\nAs done in that notebook for the manager' skill, we can compute now an \"average\" measure of interest by assigning 0 points for \"lows\", 1 for \"mediums\" and 2 for \"highs\".\n\nThe distribution of this variable is less skewed than the one we obtained for the manager skill and it has less extreme values, suggesting more homogeneity in the interest levels across different buildings.",
      "metadata": {}
    },
    {
      "cell_type": "code",
      "source": "gby['avg_interest'] = gby['medium']*1 + gby['high']*2 \n\nprint(\"Top performers\")\nprint(gby.sort_values(by = 'avg_interest', ascending = False).reset_index().head())\nprint(\"\\nWorst performers\")\nprint(gby.sort_values(by = 'avg_interest', ascending = False).reset_index().tail())",
      "execution_count": null,
      "outputs": [],
      "metadata": {}
    },
    {
      "cell_type": "code",
      "source": "gby.avg_interest.plot(kind = 'hist')\nprint(gby.mean().drop('count'))",
      "execution_count": null,
      "outputs": [],
      "metadata": {}
    },
    {
      "cell_type": "markdown",
      "source": "That's all for now folks!",
      "metadata": {}
    }
  ]
}