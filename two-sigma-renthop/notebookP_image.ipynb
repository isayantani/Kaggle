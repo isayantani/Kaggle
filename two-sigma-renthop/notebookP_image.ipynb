{
  "metadata": {
    "kernelspec": {
      "display_name": "Python 3",
      "language": "python",
      "name": "python3"
    },
    "language_info": {
      "codemirror_mode": {
        "name": "ipython",
        "version": 3
      },
      "file_extension": ".py",
      "mimetype": "text/x-python",
      "name": "python",
      "nbconvert_exporter": "python",
      "pygments_lexer": "ipython3",
      "version": "3.6.0"
    }
  },
  "nbformat": 4,
  "nbformat_minor": 0,
  "cells": [
    {
      "cell_type": "markdown",
      "source": "Colorspace\n==========",
      "metadata": {}
    },
    {
      "cell_type": "code",
      "source": "from PIL import Image, ImageDraw, ImageFilter\nimport matplotlib.pyplot as plt\n%matplotlib inline\nimport nltk\nimport glob\n\nplt.rcParams['figure.figsize'] = (10.0, 10.0)\nimages = sorted(glob.glob('../input/images_sample/**/**.jpg'))\nfor im in images:\n    im = Image.open(im)\n    h, w = im.size\n    qu = im.quantize(colors=8, kmeans=4)\n    crgb = qu.convert('RGB')\n    col_rank = sorted(crgb.getcolors(h*w), reverse=True)\n    print(col_rank) #legend\n    draw = ImageDraw.Draw(im)\n    i = 0\n    for cnt, rgb in col_rank:\n        draw.rectangle([(10, i*40+10),(40, i*40+30)], fill=(rgb[0],rgb[1],rgb[2]), outline=(0,0,0))\n        draw.text((10, i*40+30), str(cnt), fill=(0,0,0))\n        i += 1\n    del draw\n    plt.imshow(im); plt.axis('off')\n    break",
      "execution_count": null,
      "outputs": [],
      "metadata": {}
    },
    {
      "cell_type": "markdown",
      "source": "Image Statistics\n================",
      "metadata": {}
    },
    {
      "cell_type": "code",
      "source": "from PIL import ImageStat\nfor im in images:\n    img = Image.open(im)\n    stats = ImageStat.Stat(img, mask=None)\n    print(stats.extrema)\n    print(stats.count)\n    print(stats.sum)\n    print(stats.sum2)\n    print(stats.mean)\n    print(stats.median)\n    print(stats.rms)\n    print(stats.var)\n    print(stats.stddev)\n    plt.imshow(img); plt.axis('off')\n    break",
      "execution_count": null,
      "outputs": [],
      "metadata": {}
    },
    {
      "cell_type": "markdown",
      "source": "OCR Watermarks or Floor Plans for features\n==========================================",
      "metadata": {}
    },
    {
      "cell_type": "code",
      "source": "from PIL import Image\n#import pytesseract #sudo apt-get install tesseract-ocr or submit pull request to Kaggle Docker\nimport glob\n\n#images = glob.glob('../input/images_sample/**/**.jpg')\n#for im in images:\n#    img = Image.open(im) #rotate images 90 degrees\n#    t = pytesseract.image_to_string(img)\n#    if len(t)>0:\n#        print(im, '\\n', t)\n\n\"\"\"\n../input/images_sample/6812223/6812223_906d2825311544e3ef052c315f4dddb7.jpg \n HABITATS\n../input/images_sample/6811964/6811964_552eab2b6974e995b419654faecc1cd8.jpg \n BALCONY\n\nGreenhouse ubwa\na! m Mlnnv\n\nLIVING ROOM\nI2‘-5'n I9‘-2\"\n\nEEDROOM\nI! an IE Lo\"\n../input/images_sample/6811974/6811974_39be7f428f80beda5163e909ea05a95a.jpg \n MLLEJRE\n../input/images_sample/6811974/6811974_197bb9515b3d7929c2848e61a050ad1a.jpg \n U\nBALCONY\nUV‘NG/DININE\nH M' X Wl'\nm\nm x m- E\nr ..\nKIT NT ll:\nL D\n—H Vi-\nAIH STURAE\n\"\"\"\nprint('OCR..')",
      "execution_count": null,
      "outputs": [],
      "metadata": {}
    },
    {
      "cell_type": "markdown",
      "source": "Image Exif Tags\n===============",
      "metadata": {}
    },
    {
      "cell_type": "code",
      "source": "from PIL import Image, ExifTags\n\nimg = Image.open('../input/images_sample/6811960/6811960_3685d3542328b820980642535d8ccb72.jpg')\nex = img._getexif()\nif ex != None:\n    for (k,v) in img._getexif().items():\n            print (ExifTags.TAGS.get(k), v)",
      "execution_count": null,
      "outputs": [],
      "metadata": {}
    },
    {
      "cell_type": "markdown",
      "source": "Image Hash (Duplicate Images)\n===============",
      "metadata": {}
    },
    {
      "cell_type": "code",
      "source": "import numpy as np\nimport imagehash, hashlib\nimport random\n\nimages = glob.glob('../input/images_sample/6812098/**.jpg') #just comparing two folders for demo\nimages += glob.glob('../input/images_sample/6812035/**.jpg')\n\nfor im in range(100):\n    im1 = random.choice(images)\n    im2 = random.choice(images)\n    h1 = imagehash.dhash(Image.open(im1))\n    h2 = imagehash.dhash(Image.open(im2))\n    feature = h1 - h2\n    if feature < 7 and im1 != im2:\n        print(feature, im1, im2)\n        imgx = np.concatenate((Image.open(im1).resize((400, 400), Image.ANTIALIAS), Image.open(im2).resize((400, 400), Image.ANTIALIAS)), axis=1)\n        plt.imshow(imgx); plt.axis('off')\n        break",
      "execution_count": null,
      "outputs": [],
      "metadata": {}
    },
    {
      "cell_type": "markdown",
      "source": "Image and Folder Timestamps\n===========================",
      "metadata": {}
    },
    {
      "cell_type": "code",
      "source": "import glob, os\nfrom datetime import datetime as dt\n\nfolders = glob.glob('../input/images_sample/*')\ns = os.stat(folders[0])\nprint(folders[0],s)\nprint(os.path.getatime(folders[0]), os.path.getmtime(folders[0]), os.path.getctime(folders[0]))\nprint(dt.fromtimestamp(os.path.getatime(folders[0])))\nprint('-'*60)\nimages = glob.glob('../input/images_sample/**/**.jpg')\ns = os.stat(images[0])\nprint(images[0],s)\nprint(os.path.getatime(images[0]), os.path.getmtime(images[0]), os.path.getctime(images[0]))\nprint(dt.fromtimestamp(os.path.getatime(images[0])))",
      "execution_count": null,
      "outputs": [],
      "metadata": {}
    },
    {
      "cell_type": "markdown",
      "source": "Model Example\n=============",
      "metadata": {}
    },
    {
      "cell_type": "code",
      "source": "import time; start_time = time.time()\nfrom sklearn.feature_extraction.text import TfidfVectorizer\nfrom sklearn import model_selection, preprocessing\nfrom sklearn.base import BaseEstimator, TransformerMixin\nfrom sklearn.decomposition import TruncatedSVD\nfrom sklearn.pipeline import FeatureUnion\nfrom sklearn.metrics import log_loss\nfrom sklearn import pipeline\nimport pandas as pd\nimport numpy as np\nfrom nltk.stem.porter import *\nstemmer = PorterStemmer()\nfrom bs4 import BeautifulSoup\nimport random; random.seed(7)\nimport xgboost as xgb\nimport datetime as dt\n\ntrain = pd.read_json(open(\"../input/train.json\", \"r\"))[:100] #limit\ny = train.interest_level.values\nn = len(train)\n\ntest = pd.read_json(open(\"../input/test.json\", \"r\"))[:100] #limit\nlisting_id = test.listing_id.values\n\ncol = [x for x in train.columns if x not in ['listing_id','interest_level','street_address']]\nprint(col)\nprint(len(train),len(test))\n\ndef str_stem(s): \n    if isinstance(s, str):\n        s = s.lower()\n        s = s.replace(\"  \",\" \")\n        b = BeautifulSoup(s, \"lxml\")\n        s = b.get_text(\" \").strip()\n        s = (\" \").join([z for z in s.split(\" \")])\n        s = (\" \").join([stemmer.stem(z) for z in s.split(\" \")])\n        s = s.lower().strip()\n        return s\n    else:\n        return \"\"\n\nclass cust_regression_vals(BaseEstimator, TransformerMixin):\n    def fit(self, x, y=None):\n        return self\n    def transform(self, df):\n        d_col_drops=['xdescription', 'ydescription']\n        df = df.drop(d_col_drops, axis=1).values\n        return df\n\nclass cust_txt_col(BaseEstimator, TransformerMixin):\n    def __init__(self, key):\n        self.key = key\n    def fit(self, x, y=None):\n        return self\n    def transform(self, data_dict):\n        return data_dict[self.key].apply(str)\n    \ndf_all = pd.concat((train[col], test[col]), axis=0, ignore_index=True)\ntrain = []\ntest = []\n\ndf_all['photos'] = df_all.photos.apply(len)\n\ndf_all[\"price_be\"] = df_all[\"price\"]/df_all[\"bedrooms\"]\ndf_all[\"price_ba\"] = df_all[\"price\"]/df_all[\"bathrooms\"]\n\ndf_all[\"created\"] = pd.to_datetime(df_all[\"created\"])\ndf_all[\"created_year\"] = df_all[\"created\"].dt.year\ndf_all[\"created_month\"] = df_all[\"created\"].dt.month\ndf_all[\"created_day\"] = df_all[\"created\"].dt.day\ndf_all['created_hour'] = df_all[\"created\"].dt.hour\ndf_all['created_weekday'] = df_all['created'].dt.weekday\ndf_all['created_week'] = df_all['created'].dt.week\ndf_all['created_quarter'] = df_all['created'].dt.quarter\ndf_all['created_weekend'] = ((df_all['created_weekday'] == 5) & (df_all['created_weekday'] == 6))\ndf_all['created_wd'] = ((df_all['created_weekday'] != 5) & (df_all['created_weekday'] != 6))\ndf_all['created'] = df_all['created'].map(lambda x: float((x - dt.datetime(1899, 12, 30)).days) + (float((x - dt.datetime(1899, 12, 30)).seconds) / 86400))\n\ndf_all['x5'] = df_all['latitude'].map(lambda x : round(x,5))\ndf_all['y5'] = df_all['longitude'].map(lambda x : round(x,5))\ndf_all['x4'] = df_all['latitude'].map(lambda x : round(x,4))\ndf_all['y4'] = df_all['longitude'].map(lambda x : round(x,4))\ndf_all['x3'] = df_all['latitude'].map(lambda x : round(x,3))\ndf_all['y3'] = df_all['longitude'].map(lambda x : round(x,3))\ndf_all['x2'] = df_all['latitude'].map(lambda x : round(x,2))\ndf_all['y2'] = df_all['longitude'].map(lambda x : round(x,2))\n\ndummies = df_all['features'].str.join(sep=',').str.lower().str.get_dummies(sep=',')\ndf_all = pd.concat([df_all, dummies], axis=1)\ndummies = []\ndf_all['features'] = df_all.features.apply(len)\n\ncat = ['building_id',  'description', 'display_address', 'manager_id']\nlbl = preprocessing.LabelEncoder()\nfor c in cat:\n    if c in ['description']:\n        df_all['x'+c] = df_all[c].map(lambda x:str_stem(x))\n        df_all['y'+c] = df_all[c].values\n    df_all['words_of_'+c] = df_all[c].map(lambda x:len(x.strip().split(' ')))\n    df_all['len_of_'+c] = df_all[c].map(lambda x:len(x.strip()))\n    df_all[c] = lbl.fit_transform(list(df_all[c].values))\n    print(c, len(lbl.classes_))\n\ntrain = df_all.iloc[:n]\ntest = df_all.iloc[n:]\n#df_all = []\n\ntfidf = TfidfVectorizer(stop_words ='english', max_df=0.9)\ntsvd = TruncatedSVD(n_components=25, random_state = 7)\nclf = pipeline.Pipeline([\n        ('union', FeatureUnion(\n                    transformer_list = [\n                        ('cst',  cust_regression_vals()),\n                        ('txt1', pipeline.Pipeline([('s1', cust_txt_col(key='xdescription')), ('tfidf1', tfidf), ('tsvd1', tsvd)])),\n                        ('txt2', pipeline.Pipeline([('s2', cust_txt_col(key='ydescription')), ('tfidf2', tfidf), ('tsvd2', tsvd)]))\n                        ],\n                    transformer_weights = {\n                        'cst': 1.0,\n                        'txt1': 1.0,\n                        'txt2': 1.0\n                        },\n                n_jobs = -1\n                ))])\n\ny_val = lbl.fit_transform(y)\nxtrain = pd.DataFrame(clf.fit_transform(train)).apply(pd.to_numeric)\nxtrain = xgb.DMatrix(xtrain.values, y_val)\nxtest = pd.DataFrame(clf.transform(test)).apply(pd.to_numeric)\nxtest = xgb.DMatrix(xtest.values)\n\nparam = {}\nparam['objective'] = 'multi:softprob'\nparam['eta'] = 0.1\n#param['max_depth'] = 4\nparam['silent'] = True\nparam['num_class'] = 3\nparam['eval_metric'] = \"mlogloss\"\nparam['min_child_weight'] = 1\nparam['subsample'] = 0.7\nparam['colsample_bytree'] = 0.7\nparam['seed'] = 7\nplst = list(param.items())\nnfolds = 5\nnrounds = 100\n\nmodel = xgb.cv(plst, xtrain, nrounds, nfolds, early_stopping_rounds=20, verbose_eval=25)\nbest_rounds = np.argmin(model['test-mlogloss-mean'])\nmodel = xgb.train(plst, xtrain, best_rounds)\nprint(log_loss(y_val, model.predict(xtrain)))\npreds = model.predict(xtest)\nout_df = pd.DataFrame(preds)\nout_df.columns = lbl.inverse_transform(out_df.columns)\nout_df[\"listing_id\"] = listing_id\nout_df.to_csv(\"z09submission01.csv\", index=False)\nprint('Done...',(time.time()-start_time)/60)",
      "execution_count": null,
      "outputs": [],
      "metadata": {}
    },
    {
      "cell_type": "markdown",
      "source": "Future Review\n=============\n- Can appliances be identified\n- Can room be measured\n- What kind of flooring\n- Can windows and their view be ranked\n- Can defects be identified\n- Is it furnished, someone living there\n- Has picture been photoshopped (altered)\n- Add your own to the list on comments and fork to suggest/showcase additional features",
      "metadata": {}
    }
  ]
}